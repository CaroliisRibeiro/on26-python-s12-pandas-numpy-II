{
 "cells": [
  {
   "cell_type": "markdown",
   "metadata": {
    "id": "aMKnRGLzS_me"
   },
   "source": [
    "# S12 -Tratamento de dados utilizando pandas e numpy - parte 2\n",
    "\n",
    "**Objetivo da aula:** Introduzir o conceito de visualização de dados e como utilizar consultas, filtros e agrupamentos em Pandas (com um pouco de matploblib) para a geração de gráficos com insights importantes ao contexto da análise. No fim, introduzir o conceito da biblioteca Numpy utilizando as duas bibliotecas (Numpy e Pandas) em um contexto de análise de dados.\n",
    "\n",
    "O dataset utilizado é o mesmo da aula anterior: 'Titanic'.\n"
   ]
  },
  {
   "cell_type": "markdown",
   "metadata": {
    "id": "PQilYsBgS_ml"
   },
   "source": [
    "## Pensamento analítico\n",
    "\n",
    "A capacidade analítica já é considerada um requisito básico entre determinados cargos e essa é uma habilidade fundamental para desenvolvedores e analistas de dados.\n",
    "\n",
    "A capacidade analítica está relacionada a outra qualificação de destaque no mercado atualmente: a tomada de decisão. Profissionais que entendem o que os dados mostram conseguem tomar decisões certeiras diante da estratégia do negócio pois embasam as suas decisões sempre que precisam dar passos importantes, projetando cenários e interpretando dados.\n",
    "\n",
    "### Como desenvolver a Capacidade Analítica?\n",
    "\n",
    "    - Desenvolver senso crítico na análise de situações\n",
    "    - Se expor a diferentes assuntos e ideias\n",
    "    - Fazer cursos relacionados à análise de dados\n",
    "    - Entender tipos de análises de dados\n",
    "    - Criar uma visão mais abrangente da sua área\n",
    "\n",
    "\n",
    "\n",
    "[Fonte](https://blog.somostera.com/lideranca-baseada-em-dados/capacidade-analitica)"
   ]
  },
  {
   "cell_type": "markdown",
   "metadata": {
    "id": "vZpmn9A8S_ml"
   },
   "source": [
    "**Dinâmica**: 20 minutos\n",
    "\n",
    "***Quais são os insights que gostaríamos de obter a partir dos dados que obtemos do dataset?***\n",
    "\n",
    "**Exemplo:** % de sobrevivência dada a sua classe, sexo, preço da passagem, idade, etc\n"
   ]
  },
  {
   "cell_type": "markdown",
   "metadata": {
    "id": "e_UiUp01S_mm"
   },
   "source": [
    "#### Visualização de dados\n",
    "\n",
    "O conceito de visualização de dados é bem simples. Ela nada mais é que a representação gráfica, estática ou em movimento, da análise de dados e indicadores de natureza variada.\n",
    "\n",
    "[Fonte](https://www.oncase.com.br/blog/data-analytics/visualizacao-de-dados/)\n",
    "\n",
    "[Fonte](https://www.cursospm3.com.br/blog/data-visualization-o-que-e-dataviz-e-importancia-para-produto/)\n",
    "\n",
    "[Fonte](https://www.linkedin.com/pulse/por-que-visualiza%C3%A7%C3%A3o-de-dados-%C3%A9-importante-para-voc%C3%AA-e-veiga-r-/?originalSubdomain=pt)\n",
    "\n",
    "[Importância da visualização de dados na era do Big Data](https://lume.ufrgs.br/handle/10183/169109)\n",
    "\n",
    "&nbsp;\n",
    "\n",
    "### Quarteto de Anscombe\n",
    "[Quarteto de Anscombe](https://acervolima.com/quarteto-de-anscombe/)\n",
    "\n",
    "O quarteto de Anscombe (Anscombe, 1973) é uma maneira de ilustrar a importância de visualizações na análise de dados. Deve-se sempre olhar um conjunto de dados graficamente antes de começar a qualquer análise. Em especial, são ilustrados diversos contextos nos quais as propriedades estatísticas básicas para descrever conjuntos de dados são inadequadas.\n",
    "\n",
    "[Fonte](https://storopoli.io/Estatistica/aux-Anscombe.html)\n",
    "\n",
    "[Fonte](https://spacedata.com.br/quarteto-de-anscombe-porque-voce-deve-sempre-visualizar-seus-dados/)"
   ]
  },
  {
   "cell_type": "markdown",
   "metadata": {
    "id": "_6BQoLOYS_m7"
   },
   "source": [
    "## Importância de gráficos na visualização de dados\n",
    "\n",
    "Gráficos se  propõem a diferentes usos: exploração, descoberta, interpretação, diagnóstico, comunicação, apresentação, destaque, clareza, contar uma história.\n",
    "\n",
    "Os gráficos são recursos visuais muito utilizados para facilitar a leitura e compreensão das informações e divulgação de pesquisas em jornais, revistas, panfletos, livros e televisão.\n",
    "\n",
    "[Fonte: Principais tipos de gráficos para educação básica](https://educa.ibge.gov.br/professores/educa-recursos/20773-tipos-de-graficos-no-ensino.html#:~:text=Os%20gr%C3%A1ficos%20s%C3%A3o%20recursos%20visuais,%2C%20panfletos%2C%20livros%20e%20televis%C3%A3o.)\n",
    "\n",
    "\n",
    "---\n",
    "\n",
    "Gráficos de colunas\n",
    "![](/S12/conteudo_e_codigo/images/colunas.png)\n",
    "[Fonte](https://educa.ibge.gov.br/professores/educa-recursos/20773-tipos-de-graficos-no-ensino.html#:~:text=Os%20gr%C3%A1ficos%20s%C3%A3o%20recursos%20visuais,%2C%20panfletos%2C%20livros%20e%20televis%C3%A3o.)\n",
    "\n",
    "Gráficos de barras\n",
    "![](/S12/conteudo_e_codigo/images/barras.png)\n",
    "[Fonte](https://educa.ibge.gov.br/professores/educa-recursos/20773-tipos-de-graficos-no-ensino.html#:~:text=Os%20gr%C3%A1ficos%20s%C3%A3o%20recursos%20visuais,%2C%20panfletos%2C%20livros%20e%20televis%C3%A3o.)\n",
    "\n",
    "Gráficos de linhas\n",
    "![](/S12/conteudo_e_codigo/images/linhas.png)\n",
    "[Fonte](https://educa.ibge.gov.br/professores/educa-recursos/20773-tipos-de-graficos-no-ensino.html#:~:text=Os%20gr%C3%A1ficos%20s%C3%A3o%20recursos%20visuais,%2C%20panfletos%2C%20livros%20e%20televis%C3%A3o.)\n",
    "\n"
   ]
  },
  {
   "cell_type": "code",
<<<<<<< HEAD
   "execution_count": 4,
   "metadata": {},
   "outputs": [],
   "source": [
    "import pandas as pd\n"
=======
   "execution_count": 1,
   "metadata": {},
   "outputs": [],
   "source": [
    "# carregando a biblioteca \n",
    "import pandas as pd"
>>>>>>> 5a6654f8197b36c253587db90c6485aaaad27d84
   ]
  },
  {
   "cell_type": "code",
<<<<<<< HEAD
   "execution_count": 6,
=======
   "execution_count": 2,
>>>>>>> 5a6654f8197b36c253587db90c6485aaaad27d84
   "metadata": {
    "id": "_eorJ3GNS_mm",
    "outputId": "14f2b233-cc14-4f8a-a041-98b4cb90d2cc"
   },
   "outputs": [
    {
     "data": {
      "text/html": [
       "<div>\n",
       "<style scoped>\n",
       "    .dataframe tbody tr th:only-of-type {\n",
       "        vertical-align: middle;\n",
       "    }\n",
       "\n",
       "    .dataframe tbody tr th {\n",
       "        vertical-align: top;\n",
       "    }\n",
       "\n",
       "    .dataframe thead th {\n",
       "        text-align: right;\n",
       "    }\n",
       "</style>\n",
       "<table border=\"1\" class=\"dataframe\">\n",
       "  <thead>\n",
       "    <tr style=\"text-align: right;\">\n",
       "      <th></th>\n",
       "      <th>PassengerId</th>\n",
       "      <th>Survived</th>\n",
       "      <th>Pclass</th>\n",
       "      <th>Name</th>\n",
       "      <th>Sex</th>\n",
       "      <th>Age</th>\n",
       "      <th>SibSp</th>\n",
       "      <th>Parch</th>\n",
       "      <th>Ticket</th>\n",
       "      <th>Fare</th>\n",
       "      <th>Cabin</th>\n",
       "      <th>Embarked</th>\n",
       "    </tr>\n",
       "  </thead>\n",
       "  <tbody>\n",
       "    <tr>\n",
       "      <th>0</th>\n",
       "      <td>1</td>\n",
       "      <td>0</td>\n",
       "      <td>3</td>\n",
       "      <td>Braund, Mr. Owen Harris</td>\n",
       "      <td>male</td>\n",
       "      <td>22.0</td>\n",
       "      <td>1</td>\n",
       "      <td>0</td>\n",
       "      <td>A/5 21171</td>\n",
       "      <td>7.2500</td>\n",
       "      <td>NaN</td>\n",
       "      <td>S</td>\n",
       "    </tr>\n",
       "    <tr>\n",
       "      <th>1</th>\n",
       "      <td>2</td>\n",
       "      <td>1</td>\n",
       "      <td>1</td>\n",
       "      <td>Cumings, Mrs. John Bradley (Florence Briggs Th...</td>\n",
       "      <td>female</td>\n",
       "      <td>38.0</td>\n",
       "      <td>1</td>\n",
       "      <td>0</td>\n",
       "      <td>PC 17599</td>\n",
       "      <td>71.2833</td>\n",
       "      <td>C85</td>\n",
       "      <td>C</td>\n",
       "    </tr>\n",
       "    <tr>\n",
       "      <th>2</th>\n",
       "      <td>3</td>\n",
       "      <td>1</td>\n",
       "      <td>3</td>\n",
       "      <td>Heikkinen, Miss. Laina</td>\n",
       "      <td>female</td>\n",
       "      <td>26.0</td>\n",
       "      <td>0</td>\n",
       "      <td>0</td>\n",
       "      <td>STON/O2. 3101282</td>\n",
       "      <td>7.9250</td>\n",
       "      <td>NaN</td>\n",
       "      <td>S</td>\n",
       "    </tr>\n",
       "    <tr>\n",
       "      <th>3</th>\n",
       "      <td>4</td>\n",
       "      <td>1</td>\n",
       "      <td>1</td>\n",
       "      <td>Futrelle, Mrs. Jacques Heath (Lily May Peel)</td>\n",
       "      <td>female</td>\n",
       "      <td>35.0</td>\n",
       "      <td>1</td>\n",
       "      <td>0</td>\n",
       "      <td>113803</td>\n",
       "      <td>53.1000</td>\n",
       "      <td>C123</td>\n",
       "      <td>S</td>\n",
       "    </tr>\n",
       "    <tr>\n",
       "      <th>4</th>\n",
       "      <td>5</td>\n",
       "      <td>0</td>\n",
       "      <td>3</td>\n",
       "      <td>Allen, Mr. William Henry</td>\n",
       "      <td>male</td>\n",
       "      <td>35.0</td>\n",
       "      <td>0</td>\n",
       "      <td>0</td>\n",
       "      <td>373450</td>\n",
       "      <td>8.0500</td>\n",
       "      <td>NaN</td>\n",
       "      <td>S</td>\n",
       "    </tr>\n",
       "    <tr>\n",
       "      <th>...</th>\n",
       "      <td>...</td>\n",
       "      <td>...</td>\n",
       "      <td>...</td>\n",
       "      <td>...</td>\n",
       "      <td>...</td>\n",
       "      <td>...</td>\n",
       "      <td>...</td>\n",
       "      <td>...</td>\n",
       "      <td>...</td>\n",
       "      <td>...</td>\n",
       "      <td>...</td>\n",
       "      <td>...</td>\n",
       "    </tr>\n",
       "    <tr>\n",
       "      <th>886</th>\n",
       "      <td>887</td>\n",
       "      <td>0</td>\n",
       "      <td>2</td>\n",
       "      <td>Montvila, Rev. Juozas</td>\n",
       "      <td>male</td>\n",
       "      <td>27.0</td>\n",
       "      <td>0</td>\n",
       "      <td>0</td>\n",
       "      <td>211536</td>\n",
       "      <td>13.0000</td>\n",
       "      <td>NaN</td>\n",
       "      <td>S</td>\n",
       "    </tr>\n",
       "    <tr>\n",
       "      <th>887</th>\n",
       "      <td>888</td>\n",
       "      <td>1</td>\n",
       "      <td>1</td>\n",
       "      <td>Graham, Miss. Margaret Edith</td>\n",
       "      <td>female</td>\n",
       "      <td>19.0</td>\n",
       "      <td>0</td>\n",
       "      <td>0</td>\n",
       "      <td>112053</td>\n",
       "      <td>30.0000</td>\n",
       "      <td>B42</td>\n",
       "      <td>S</td>\n",
       "    </tr>\n",
       "    <tr>\n",
       "      <th>888</th>\n",
       "      <td>889</td>\n",
       "      <td>0</td>\n",
       "      <td>3</td>\n",
       "      <td>Johnston, Miss. Catherine Helen \"Carrie\"</td>\n",
       "      <td>female</td>\n",
       "      <td>NaN</td>\n",
       "      <td>1</td>\n",
       "      <td>2</td>\n",
       "      <td>W./C. 6607</td>\n",
       "      <td>23.4500</td>\n",
       "      <td>NaN</td>\n",
       "      <td>S</td>\n",
       "    </tr>\n",
       "    <tr>\n",
       "      <th>889</th>\n",
       "      <td>890</td>\n",
       "      <td>1</td>\n",
       "      <td>1</td>\n",
       "      <td>Behr, Mr. Karl Howell</td>\n",
       "      <td>male</td>\n",
       "      <td>26.0</td>\n",
       "      <td>0</td>\n",
       "      <td>0</td>\n",
       "      <td>111369</td>\n",
       "      <td>30.0000</td>\n",
       "      <td>C148</td>\n",
       "      <td>C</td>\n",
       "    </tr>\n",
       "    <tr>\n",
       "      <th>890</th>\n",
       "      <td>891</td>\n",
       "      <td>0</td>\n",
       "      <td>3</td>\n",
       "      <td>Dooley, Mr. Patrick</td>\n",
       "      <td>male</td>\n",
       "      <td>32.0</td>\n",
       "      <td>0</td>\n",
       "      <td>0</td>\n",
       "      <td>370376</td>\n",
       "      <td>7.7500</td>\n",
       "      <td>NaN</td>\n",
       "      <td>Q</td>\n",
       "    </tr>\n",
       "  </tbody>\n",
       "</table>\n",
       "<p>891 rows × 12 columns</p>\n",
       "</div>"
      ],
      "text/plain": [
       "     PassengerId  Survived  Pclass  \\\n",
       "0              1         0       3   \n",
       "1              2         1       1   \n",
       "2              3         1       3   \n",
       "3              4         1       1   \n",
       "4              5         0       3   \n",
       "..           ...       ...     ...   \n",
       "886          887         0       2   \n",
       "887          888         1       1   \n",
       "888          889         0       3   \n",
       "889          890         1       1   \n",
       "890          891         0       3   \n",
       "\n",
       "                                                  Name     Sex   Age  SibSp  \\\n",
       "0                              Braund, Mr. Owen Harris    male  22.0      1   \n",
       "1    Cumings, Mrs. John Bradley (Florence Briggs Th...  female  38.0      1   \n",
       "2                               Heikkinen, Miss. Laina  female  26.0      0   \n",
       "3         Futrelle, Mrs. Jacques Heath (Lily May Peel)  female  35.0      1   \n",
       "4                             Allen, Mr. William Henry    male  35.0      0   \n",
       "..                                                 ...     ...   ...    ...   \n",
       "886                              Montvila, Rev. Juozas    male  27.0      0   \n",
       "887                       Graham, Miss. Margaret Edith  female  19.0      0   \n",
       "888           Johnston, Miss. Catherine Helen \"Carrie\"  female   NaN      1   \n",
       "889                              Behr, Mr. Karl Howell    male  26.0      0   \n",
       "890                                Dooley, Mr. Patrick    male  32.0      0   \n",
       "\n",
       "     Parch            Ticket     Fare Cabin Embarked  \n",
       "0        0         A/5 21171   7.2500   NaN        S  \n",
       "1        0          PC 17599  71.2833   C85        C  \n",
       "2        0  STON/O2. 3101282   7.9250   NaN        S  \n",
       "3        0            113803  53.1000  C123        S  \n",
       "4        0            373450   8.0500   NaN        S  \n",
       "..     ...               ...      ...   ...      ...  \n",
       "886      0            211536  13.0000   NaN        S  \n",
       "887      0            112053  30.0000   B42        S  \n",
       "888      2        W./C. 6607  23.4500   NaN        S  \n",
       "889      0            111369  30.0000  C148        C  \n",
       "890      0            370376   7.7500   NaN        Q  \n",
       "\n",
       "[891 rows x 12 columns]"
      ]
     },
<<<<<<< HEAD
     "execution_count": 6,
=======
     "execution_count": 2,
>>>>>>> 5a6654f8197b36c253587db90c6485aaaad27d84
     "metadata": {},
     "output_type": "execute_result"
    }
   ],
   "source": [
<<<<<<< HEAD
=======
    "# carregando o dataset \n",
>>>>>>> 5a6654f8197b36c253587db90c6485aaaad27d84
    "df = pd.read_csv(\"titanic.csv\")\n",
    "df"
   ]
  },
  {
   "cell_type": "markdown",
   "metadata": {
    "id": "boKqOy_KS_ms"
   },
   "source": [
    "Dever da aula passada: substituir as colunas em inglês pelas suas traduções em PT-BR. Um dos objetivos dessa aula é realizar consultas e filtragens, então as colunas em PT podem ajudar no entendimento."
   ]
  },
  {
   "cell_type": "code",
<<<<<<< HEAD
   "execution_count": 10,
=======
   "execution_count": 3,
>>>>>>> 5a6654f8197b36c253587db90c6485aaaad27d84
   "metadata": {
    "id": "ZuehjTU7S_mt",
    "outputId": "6ce66e1f-01d4-4889-f97f-50d5edae71e6"
   },
   "outputs": [
    {
<<<<<<< HEAD
     "name": "stdout",
     "output_type": "stream",
     "text": [
      "['IdPassageiro', 'Sobreviveu', 'Classe', 'Nome', 'Gênero', 'Idade', 'NumeroIrmaos', 'NumeroPais', 'NumeroTicket', 'PrecoTicket', 'NumeroCabine', 'PortoEmbarcacao']\n"
     ]
=======
     "data": {
      "text/plain": [
       "['IdPassageiro',\n",
       " 'Sobreviveu',\n",
       " 'Classe',\n",
       " 'Nome',\n",
       " 'Sexo',\n",
       " 'Idade',\n",
       " 'NumeroIrmaos',\n",
       " 'NumeroPais',\n",
       " 'NumeroTicket',\n",
       " 'PrecoTicket',\n",
       " 'NumeroCabine',\n",
       " 'PortoEmbarcacao']"
      ]
     },
     "execution_count": 3,
     "metadata": {},
     "output_type": "execute_result"
>>>>>>> 5a6654f8197b36c253587db90c6485aaaad27d84
    }
   ],
   "source": [
    "# Resolução\n",
    "traducoes = {\n",
    "    'PassengerId': 'IdPassageiro',\n",
    "    'Survived': 'Sobreviveu', # 0 = Não, 1 = Sim\n",
    "    'Pclass': 'Classe', # 1, 2, 3\n",
    "    'Name': 'Nome',\n",
    "    'Sex': 'Gênero',\n",
    "    'Age': 'Idade',\n",
    "    'SibSp': 'NumeroIrmaos',\n",
    "    'Parch':  'NumeroPais',\n",
    "    'Ticket': 'NumeroTicket',\n",
    "    'Fare': 'PrecoTicket',\n",
    "    'Cabin' : 'NumeroCabine',\n",
    "    'Embarked': 'PortoEmbarcacao' # C = Cherbourg, Q = Queenstown, S = Southampton\n",
    "}\n",
    "\n",
    "novas_colunas = []\n",
    "\n",
    "for chave, valor in traducoes.items():\n",
    "    novas_colunas.append(valor)\n",
    "\n",
    "novas_colunas"
   ]
  },
  {
   "cell_type": "code",
<<<<<<< HEAD
   "execution_count": 11,
=======
   "execution_count": 4,
>>>>>>> 5a6654f8197b36c253587db90c6485aaaad27d84
   "metadata": {
    "id": "h6tvl5HPS_mw",
    "outputId": "4639f186-8484-4780-f4dc-0a29f3cc759e"
   },
   "outputs": [
    {
     "data": {
      "text/html": [
       "<div>\n",
       "<style scoped>\n",
       "    .dataframe tbody tr th:only-of-type {\n",
       "        vertical-align: middle;\n",
       "    }\n",
       "\n",
       "    .dataframe tbody tr th {\n",
       "        vertical-align: top;\n",
       "    }\n",
       "\n",
       "    .dataframe thead th {\n",
       "        text-align: right;\n",
       "    }\n",
       "</style>\n",
       "<table border=\"1\" class=\"dataframe\">\n",
       "  <thead>\n",
       "    <tr style=\"text-align: right;\">\n",
       "      <th></th>\n",
       "      <th>IdPassageiro</th>\n",
       "      <th>Sobreviveu</th>\n",
       "      <th>Classe</th>\n",
       "      <th>Nome</th>\n",
<<<<<<< HEAD
       "      <th>Gênero</th>\n",
=======
       "      <th>Sexo</th>\n",
>>>>>>> 5a6654f8197b36c253587db90c6485aaaad27d84
       "      <th>Idade</th>\n",
       "      <th>NumeroIrmaos</th>\n",
       "      <th>NumeroPais</th>\n",
       "      <th>NumeroTicket</th>\n",
       "      <th>PrecoTicket</th>\n",
       "      <th>NumeroCabine</th>\n",
       "      <th>PortoEmbarcacao</th>\n",
       "    </tr>\n",
       "  </thead>\n",
       "  <tbody>\n",
       "    <tr>\n",
       "      <th>0</th>\n",
       "      <td>1</td>\n",
       "      <td>0</td>\n",
       "      <td>3</td>\n",
       "      <td>Braund, Mr. Owen Harris</td>\n",
       "      <td>male</td>\n",
       "      <td>22.0</td>\n",
       "      <td>1</td>\n",
       "      <td>0</td>\n",
       "      <td>A/5 21171</td>\n",
       "      <td>7.2500</td>\n",
       "      <td>NaN</td>\n",
       "      <td>S</td>\n",
       "    </tr>\n",
       "    <tr>\n",
       "      <th>1</th>\n",
       "      <td>2</td>\n",
       "      <td>1</td>\n",
       "      <td>1</td>\n",
       "      <td>Cumings, Mrs. John Bradley (Florence Briggs Th...</td>\n",
       "      <td>female</td>\n",
       "      <td>38.0</td>\n",
       "      <td>1</td>\n",
       "      <td>0</td>\n",
       "      <td>PC 17599</td>\n",
       "      <td>71.2833</td>\n",
       "      <td>C85</td>\n",
       "      <td>C</td>\n",
       "    </tr>\n",
       "    <tr>\n",
       "      <th>2</th>\n",
       "      <td>3</td>\n",
       "      <td>1</td>\n",
       "      <td>3</td>\n",
       "      <td>Heikkinen, Miss. Laina</td>\n",
       "      <td>female</td>\n",
       "      <td>26.0</td>\n",
       "      <td>0</td>\n",
       "      <td>0</td>\n",
       "      <td>STON/O2. 3101282</td>\n",
       "      <td>7.9250</td>\n",
       "      <td>NaN</td>\n",
       "      <td>S</td>\n",
       "    </tr>\n",
       "    <tr>\n",
       "      <th>3</th>\n",
       "      <td>4</td>\n",
       "      <td>1</td>\n",
       "      <td>1</td>\n",
       "      <td>Futrelle, Mrs. Jacques Heath (Lily May Peel)</td>\n",
       "      <td>female</td>\n",
       "      <td>35.0</td>\n",
       "      <td>1</td>\n",
       "      <td>0</td>\n",
       "      <td>113803</td>\n",
       "      <td>53.1000</td>\n",
       "      <td>C123</td>\n",
       "      <td>S</td>\n",
       "    </tr>\n",
       "    <tr>\n",
       "      <th>4</th>\n",
       "      <td>5</td>\n",
       "      <td>0</td>\n",
       "      <td>3</td>\n",
       "      <td>Allen, Mr. William Henry</td>\n",
       "      <td>male</td>\n",
       "      <td>35.0</td>\n",
       "      <td>0</td>\n",
       "      <td>0</td>\n",
       "      <td>373450</td>\n",
       "      <td>8.0500</td>\n",
       "      <td>NaN</td>\n",
       "      <td>S</td>\n",
       "    </tr>\n",
       "    <tr>\n",
       "      <th>...</th>\n",
       "      <td>...</td>\n",
       "      <td>...</td>\n",
       "      <td>...</td>\n",
       "      <td>...</td>\n",
       "      <td>...</td>\n",
       "      <td>...</td>\n",
       "      <td>...</td>\n",
       "      <td>...</td>\n",
       "      <td>...</td>\n",
       "      <td>...</td>\n",
       "      <td>...</td>\n",
       "      <td>...</td>\n",
       "    </tr>\n",
       "    <tr>\n",
       "      <th>886</th>\n",
       "      <td>887</td>\n",
       "      <td>0</td>\n",
       "      <td>2</td>\n",
       "      <td>Montvila, Rev. Juozas</td>\n",
       "      <td>male</td>\n",
       "      <td>27.0</td>\n",
       "      <td>0</td>\n",
       "      <td>0</td>\n",
       "      <td>211536</td>\n",
       "      <td>13.0000</td>\n",
       "      <td>NaN</td>\n",
       "      <td>S</td>\n",
       "    </tr>\n",
       "    <tr>\n",
       "      <th>887</th>\n",
       "      <td>888</td>\n",
       "      <td>1</td>\n",
       "      <td>1</td>\n",
       "      <td>Graham, Miss. Margaret Edith</td>\n",
       "      <td>female</td>\n",
       "      <td>19.0</td>\n",
       "      <td>0</td>\n",
       "      <td>0</td>\n",
       "      <td>112053</td>\n",
       "      <td>30.0000</td>\n",
       "      <td>B42</td>\n",
       "      <td>S</td>\n",
       "    </tr>\n",
       "    <tr>\n",
       "      <th>888</th>\n",
       "      <td>889</td>\n",
       "      <td>0</td>\n",
       "      <td>3</td>\n",
       "      <td>Johnston, Miss. Catherine Helen \"Carrie\"</td>\n",
       "      <td>female</td>\n",
       "      <td>NaN</td>\n",
       "      <td>1</td>\n",
       "      <td>2</td>\n",
       "      <td>W./C. 6607</td>\n",
       "      <td>23.4500</td>\n",
       "      <td>NaN</td>\n",
       "      <td>S</td>\n",
       "    </tr>\n",
       "    <tr>\n",
       "      <th>889</th>\n",
       "      <td>890</td>\n",
       "      <td>1</td>\n",
       "      <td>1</td>\n",
       "      <td>Behr, Mr. Karl Howell</td>\n",
       "      <td>male</td>\n",
       "      <td>26.0</td>\n",
       "      <td>0</td>\n",
       "      <td>0</td>\n",
       "      <td>111369</td>\n",
       "      <td>30.0000</td>\n",
       "      <td>C148</td>\n",
       "      <td>C</td>\n",
       "    </tr>\n",
       "    <tr>\n",
       "      <th>890</th>\n",
       "      <td>891</td>\n",
       "      <td>0</td>\n",
       "      <td>3</td>\n",
       "      <td>Dooley, Mr. Patrick</td>\n",
       "      <td>male</td>\n",
       "      <td>32.0</td>\n",
       "      <td>0</td>\n",
       "      <td>0</td>\n",
       "      <td>370376</td>\n",
       "      <td>7.7500</td>\n",
       "      <td>NaN</td>\n",
       "      <td>Q</td>\n",
       "    </tr>\n",
       "  </tbody>\n",
       "</table>\n",
       "<p>891 rows × 12 columns</p>\n",
       "</div>"
      ],
      "text/plain": [
       "     IdPassageiro  Sobreviveu  Classe  \\\n",
       "0               1           0       3   \n",
       "1               2           1       1   \n",
       "2               3           1       3   \n",
       "3               4           1       1   \n",
       "4               5           0       3   \n",
       "..            ...         ...     ...   \n",
       "886           887           0       2   \n",
       "887           888           1       1   \n",
       "888           889           0       3   \n",
       "889           890           1       1   \n",
       "890           891           0       3   \n",
       "\n",
<<<<<<< HEAD
       "                                                  Nome  Gênero  Idade  \\\n",
=======
       "                                                  Nome    Sexo  Idade  \\\n",
>>>>>>> 5a6654f8197b36c253587db90c6485aaaad27d84
       "0                              Braund, Mr. Owen Harris    male   22.0   \n",
       "1    Cumings, Mrs. John Bradley (Florence Briggs Th...  female   38.0   \n",
       "2                               Heikkinen, Miss. Laina  female   26.0   \n",
       "3         Futrelle, Mrs. Jacques Heath (Lily May Peel)  female   35.0   \n",
       "4                             Allen, Mr. William Henry    male   35.0   \n",
       "..                                                 ...     ...    ...   \n",
       "886                              Montvila, Rev. Juozas    male   27.0   \n",
       "887                       Graham, Miss. Margaret Edith  female   19.0   \n",
       "888           Johnston, Miss. Catherine Helen \"Carrie\"  female    NaN   \n",
       "889                              Behr, Mr. Karl Howell    male   26.0   \n",
       "890                                Dooley, Mr. Patrick    male   32.0   \n",
       "\n",
       "     NumeroIrmaos  NumeroPais      NumeroTicket  PrecoTicket NumeroCabine  \\\n",
       "0               1           0         A/5 21171       7.2500          NaN   \n",
       "1               1           0          PC 17599      71.2833          C85   \n",
       "2               0           0  STON/O2. 3101282       7.9250          NaN   \n",
       "3               1           0            113803      53.1000         C123   \n",
       "4               0           0            373450       8.0500          NaN   \n",
       "..            ...         ...               ...          ...          ...   \n",
       "886             0           0            211536      13.0000          NaN   \n",
       "887             0           0            112053      30.0000          B42   \n",
       "888             1           2        W./C. 6607      23.4500          NaN   \n",
       "889             0           0            111369      30.0000         C148   \n",
       "890             0           0            370376       7.7500          NaN   \n",
       "\n",
       "    PortoEmbarcacao  \n",
       "0                 S  \n",
       "1                 C  \n",
       "2                 S  \n",
       "3                 S  \n",
       "4                 S  \n",
       "..              ...  \n",
       "886               S  \n",
       "887               S  \n",
       "888               S  \n",
       "889               C  \n",
       "890               Q  \n",
       "\n",
       "[891 rows x 12 columns]"
      ]
     },
<<<<<<< HEAD
     "execution_count": 11,
=======
     "execution_count": 4,
>>>>>>> 5a6654f8197b36c253587db90c6485aaaad27d84
     "metadata": {},
     "output_type": "execute_result"
    }
   ],
   "source": [
    "df.columns = novas_colunas\n",
    "df"
   ]
  },
  {
   "cell_type": "markdown",
   "metadata": {
    "id": "JehELGwYS_mx"
   },
   "source": [
    "## Pandas\n",
    "\n",
    "### Consultas e filtros\n",
    "### Filtros\n",
    "\n",
    "A biblioteca pandas fornece diferentes maneiras de filtrar por valores de colunas, além de permitir a combinação de diferentes técnicas oferecidas, de forma a nos permitir manipular os dados com mais facilidade fornecendo subsets com as condições requeridas.\n",
    "\n",
    "\n",
    "[Fonte](https://sparkbyexamples.com/pandas/pandas-filter-by-column-value/)\n"
   ]
  },
  {
   "cell_type": "code",
<<<<<<< HEAD
   "execution_count": 12,
=======
   "execution_count": 5,
>>>>>>> 5a6654f8197b36c253587db90c6485aaaad27d84
   "metadata": {
    "id": "gZKfzWYAS_mx",
    "outputId": "cdc7a73b-0f3b-42ce-cdf2-f8322b15e686"
   },
   "outputs": [
    {
     "data": {
      "text/html": [
       "<div>\n",
       "<style scoped>\n",
       "    .dataframe tbody tr th:only-of-type {\n",
       "        vertical-align: middle;\n",
       "    }\n",
       "\n",
       "    .dataframe tbody tr th {\n",
       "        vertical-align: top;\n",
       "    }\n",
       "\n",
       "    .dataframe thead th {\n",
       "        text-align: right;\n",
       "    }\n",
       "</style>\n",
       "<table border=\"1\" class=\"dataframe\">\n",
       "  <thead>\n",
       "    <tr style=\"text-align: right;\">\n",
       "      <th></th>\n",
       "      <th>IdPassageiro</th>\n",
       "      <th>Sobreviveu</th>\n",
       "      <th>Classe</th>\n",
       "      <th>Nome</th>\n",
<<<<<<< HEAD
       "      <th>Gênero</th>\n",
=======
       "      <th>Sexo</th>\n",
>>>>>>> 5a6654f8197b36c253587db90c6485aaaad27d84
       "      <th>Idade</th>\n",
       "      <th>NumeroIrmaos</th>\n",
       "      <th>NumeroPais</th>\n",
       "      <th>NumeroTicket</th>\n",
       "      <th>PrecoTicket</th>\n",
       "      <th>NumeroCabine</th>\n",
       "      <th>PortoEmbarcacao</th>\n",
       "    </tr>\n",
       "  </thead>\n",
       "  <tbody>\n",
       "    <tr>\n",
       "      <th>0</th>\n",
       "      <td>1</td>\n",
       "      <td>0</td>\n",
       "      <td>3</td>\n",
       "      <td>Braund, Mr. Owen Harris</td>\n",
       "      <td>male</td>\n",
       "      <td>22.0</td>\n",
       "      <td>1</td>\n",
       "      <td>0</td>\n",
       "      <td>A/5 21171</td>\n",
       "      <td>7.2500</td>\n",
       "      <td>NaN</td>\n",
       "      <td>S</td>\n",
       "    </tr>\n",
       "    <tr>\n",
       "      <th>1</th>\n",
       "      <td>2</td>\n",
       "      <td>1</td>\n",
       "      <td>1</td>\n",
       "      <td>Cumings, Mrs. John Bradley (Florence Briggs Th...</td>\n",
       "      <td>female</td>\n",
       "      <td>38.0</td>\n",
       "      <td>1</td>\n",
       "      <td>0</td>\n",
       "      <td>PC 17599</td>\n",
       "      <td>71.2833</td>\n",
       "      <td>C85</td>\n",
       "      <td>C</td>\n",
       "    </tr>\n",
       "    <tr>\n",
       "      <th>2</th>\n",
       "      <td>3</td>\n",
       "      <td>1</td>\n",
       "      <td>3</td>\n",
       "      <td>Heikkinen, Miss. Laina</td>\n",
       "      <td>female</td>\n",
       "      <td>26.0</td>\n",
       "      <td>0</td>\n",
       "      <td>0</td>\n",
       "      <td>STON/O2. 3101282</td>\n",
       "      <td>7.9250</td>\n",
       "      <td>NaN</td>\n",
       "      <td>S</td>\n",
       "    </tr>\n",
       "    <tr>\n",
       "      <th>3</th>\n",
       "      <td>4</td>\n",
       "      <td>1</td>\n",
       "      <td>1</td>\n",
       "      <td>Futrelle, Mrs. Jacques Heath (Lily May Peel)</td>\n",
       "      <td>female</td>\n",
       "      <td>35.0</td>\n",
       "      <td>1</td>\n",
       "      <td>0</td>\n",
       "      <td>113803</td>\n",
       "      <td>53.1000</td>\n",
       "      <td>C123</td>\n",
       "      <td>S</td>\n",
       "    </tr>\n",
       "    <tr>\n",
       "      <th>4</th>\n",
       "      <td>5</td>\n",
       "      <td>0</td>\n",
       "      <td>3</td>\n",
       "      <td>Allen, Mr. William Henry</td>\n",
       "      <td>male</td>\n",
       "      <td>35.0</td>\n",
       "      <td>0</td>\n",
       "      <td>0</td>\n",
       "      <td>373450</td>\n",
       "      <td>8.0500</td>\n",
       "      <td>NaN</td>\n",
       "      <td>S</td>\n",
       "    </tr>\n",
       "    <tr>\n",
       "      <th>...</th>\n",
       "      <td>...</td>\n",
       "      <td>...</td>\n",
       "      <td>...</td>\n",
       "      <td>...</td>\n",
       "      <td>...</td>\n",
       "      <td>...</td>\n",
       "      <td>...</td>\n",
       "      <td>...</td>\n",
       "      <td>...</td>\n",
       "      <td>...</td>\n",
       "      <td>...</td>\n",
       "      <td>...</td>\n",
       "    </tr>\n",
       "    <tr>\n",
       "      <th>886</th>\n",
       "      <td>887</td>\n",
       "      <td>0</td>\n",
       "      <td>2</td>\n",
       "      <td>Montvila, Rev. Juozas</td>\n",
       "      <td>male</td>\n",
       "      <td>27.0</td>\n",
       "      <td>0</td>\n",
       "      <td>0</td>\n",
       "      <td>211536</td>\n",
       "      <td>13.0000</td>\n",
       "      <td>NaN</td>\n",
       "      <td>S</td>\n",
       "    </tr>\n",
       "    <tr>\n",
       "      <th>887</th>\n",
       "      <td>888</td>\n",
       "      <td>1</td>\n",
       "      <td>1</td>\n",
       "      <td>Graham, Miss. Margaret Edith</td>\n",
       "      <td>female</td>\n",
       "      <td>19.0</td>\n",
       "      <td>0</td>\n",
       "      <td>0</td>\n",
       "      <td>112053</td>\n",
       "      <td>30.0000</td>\n",
       "      <td>B42</td>\n",
       "      <td>S</td>\n",
       "    </tr>\n",
       "    <tr>\n",
       "      <th>888</th>\n",
       "      <td>889</td>\n",
       "      <td>0</td>\n",
       "      <td>3</td>\n",
       "      <td>Johnston, Miss. Catherine Helen \"Carrie\"</td>\n",
       "      <td>female</td>\n",
       "      <td>NaN</td>\n",
       "      <td>1</td>\n",
       "      <td>2</td>\n",
       "      <td>W./C. 6607</td>\n",
       "      <td>23.4500</td>\n",
       "      <td>NaN</td>\n",
       "      <td>S</td>\n",
       "    </tr>\n",
       "    <tr>\n",
       "      <th>889</th>\n",
       "      <td>890</td>\n",
       "      <td>1</td>\n",
       "      <td>1</td>\n",
       "      <td>Behr, Mr. Karl Howell</td>\n",
       "      <td>male</td>\n",
       "      <td>26.0</td>\n",
       "      <td>0</td>\n",
       "      <td>0</td>\n",
       "      <td>111369</td>\n",
       "      <td>30.0000</td>\n",
       "      <td>C148</td>\n",
       "      <td>C</td>\n",
       "    </tr>\n",
       "    <tr>\n",
       "      <th>890</th>\n",
       "      <td>891</td>\n",
       "      <td>0</td>\n",
       "      <td>3</td>\n",
       "      <td>Dooley, Mr. Patrick</td>\n",
       "      <td>male</td>\n",
       "      <td>32.0</td>\n",
       "      <td>0</td>\n",
       "      <td>0</td>\n",
       "      <td>370376</td>\n",
       "      <td>7.7500</td>\n",
       "      <td>NaN</td>\n",
       "      <td>Q</td>\n",
       "    </tr>\n",
       "  </tbody>\n",
       "</table>\n",
       "<p>891 rows × 12 columns</p>\n",
       "</div>"
      ],
      "text/plain": [
       "     IdPassageiro  Sobreviveu  Classe  \\\n",
       "0               1           0       3   \n",
       "1               2           1       1   \n",
       "2               3           1       3   \n",
       "3               4           1       1   \n",
       "4               5           0       3   \n",
       "..            ...         ...     ...   \n",
       "886           887           0       2   \n",
       "887           888           1       1   \n",
       "888           889           0       3   \n",
       "889           890           1       1   \n",
       "890           891           0       3   \n",
       "\n",
<<<<<<< HEAD
       "                                                  Nome  Gênero  Idade  \\\n",
=======
       "                                                  Nome    Sexo  Idade  \\\n",
>>>>>>> 5a6654f8197b36c253587db90c6485aaaad27d84
       "0                              Braund, Mr. Owen Harris    male   22.0   \n",
       "1    Cumings, Mrs. John Bradley (Florence Briggs Th...  female   38.0   \n",
       "2                               Heikkinen, Miss. Laina  female   26.0   \n",
       "3         Futrelle, Mrs. Jacques Heath (Lily May Peel)  female   35.0   \n",
       "4                             Allen, Mr. William Henry    male   35.0   \n",
       "..                                                 ...     ...    ...   \n",
       "886                              Montvila, Rev. Juozas    male   27.0   \n",
       "887                       Graham, Miss. Margaret Edith  female   19.0   \n",
       "888           Johnston, Miss. Catherine Helen \"Carrie\"  female    NaN   \n",
       "889                              Behr, Mr. Karl Howell    male   26.0   \n",
       "890                                Dooley, Mr. Patrick    male   32.0   \n",
       "\n",
       "     NumeroIrmaos  NumeroPais      NumeroTicket  PrecoTicket NumeroCabine  \\\n",
       "0               1           0         A/5 21171       7.2500          NaN   \n",
       "1               1           0          PC 17599      71.2833          C85   \n",
       "2               0           0  STON/O2. 3101282       7.9250          NaN   \n",
       "3               1           0            113803      53.1000         C123   \n",
       "4               0           0            373450       8.0500          NaN   \n",
       "..            ...         ...               ...          ...          ...   \n",
       "886             0           0            211536      13.0000          NaN   \n",
       "887             0           0            112053      30.0000          B42   \n",
       "888             1           2        W./C. 6607      23.4500          NaN   \n",
       "889             0           0            111369      30.0000         C148   \n",
       "890             0           0            370376       7.7500          NaN   \n",
       "\n",
       "    PortoEmbarcacao  \n",
       "0                 S  \n",
       "1                 C  \n",
       "2                 S  \n",
       "3                 S  \n",
       "4                 S  \n",
       "..              ...  \n",
       "886               S  \n",
       "887               S  \n",
       "888               S  \n",
       "889               C  \n",
       "890               Q  \n",
       "\n",
       "[891 rows x 12 columns]"
      ]
     },
<<<<<<< HEAD
     "execution_count": 12,
=======
     "execution_count": 5,
>>>>>>> 5a6654f8197b36c253587db90c6485aaaad27d84
     "metadata": {},
     "output_type": "execute_result"
    }
   ],
   "source": [
    "# dataframe originial\n",
    "df"
   ]
  },
  {
   "cell_type": "code",
   "execution_count": 6,
   "metadata": {},
   "outputs": [
    {
     "data": {
      "text/html": [
       "<div>\n",
       "<style scoped>\n",
       "    .dataframe tbody tr th:only-of-type {\n",
       "        vertical-align: middle;\n",
       "    }\n",
       "\n",
       "    .dataframe tbody tr th {\n",
       "        vertical-align: top;\n",
       "    }\n",
       "\n",
       "    .dataframe thead th {\n",
       "        text-align: right;\n",
       "    }\n",
       "</style>\n",
       "<table border=\"1\" class=\"dataframe\">\n",
       "  <thead>\n",
       "    <tr style=\"text-align: right;\">\n",
       "      <th></th>\n",
       "      <th>IdPassageiro</th>\n",
       "      <th>Sobreviveu</th>\n",
       "      <th>Classe</th>\n",
       "      <th>Nome</th>\n",
       "      <th>Sexo</th>\n",
       "      <th>Idade</th>\n",
       "      <th>NumeroIrmaos</th>\n",
       "      <th>NumeroPais</th>\n",
       "      <th>NumeroTicket</th>\n",
       "      <th>PrecoTicket</th>\n",
       "      <th>NumeroCabine</th>\n",
       "      <th>PortoEmbarcacao</th>\n",
       "    </tr>\n",
       "  </thead>\n",
       "  <tbody>\n",
       "    <tr>\n",
       "      <th>1</th>\n",
       "      <td>2</td>\n",
       "      <td>1</td>\n",
       "      <td>1</td>\n",
       "      <td>Cumings, Mrs. John Bradley (Florence Briggs Th...</td>\n",
       "      <td>female</td>\n",
       "      <td>38.0</td>\n",
       "      <td>1</td>\n",
       "      <td>0</td>\n",
       "      <td>PC 17599</td>\n",
       "      <td>71.2833</td>\n",
       "      <td>C85</td>\n",
       "      <td>C</td>\n",
       "    </tr>\n",
       "    <tr>\n",
       "      <th>3</th>\n",
       "      <td>4</td>\n",
       "      <td>1</td>\n",
       "      <td>1</td>\n",
       "      <td>Futrelle, Mrs. Jacques Heath (Lily May Peel)</td>\n",
       "      <td>female</td>\n",
       "      <td>35.0</td>\n",
       "      <td>1</td>\n",
       "      <td>0</td>\n",
       "      <td>113803</td>\n",
       "      <td>53.1000</td>\n",
       "      <td>C123</td>\n",
       "      <td>S</td>\n",
       "    </tr>\n",
       "    <tr>\n",
       "      <th>4</th>\n",
       "      <td>5</td>\n",
       "      <td>0</td>\n",
       "      <td>3</td>\n",
       "      <td>Allen, Mr. William Henry</td>\n",
       "      <td>male</td>\n",
       "      <td>35.0</td>\n",
       "      <td>0</td>\n",
       "      <td>0</td>\n",
       "      <td>373450</td>\n",
       "      <td>8.0500</td>\n",
       "      <td>NaN</td>\n",
       "      <td>S</td>\n",
       "    </tr>\n",
       "    <tr>\n",
       "      <th>6</th>\n",
       "      <td>7</td>\n",
       "      <td>0</td>\n",
       "      <td>1</td>\n",
       "      <td>McCarthy, Mr. Timothy J</td>\n",
       "      <td>male</td>\n",
       "      <td>54.0</td>\n",
       "      <td>0</td>\n",
       "      <td>0</td>\n",
       "      <td>17463</td>\n",
       "      <td>51.8625</td>\n",
       "      <td>E46</td>\n",
       "      <td>S</td>\n",
       "    </tr>\n",
       "    <tr>\n",
       "      <th>11</th>\n",
       "      <td>12</td>\n",
       "      <td>1</td>\n",
       "      <td>1</td>\n",
       "      <td>Bonnell, Miss. Elizabeth</td>\n",
       "      <td>female</td>\n",
       "      <td>58.0</td>\n",
       "      <td>0</td>\n",
       "      <td>0</td>\n",
       "      <td>113783</td>\n",
       "      <td>26.5500</td>\n",
       "      <td>C103</td>\n",
       "      <td>S</td>\n",
       "    </tr>\n",
       "    <tr>\n",
       "      <th>...</th>\n",
       "      <td>...</td>\n",
       "      <td>...</td>\n",
       "      <td>...</td>\n",
       "      <td>...</td>\n",
       "      <td>...</td>\n",
       "      <td>...</td>\n",
       "      <td>...</td>\n",
       "      <td>...</td>\n",
       "      <td>...</td>\n",
       "      <td>...</td>\n",
       "      <td>...</td>\n",
       "      <td>...</td>\n",
       "    </tr>\n",
       "    <tr>\n",
       "      <th>873</th>\n",
       "      <td>874</td>\n",
       "      <td>0</td>\n",
       "      <td>3</td>\n",
       "      <td>Vander Cruyssen, Mr. Victor</td>\n",
       "      <td>male</td>\n",
       "      <td>47.0</td>\n",
       "      <td>0</td>\n",
       "      <td>0</td>\n",
       "      <td>345765</td>\n",
       "      <td>9.0000</td>\n",
       "      <td>NaN</td>\n",
       "      <td>S</td>\n",
       "    </tr>\n",
       "    <tr>\n",
       "      <th>879</th>\n",
       "      <td>880</td>\n",
       "      <td>1</td>\n",
       "      <td>1</td>\n",
       "      <td>Potter, Mrs. Thomas Jr (Lily Alexenia Wilson)</td>\n",
       "      <td>female</td>\n",
       "      <td>56.0</td>\n",
       "      <td>0</td>\n",
       "      <td>1</td>\n",
       "      <td>11767</td>\n",
       "      <td>83.1583</td>\n",
       "      <td>C50</td>\n",
       "      <td>C</td>\n",
       "    </tr>\n",
       "    <tr>\n",
       "      <th>881</th>\n",
       "      <td>882</td>\n",
       "      <td>0</td>\n",
       "      <td>3</td>\n",
       "      <td>Markun, Mr. Johann</td>\n",
       "      <td>male</td>\n",
       "      <td>33.0</td>\n",
       "      <td>0</td>\n",
       "      <td>0</td>\n",
       "      <td>349257</td>\n",
       "      <td>7.8958</td>\n",
       "      <td>NaN</td>\n",
       "      <td>S</td>\n",
       "    </tr>\n",
       "    <tr>\n",
       "      <th>885</th>\n",
       "      <td>886</td>\n",
       "      <td>0</td>\n",
       "      <td>3</td>\n",
       "      <td>Rice, Mrs. William (Margaret Norton)</td>\n",
       "      <td>female</td>\n",
       "      <td>39.0</td>\n",
       "      <td>0</td>\n",
       "      <td>5</td>\n",
       "      <td>382652</td>\n",
       "      <td>29.1250</td>\n",
       "      <td>NaN</td>\n",
       "      <td>Q</td>\n",
       "    </tr>\n",
       "    <tr>\n",
       "      <th>890</th>\n",
       "      <td>891</td>\n",
       "      <td>0</td>\n",
       "      <td>3</td>\n",
       "      <td>Dooley, Mr. Patrick</td>\n",
       "      <td>male</td>\n",
       "      <td>32.0</td>\n",
       "      <td>0</td>\n",
       "      <td>0</td>\n",
       "      <td>370376</td>\n",
       "      <td>7.7500</td>\n",
       "      <td>NaN</td>\n",
       "      <td>Q</td>\n",
       "    </tr>\n",
       "  </tbody>\n",
       "</table>\n",
       "<p>305 rows × 12 columns</p>\n",
       "</div>"
      ],
      "text/plain": [
       "     IdPassageiro  Sobreviveu  Classe  \\\n",
       "1               2           1       1   \n",
       "3               4           1       1   \n",
       "4               5           0       3   \n",
       "6               7           0       1   \n",
       "11             12           1       1   \n",
       "..            ...         ...     ...   \n",
       "873           874           0       3   \n",
       "879           880           1       1   \n",
       "881           882           0       3   \n",
       "885           886           0       3   \n",
       "890           891           0       3   \n",
       "\n",
       "                                                  Nome    Sexo  Idade  \\\n",
       "1    Cumings, Mrs. John Bradley (Florence Briggs Th...  female   38.0   \n",
       "3         Futrelle, Mrs. Jacques Heath (Lily May Peel)  female   35.0   \n",
       "4                             Allen, Mr. William Henry    male   35.0   \n",
       "6                              McCarthy, Mr. Timothy J    male   54.0   \n",
       "11                            Bonnell, Miss. Elizabeth  female   58.0   \n",
       "..                                                 ...     ...    ...   \n",
       "873                        Vander Cruyssen, Mr. Victor    male   47.0   \n",
       "879      Potter, Mrs. Thomas Jr (Lily Alexenia Wilson)  female   56.0   \n",
       "881                                 Markun, Mr. Johann    male   33.0   \n",
       "885               Rice, Mrs. William (Margaret Norton)  female   39.0   \n",
       "890                                Dooley, Mr. Patrick    male   32.0   \n",
       "\n",
       "     NumeroIrmaos  NumeroPais NumeroTicket  PrecoTicket NumeroCabine  \\\n",
       "1               1           0     PC 17599      71.2833          C85   \n",
       "3               1           0       113803      53.1000         C123   \n",
       "4               0           0       373450       8.0500          NaN   \n",
       "6               0           0        17463      51.8625          E46   \n",
       "11              0           0       113783      26.5500         C103   \n",
       "..            ...         ...          ...          ...          ...   \n",
       "873             0           0       345765       9.0000          NaN   \n",
       "879             0           1        11767      83.1583          C50   \n",
       "881             0           0       349257       7.8958          NaN   \n",
       "885             0           5       382652      29.1250          NaN   \n",
       "890             0           0       370376       7.7500          NaN   \n",
       "\n",
       "    PortoEmbarcacao  \n",
       "1                 C  \n",
       "3                 S  \n",
       "4                 S  \n",
       "6                 S  \n",
       "11                S  \n",
       "..              ...  \n",
       "873               S  \n",
       "879               C  \n",
       "881               S  \n",
       "885               Q  \n",
       "890               Q  \n",
       "\n",
       "[305 rows x 12 columns]"
      ]
     },
     "execution_count": 6,
     "metadata": {},
     "output_type": "execute_result"
    }
   ],
   "source": [
    "df[df['Idade'] > 30]"
   ]
  },
  {
   "cell_type": "code",
   "execution_count": 7,
   "metadata": {
    "id": "xzHvkQRrS_mx",
    "outputId": "ca4d371d-386e-433d-e49b-6e5a6749f767"
   },
   "outputs": [
    {
     "data": {
      "text/plain": [
       "(305, 12)"
      ]
     },
     "execution_count": 7,
     "metadata": {},
     "output_type": "execute_result"
    }
   ],
   "source": [
    "# Vamos começar com um filtro baseado em uma única condição: idade > 30\n",
    "df_filtrado = df[df['Idade'] > 30]\n",
    "df_filtrado.shape"
   ]
  },
  {
   "cell_type": "code",
<<<<<<< HEAD
   "execution_count": 14,
=======
   "execution_count": 8,
   "metadata": {},
   "outputs": [
    {
     "data": {
      "text/html": [
       "<div>\n",
       "<style scoped>\n",
       "    .dataframe tbody tr th:only-of-type {\n",
       "        vertical-align: middle;\n",
       "    }\n",
       "\n",
       "    .dataframe tbody tr th {\n",
       "        vertical-align: top;\n",
       "    }\n",
       "\n",
       "    .dataframe thead th {\n",
       "        text-align: right;\n",
       "    }\n",
       "</style>\n",
       "<table border=\"1\" class=\"dataframe\">\n",
       "  <thead>\n",
       "    <tr style=\"text-align: right;\">\n",
       "      <th></th>\n",
       "      <th>IdPassageiro</th>\n",
       "      <th>Sobreviveu</th>\n",
       "      <th>Classe</th>\n",
       "      <th>Nome</th>\n",
       "      <th>Sexo</th>\n",
       "      <th>Idade</th>\n",
       "      <th>NumeroIrmaos</th>\n",
       "      <th>NumeroPais</th>\n",
       "      <th>NumeroTicket</th>\n",
       "      <th>PrecoTicket</th>\n",
       "      <th>NumeroCabine</th>\n",
       "      <th>PortoEmbarcacao</th>\n",
       "    </tr>\n",
       "  </thead>\n",
       "  <tbody>\n",
       "    <tr>\n",
       "      <th>1</th>\n",
       "      <td>2</td>\n",
       "      <td>1</td>\n",
       "      <td>1</td>\n",
       "      <td>Cumings, Mrs. John Bradley (Florence Briggs Th...</td>\n",
       "      <td>female</td>\n",
       "      <td>38.0</td>\n",
       "      <td>1</td>\n",
       "      <td>0</td>\n",
       "      <td>PC 17599</td>\n",
       "      <td>71.2833</td>\n",
       "      <td>C85</td>\n",
       "      <td>C</td>\n",
       "    </tr>\n",
       "    <tr>\n",
       "      <th>3</th>\n",
       "      <td>4</td>\n",
       "      <td>1</td>\n",
       "      <td>1</td>\n",
       "      <td>Futrelle, Mrs. Jacques Heath (Lily May Peel)</td>\n",
       "      <td>female</td>\n",
       "      <td>35.0</td>\n",
       "      <td>1</td>\n",
       "      <td>0</td>\n",
       "      <td>113803</td>\n",
       "      <td>53.1000</td>\n",
       "      <td>C123</td>\n",
       "      <td>S</td>\n",
       "    </tr>\n",
       "    <tr>\n",
       "      <th>11</th>\n",
       "      <td>12</td>\n",
       "      <td>1</td>\n",
       "      <td>1</td>\n",
       "      <td>Bonnell, Miss. Elizabeth</td>\n",
       "      <td>female</td>\n",
       "      <td>58.0</td>\n",
       "      <td>0</td>\n",
       "      <td>0</td>\n",
       "      <td>113783</td>\n",
       "      <td>26.5500</td>\n",
       "      <td>C103</td>\n",
       "      <td>S</td>\n",
       "    </tr>\n",
       "    <tr>\n",
       "      <th>15</th>\n",
       "      <td>16</td>\n",
       "      <td>1</td>\n",
       "      <td>2</td>\n",
       "      <td>Hewlett, Mrs. (Mary D Kingcome)</td>\n",
       "      <td>female</td>\n",
       "      <td>55.0</td>\n",
       "      <td>0</td>\n",
       "      <td>0</td>\n",
       "      <td>248706</td>\n",
       "      <td>16.0000</td>\n",
       "      <td>NaN</td>\n",
       "      <td>S</td>\n",
       "    </tr>\n",
       "    <tr>\n",
       "      <th>18</th>\n",
       "      <td>19</td>\n",
       "      <td>0</td>\n",
       "      <td>3</td>\n",
       "      <td>Vander Planke, Mrs. Julius (Emelia Maria Vande...</td>\n",
       "      <td>female</td>\n",
       "      <td>31.0</td>\n",
       "      <td>1</td>\n",
       "      <td>0</td>\n",
       "      <td>345763</td>\n",
       "      <td>18.0000</td>\n",
       "      <td>NaN</td>\n",
       "      <td>S</td>\n",
       "    </tr>\n",
       "    <tr>\n",
       "      <th>...</th>\n",
       "      <td>...</td>\n",
       "      <td>...</td>\n",
       "      <td>...</td>\n",
       "      <td>...</td>\n",
       "      <td>...</td>\n",
       "      <td>...</td>\n",
       "      <td>...</td>\n",
       "      <td>...</td>\n",
       "      <td>...</td>\n",
       "      <td>...</td>\n",
       "      <td>...</td>\n",
       "      <td>...</td>\n",
       "    </tr>\n",
       "    <tr>\n",
       "      <th>862</th>\n",
       "      <td>863</td>\n",
       "      <td>1</td>\n",
       "      <td>1</td>\n",
       "      <td>Swift, Mrs. Frederick Joel (Margaret Welles Ba...</td>\n",
       "      <td>female</td>\n",
       "      <td>48.0</td>\n",
       "      <td>0</td>\n",
       "      <td>0</td>\n",
       "      <td>17466</td>\n",
       "      <td>25.9292</td>\n",
       "      <td>D17</td>\n",
       "      <td>S</td>\n",
       "    </tr>\n",
       "    <tr>\n",
       "      <th>865</th>\n",
       "      <td>866</td>\n",
       "      <td>1</td>\n",
       "      <td>2</td>\n",
       "      <td>Bystrom, Mrs. (Karolina)</td>\n",
       "      <td>female</td>\n",
       "      <td>42.0</td>\n",
       "      <td>0</td>\n",
       "      <td>0</td>\n",
       "      <td>236852</td>\n",
       "      <td>13.0000</td>\n",
       "      <td>NaN</td>\n",
       "      <td>S</td>\n",
       "    </tr>\n",
       "    <tr>\n",
       "      <th>871</th>\n",
       "      <td>872</td>\n",
       "      <td>1</td>\n",
       "      <td>1</td>\n",
       "      <td>Beckwith, Mrs. Richard Leonard (Sallie Monypeny)</td>\n",
       "      <td>female</td>\n",
       "      <td>47.0</td>\n",
       "      <td>1</td>\n",
       "      <td>1</td>\n",
       "      <td>11751</td>\n",
       "      <td>52.5542</td>\n",
       "      <td>D35</td>\n",
       "      <td>S</td>\n",
       "    </tr>\n",
       "    <tr>\n",
       "      <th>879</th>\n",
       "      <td>880</td>\n",
       "      <td>1</td>\n",
       "      <td>1</td>\n",
       "      <td>Potter, Mrs. Thomas Jr (Lily Alexenia Wilson)</td>\n",
       "      <td>female</td>\n",
       "      <td>56.0</td>\n",
       "      <td>0</td>\n",
       "      <td>1</td>\n",
       "      <td>11767</td>\n",
       "      <td>83.1583</td>\n",
       "      <td>C50</td>\n",
       "      <td>C</td>\n",
       "    </tr>\n",
       "    <tr>\n",
       "      <th>885</th>\n",
       "      <td>886</td>\n",
       "      <td>0</td>\n",
       "      <td>3</td>\n",
       "      <td>Rice, Mrs. William (Margaret Norton)</td>\n",
       "      <td>female</td>\n",
       "      <td>39.0</td>\n",
       "      <td>0</td>\n",
       "      <td>5</td>\n",
       "      <td>382652</td>\n",
       "      <td>29.1250</td>\n",
       "      <td>NaN</td>\n",
       "      <td>Q</td>\n",
       "    </tr>\n",
       "  </tbody>\n",
       "</table>\n",
       "<p>103 rows × 12 columns</p>\n",
       "</div>"
      ],
      "text/plain": [
       "     IdPassageiro  Sobreviveu  Classe  \\\n",
       "1               2           1       1   \n",
       "3               4           1       1   \n",
       "11             12           1       1   \n",
       "15             16           1       2   \n",
       "18             19           0       3   \n",
       "..            ...         ...     ...   \n",
       "862           863           1       1   \n",
       "865           866           1       2   \n",
       "871           872           1       1   \n",
       "879           880           1       1   \n",
       "885           886           0       3   \n",
       "\n",
       "                                                  Nome    Sexo  Idade  \\\n",
       "1    Cumings, Mrs. John Bradley (Florence Briggs Th...  female   38.0   \n",
       "3         Futrelle, Mrs. Jacques Heath (Lily May Peel)  female   35.0   \n",
       "11                            Bonnell, Miss. Elizabeth  female   58.0   \n",
       "15                    Hewlett, Mrs. (Mary D Kingcome)   female   55.0   \n",
       "18   Vander Planke, Mrs. Julius (Emelia Maria Vande...  female   31.0   \n",
       "..                                                 ...     ...    ...   \n",
       "862  Swift, Mrs. Frederick Joel (Margaret Welles Ba...  female   48.0   \n",
       "865                           Bystrom, Mrs. (Karolina)  female   42.0   \n",
       "871   Beckwith, Mrs. Richard Leonard (Sallie Monypeny)  female   47.0   \n",
       "879      Potter, Mrs. Thomas Jr (Lily Alexenia Wilson)  female   56.0   \n",
       "885               Rice, Mrs. William (Margaret Norton)  female   39.0   \n",
       "\n",
       "     NumeroIrmaos  NumeroPais NumeroTicket  PrecoTicket NumeroCabine  \\\n",
       "1               1           0     PC 17599      71.2833          C85   \n",
       "3               1           0       113803      53.1000         C123   \n",
       "11              0           0       113783      26.5500         C103   \n",
       "15              0           0       248706      16.0000          NaN   \n",
       "18              1           0       345763      18.0000          NaN   \n",
       "..            ...         ...          ...          ...          ...   \n",
       "862             0           0        17466      25.9292          D17   \n",
       "865             0           0       236852      13.0000          NaN   \n",
       "871             1           1        11751      52.5542          D35   \n",
       "879             0           1        11767      83.1583          C50   \n",
       "885             0           5       382652      29.1250          NaN   \n",
       "\n",
       "    PortoEmbarcacao  \n",
       "1                 C  \n",
       "3                 S  \n",
       "11                S  \n",
       "15                S  \n",
       "18                S  \n",
       "..              ...  \n",
       "862               S  \n",
       "865               S  \n",
       "871               S  \n",
       "879               C  \n",
       "885               Q  \n",
       "\n",
       "[103 rows x 12 columns]"
      ]
     },
     "execution_count": 8,
     "metadata": {},
     "output_type": "execute_result"
    }
   ],
   "source": [
    "df[(df['Idade'] > 30) & (df['Sexo'] == 'female')]"
   ]
  },
  {
   "cell_type": "code",
   "execution_count": 9,
>>>>>>> 5a6654f8197b36c253587db90c6485aaaad27d84
   "metadata": {
    "id": "ZFZ7LOT6S_my",
    "outputId": "e41628cd-501b-4009-d643-c91f7fe9d7e4"
   },
   "outputs": [
    {
     "data": {
      "text/plain": [
<<<<<<< HEAD
       "(0, 12)"
      ]
     },
     "execution_count": 14,
=======
       "(103, 12)"
      ]
     },
     "execution_count": 9,
>>>>>>> 5a6654f8197b36c253587db90c6485aaaad27d84
     "metadata": {},
     "output_type": "execute_result"
    }
   ],
   "source": [
    "# Agora um filtro com múltiplas condições\n",
<<<<<<< HEAD
    "df_filtrado = df[(df['Idade'] > 30) & (df['Gênero'] == 'F')]\n",
=======
    "df_filtrado = df[(df['Idade'] > 30) & (df['Sexo'] == 'female')]\n",
>>>>>>> 5a6654f8197b36c253587db90c6485aaaad27d84
    "df_filtrado.shape"
   ]
  },
  {
   "cell_type": "code",
<<<<<<< HEAD
   "execution_count": 15,
=======
   "execution_count": 10,
   "metadata": {},
   "outputs": [
    {
     "data": {
      "text/html": [
       "<div>\n",
       "<style scoped>\n",
       "    .dataframe tbody tr th:only-of-type {\n",
       "        vertical-align: middle;\n",
       "    }\n",
       "\n",
       "    .dataframe tbody tr th {\n",
       "        vertical-align: top;\n",
       "    }\n",
       "\n",
       "    .dataframe thead th {\n",
       "        text-align: right;\n",
       "    }\n",
       "</style>\n",
       "<table border=\"1\" class=\"dataframe\">\n",
       "  <thead>\n",
       "    <tr style=\"text-align: right;\">\n",
       "      <th></th>\n",
       "      <th>IdPassageiro</th>\n",
       "      <th>Sobreviveu</th>\n",
       "      <th>Classe</th>\n",
       "      <th>Nome</th>\n",
       "      <th>Sexo</th>\n",
       "      <th>Idade</th>\n",
       "      <th>NumeroIrmaos</th>\n",
       "      <th>NumeroPais</th>\n",
       "      <th>NumeroTicket</th>\n",
       "      <th>PrecoTicket</th>\n",
       "      <th>NumeroCabine</th>\n",
       "      <th>PortoEmbarcacao</th>\n",
       "    </tr>\n",
       "  </thead>\n",
       "  <tbody>\n",
       "    <tr>\n",
       "      <th>855</th>\n",
       "      <td>856</td>\n",
       "      <td>1</td>\n",
       "      <td>3</td>\n",
       "      <td>Aks, Mrs. Sam (Leah Rosen)</td>\n",
       "      <td>female</td>\n",
       "      <td>18.0</td>\n",
       "      <td>0</td>\n",
       "      <td>1</td>\n",
       "      <td>392091</td>\n",
       "      <td>9.35</td>\n",
       "      <td>NaN</td>\n",
       "      <td>S</td>\n",
       "    </tr>\n",
       "  </tbody>\n",
       "</table>\n",
       "</div>"
      ],
      "text/plain": [
       "     IdPassageiro  Sobreviveu  Classe                        Nome    Sexo  \\\n",
       "855           856           1       3  Aks, Mrs. Sam (Leah Rosen)  female   \n",
       "\n",
       "     Idade  NumeroIrmaos  NumeroPais NumeroTicket  PrecoTicket NumeroCabine  \\\n",
       "855   18.0             0           1       392091         9.35          NaN   \n",
       "\n",
       "    PortoEmbarcacao  \n",
       "855               S  "
      ]
     },
     "execution_count": 10,
     "metadata": {},
     "output_type": "execute_result"
    }
   ],
   "source": [
    "df[df['Nome'].str.contains('Rose')]"
   ]
  },
  {
   "cell_type": "code",
   "execution_count": 11,
>>>>>>> 5a6654f8197b36c253587db90c6485aaaad27d84
   "metadata": {
    "id": "BpueQ0G0S_my",
    "outputId": "ba8ca09f-6788-4332-9a11-786aa02700e4"
   },
   "outputs": [
    {
     "data": {
      "text/plain": [
<<<<<<< HEAD
       "(6, 12)"
      ]
     },
     "execution_count": 15,
=======
       "(1, 12)"
      ]
     },
     "execution_count": 11,
>>>>>>> 5a6654f8197b36c253587db90c6485aaaad27d84
     "metadata": {},
     "output_type": "execute_result"
    }
   ],
   "source": [
    "# Selecionando entradas que possuem uma determinada 'string'\n",
    "# Vamos procurar por nomes que possuam 'Good'\n",
    "\n",
    "df_filtrado = df[df['Nome'].str.contains('Jack')]\n",
    "df_filtrado.shape"
   ]
  },
  {
   "cell_type": "code",
<<<<<<< HEAD
   "execution_count": 16,
=======
   "execution_count": 12,
   "metadata": {},
   "outputs": [
    {
     "data": {
      "text/html": [
       "<div>\n",
       "<style scoped>\n",
       "    .dataframe tbody tr th:only-of-type {\n",
       "        vertical-align: middle;\n",
       "    }\n",
       "\n",
       "    .dataframe tbody tr th {\n",
       "        vertical-align: top;\n",
       "    }\n",
       "\n",
       "    .dataframe thead th {\n",
       "        text-align: right;\n",
       "    }\n",
       "</style>\n",
       "<table border=\"1\" class=\"dataframe\">\n",
       "  <thead>\n",
       "    <tr style=\"text-align: right;\">\n",
       "      <th></th>\n",
       "      <th>IdPassageiro</th>\n",
       "      <th>Sobreviveu</th>\n",
       "      <th>Classe</th>\n",
       "      <th>Nome</th>\n",
       "      <th>Sexo</th>\n",
       "      <th>Idade</th>\n",
       "      <th>NumeroIrmaos</th>\n",
       "      <th>NumeroPais</th>\n",
       "      <th>NumeroTicket</th>\n",
       "      <th>PrecoTicket</th>\n",
       "      <th>NumeroCabine</th>\n",
       "      <th>PortoEmbarcacao</th>\n",
       "    </tr>\n",
       "  </thead>\n",
       "  <tbody>\n",
       "    <tr>\n",
       "      <th>766</th>\n",
       "      <td>767</td>\n",
       "      <td>0</td>\n",
       "      <td>1</td>\n",
       "      <td>Brewe, Dr. Arthur Jackson</td>\n",
       "      <td>male</td>\n",
       "      <td>NaN</td>\n",
       "      <td>0</td>\n",
       "      <td>0</td>\n",
       "      <td>112379</td>\n",
       "      <td>39.6</td>\n",
       "      <td>NaN</td>\n",
       "      <td>C</td>\n",
       "    </tr>\n",
       "  </tbody>\n",
       "</table>\n",
       "</div>"
      ],
      "text/plain": [
       "     IdPassageiro  Sobreviveu  Classe                       Nome  Sexo  Idade  \\\n",
       "766           767           0       1  Brewe, Dr. Arthur Jackson  male    NaN   \n",
       "\n",
       "     NumeroIrmaos  NumeroPais NumeroTicket  PrecoTicket NumeroCabine  \\\n",
       "766             0           0       112379         39.6          NaN   \n",
       "\n",
       "    PortoEmbarcacao  \n",
       "766               C  "
      ]
     },
     "execution_count": 12,
     "metadata": {},
     "output_type": "execute_result"
    }
   ],
   "source": [
    "df_filtrado"
   ]
  },
  {
   "cell_type": "code",
   "execution_count": 13,
>>>>>>> 5a6654f8197b36c253587db90c6485aaaad27d84
   "metadata": {
    "id": "ODR1BQRyS_my",
    "outputId": "a2289b09-9eb0-460f-da3b-265bfaf400fb"
   },
   "outputs": [
    {
     "data": {
<<<<<<< HEAD
      "text/html": [
       "<div>\n",
       "<style scoped>\n",
       "    .dataframe tbody tr th:only-of-type {\n",
       "        vertical-align: middle;\n",
       "    }\n",
       "\n",
       "    .dataframe tbody tr th {\n",
       "        vertical-align: top;\n",
       "    }\n",
       "\n",
       "    .dataframe thead th {\n",
       "        text-align: right;\n",
       "    }\n",
       "</style>\n",
       "<table border=\"1\" class=\"dataframe\">\n",
       "  <thead>\n",
       "    <tr style=\"text-align: right;\">\n",
       "      <th></th>\n",
       "      <th>IdPassageiro</th>\n",
       "      <th>Sobreviveu</th>\n",
       "      <th>Classe</th>\n",
       "      <th>Nome</th>\n",
       "      <th>Gênero</th>\n",
       "      <th>Idade</th>\n",
       "      <th>NumeroIrmaos</th>\n",
       "      <th>NumeroPais</th>\n",
       "      <th>NumeroTicket</th>\n",
       "      <th>PrecoTicket</th>\n",
       "      <th>NumeroCabine</th>\n",
       "      <th>PortoEmbarcacao</th>\n",
       "    </tr>\n",
       "  </thead>\n",
       "  <tbody>\n",
       "    <tr>\n",
       "      <th>5</th>\n",
       "      <td>6</td>\n",
       "      <td>0</td>\n",
       "      <td>3</td>\n",
       "      <td>Moran, Mr. James</td>\n",
       "      <td>male</td>\n",
       "      <td>NaN</td>\n",
       "      <td>0</td>\n",
       "      <td>0</td>\n",
       "      <td>330877</td>\n",
       "      <td>8.4583</td>\n",
       "      <td>NaN</td>\n",
       "      <td>Q</td>\n",
       "    </tr>\n",
       "    <tr>\n",
       "      <th>16</th>\n",
       "      <td>17</td>\n",
       "      <td>0</td>\n",
       "      <td>3</td>\n",
       "      <td>Rice, Master. Eugene</td>\n",
       "      <td>male</td>\n",
       "      <td>2.0</td>\n",
       "      <td>4</td>\n",
       "      <td>1</td>\n",
       "      <td>382652</td>\n",
       "      <td>29.1250</td>\n",
       "      <td>NaN</td>\n",
       "      <td>Q</td>\n",
       "    </tr>\n",
       "    <tr>\n",
       "      <th>22</th>\n",
       "      <td>23</td>\n",
       "      <td>1</td>\n",
       "      <td>3</td>\n",
       "      <td>McGowan, Miss. Anna \"Annie\"</td>\n",
       "      <td>female</td>\n",
       "      <td>15.0</td>\n",
       "      <td>0</td>\n",
       "      <td>0</td>\n",
       "      <td>330923</td>\n",
       "      <td>8.0292</td>\n",
       "      <td>NaN</td>\n",
       "      <td>Q</td>\n",
       "    </tr>\n",
       "    <tr>\n",
       "      <th>28</th>\n",
       "      <td>29</td>\n",
       "      <td>1</td>\n",
       "      <td>3</td>\n",
       "      <td>O'Dwyer, Miss. Ellen \"Nellie\"</td>\n",
       "      <td>female</td>\n",
       "      <td>NaN</td>\n",
       "      <td>0</td>\n",
       "      <td>0</td>\n",
       "      <td>330959</td>\n",
       "      <td>7.8792</td>\n",
       "      <td>NaN</td>\n",
       "      <td>Q</td>\n",
       "    </tr>\n",
       "    <tr>\n",
       "      <th>32</th>\n",
       "      <td>33</td>\n",
       "      <td>1</td>\n",
       "      <td>3</td>\n",
       "      <td>Glynn, Miss. Mary Agatha</td>\n",
       "      <td>female</td>\n",
       "      <td>NaN</td>\n",
       "      <td>0</td>\n",
       "      <td>0</td>\n",
       "      <td>335677</td>\n",
       "      <td>7.7500</td>\n",
       "      <td>NaN</td>\n",
       "      <td>Q</td>\n",
       "    </tr>\n",
       "  </tbody>\n",
       "</table>\n",
       "</div>"
      ],
      "text/plain": [
       "    IdPassageiro  Sobreviveu  Classe                           Nome  Gênero  \\\n",
       "5              6           0       3               Moran, Mr. James    male   \n",
       "16            17           0       3           Rice, Master. Eugene    male   \n",
       "22            23           1       3    McGowan, Miss. Anna \"Annie\"  female   \n",
       "28            29           1       3  O'Dwyer, Miss. Ellen \"Nellie\"  female   \n",
       "32            33           1       3       Glynn, Miss. Mary Agatha  female   \n",
       "\n",
       "    Idade  NumeroIrmaos  NumeroPais NumeroTicket  PrecoTicket NumeroCabine  \\\n",
       "5     NaN             0           0       330877       8.4583          NaN   \n",
       "16    2.0             4           1       382652      29.1250          NaN   \n",
       "22   15.0             0           0       330923       8.0292          NaN   \n",
       "28    NaN             0           0       330959       7.8792          NaN   \n",
       "32    NaN             0           0       335677       7.7500          NaN   \n",
       "\n",
       "   PortoEmbarcacao  \n",
       "5                Q  \n",
       "16               Q  \n",
       "22               Q  \n",
       "28               Q  \n",
       "32               Q  "
      ]
     },
     "execution_count": 16,
=======
      "text/plain": [
       "(77, 12)"
      ]
     },
     "execution_count": 13,
>>>>>>> 5a6654f8197b36c253587db90c6485aaaad27d84
     "metadata": {},
     "output_type": "execute_result"
    }
   ],
   "source": [
    "# Por último, utilizando a função isin()\n",
    "df_filtrado = df[df['PortoEmbarcacao'].isin(['Q'])]\n",
    "df_filtrado.shape"
   ]
  },
  {
   "cell_type": "markdown",
   "metadata": {
    "id": "8gULcYPzS_mz"
   },
   "source": [
    "### Consultas e filtros\n",
    "### Consultas\n",
    "\n",
    "Pandas também possui a função query(), que realiza consultas no DataFrame através de uma expressão booleana (T/F).\n",
    "\n",
    "**Docs**: [https://pandas.pydata.org/docs/reference/api/pandas.DataFrame.query.html]"
   ]
  },
  {
   "cell_type": "code",
<<<<<<< HEAD
   "execution_count": 17,
=======
   "execution_count": 14,
>>>>>>> 5a6654f8197b36c253587db90c6485aaaad27d84
   "metadata": {
    "id": "W-Ktv45VS_mz",
    "outputId": "00f9464e-df1b-4cd2-c0b3-30eac23016f1"
   },
   "outputs": [
    {
     "data": {
<<<<<<< HEAD
      "text/html": [
       "<div>\n",
       "<style scoped>\n",
       "    .dataframe tbody tr th:only-of-type {\n",
       "        vertical-align: middle;\n",
       "    }\n",
       "\n",
       "    .dataframe tbody tr th {\n",
       "        vertical-align: top;\n",
       "    }\n",
       "\n",
       "    .dataframe thead th {\n",
       "        text-align: right;\n",
       "    }\n",
       "</style>\n",
       "<table border=\"1\" class=\"dataframe\">\n",
       "  <thead>\n",
       "    <tr style=\"text-align: right;\">\n",
       "      <th></th>\n",
       "      <th>IdPassageiro</th>\n",
       "      <th>Sobreviveu</th>\n",
       "      <th>Classe</th>\n",
       "      <th>Nome</th>\n",
       "      <th>Gênero</th>\n",
       "      <th>Idade</th>\n",
       "      <th>NumeroIrmaos</th>\n",
       "      <th>NumeroPais</th>\n",
       "      <th>NumeroTicket</th>\n",
       "      <th>PrecoTicket</th>\n",
       "      <th>NumeroCabine</th>\n",
       "      <th>PortoEmbarcacao</th>\n",
       "    </tr>\n",
       "  </thead>\n",
       "  <tbody>\n",
       "    <tr>\n",
       "      <th>0</th>\n",
       "      <td>1</td>\n",
       "      <td>0</td>\n",
       "      <td>3</td>\n",
       "      <td>Braund, Mr. Owen Harris</td>\n",
       "      <td>male</td>\n",
       "      <td>22.0</td>\n",
       "      <td>1</td>\n",
       "      <td>0</td>\n",
       "      <td>A/5 21171</td>\n",
       "      <td>7.2500</td>\n",
       "      <td>NaN</td>\n",
       "      <td>S</td>\n",
       "    </tr>\n",
       "    <tr>\n",
       "      <th>2</th>\n",
       "      <td>3</td>\n",
       "      <td>1</td>\n",
       "      <td>3</td>\n",
       "      <td>Heikkinen, Miss. Laina</td>\n",
       "      <td>female</td>\n",
       "      <td>26.0</td>\n",
       "      <td>0</td>\n",
       "      <td>0</td>\n",
       "      <td>STON/O2. 3101282</td>\n",
       "      <td>7.9250</td>\n",
       "      <td>NaN</td>\n",
       "      <td>S</td>\n",
       "    </tr>\n",
       "    <tr>\n",
       "      <th>4</th>\n",
       "      <td>5</td>\n",
       "      <td>0</td>\n",
       "      <td>3</td>\n",
       "      <td>Allen, Mr. William Henry</td>\n",
       "      <td>male</td>\n",
       "      <td>35.0</td>\n",
       "      <td>0</td>\n",
       "      <td>0</td>\n",
       "      <td>373450</td>\n",
       "      <td>8.0500</td>\n",
       "      <td>NaN</td>\n",
       "      <td>S</td>\n",
       "    </tr>\n",
       "    <tr>\n",
       "      <th>5</th>\n",
       "      <td>6</td>\n",
       "      <td>0</td>\n",
       "      <td>3</td>\n",
       "      <td>Moran, Mr. James</td>\n",
       "      <td>male</td>\n",
       "      <td>NaN</td>\n",
       "      <td>0</td>\n",
       "      <td>0</td>\n",
       "      <td>330877</td>\n",
       "      <td>8.4583</td>\n",
       "      <td>NaN</td>\n",
       "      <td>Q</td>\n",
       "    </tr>\n",
       "    <tr>\n",
       "      <th>7</th>\n",
       "      <td>8</td>\n",
       "      <td>0</td>\n",
       "      <td>3</td>\n",
       "      <td>Palsson, Master. Gosta Leonard</td>\n",
       "      <td>male</td>\n",
       "      <td>2.0</td>\n",
       "      <td>3</td>\n",
       "      <td>1</td>\n",
       "      <td>349909</td>\n",
       "      <td>21.0750</td>\n",
       "      <td>NaN</td>\n",
       "      <td>S</td>\n",
       "    </tr>\n",
       "  </tbody>\n",
       "</table>\n",
       "</div>"
      ],
      "text/plain": [
       "   IdPassageiro  Sobreviveu  Classe                            Nome  Gênero  \\\n",
       "0             1           0       3         Braund, Mr. Owen Harris    male   \n",
       "2             3           1       3          Heikkinen, Miss. Laina  female   \n",
       "4             5           0       3        Allen, Mr. William Henry    male   \n",
       "5             6           0       3                Moran, Mr. James    male   \n",
       "7             8           0       3  Palsson, Master. Gosta Leonard    male   \n",
       "\n",
       "   Idade  NumeroIrmaos  NumeroPais      NumeroTicket  PrecoTicket  \\\n",
       "0   22.0             1           0         A/5 21171       7.2500   \n",
       "2   26.0             0           0  STON/O2. 3101282       7.9250   \n",
       "4   35.0             0           0            373450       8.0500   \n",
       "5    NaN             0           0            330877       8.4583   \n",
       "7    2.0             3           1            349909      21.0750   \n",
       "\n",
       "  NumeroCabine PortoEmbarcacao  \n",
       "0          NaN               S  \n",
       "2          NaN               S  \n",
       "4          NaN               S  \n",
       "5          NaN               Q  \n",
       "7          NaN               S  "
      ]
     },
     "execution_count": 17,
=======
      "text/plain": [
       "(491, 12)"
      ]
     },
     "execution_count": 14,
>>>>>>> 5a6654f8197b36c253587db90c6485aaaad27d84
     "metadata": {},
     "output_type": "execute_result"
    }
   ],
   "source": [
    "# Para ilustrar essa função, vamos procurar por pessoas que estavam na classe 3:\n",
    "df_consulta = df.query(\"Classe == 3\")\n",
    "df_consulta.shape\n"
   ]
  },
  {
   "cell_type": "code",
<<<<<<< HEAD
   "execution_count": 18,
=======
   "execution_count": 15,
>>>>>>> 5a6654f8197b36c253587db90c6485aaaad27d84
   "metadata": {
    "id": "uVSmQ1zeS_mz",
    "outputId": "555cf64e-c5a6-4b3d-d69a-89fb77dd1012"
   },
   "outputs": [
    {
     "data": {
<<<<<<< HEAD
      "text/html": [
       "<div>\n",
       "<style scoped>\n",
       "    .dataframe tbody tr th:only-of-type {\n",
       "        vertical-align: middle;\n",
       "    }\n",
       "\n",
       "    .dataframe tbody tr th {\n",
       "        vertical-align: top;\n",
       "    }\n",
       "\n",
       "    .dataframe thead th {\n",
       "        text-align: right;\n",
       "    }\n",
       "</style>\n",
       "<table border=\"1\" class=\"dataframe\">\n",
       "  <thead>\n",
       "    <tr style=\"text-align: right;\">\n",
       "      <th></th>\n",
       "      <th>IdPassageiro</th>\n",
       "      <th>Sobreviveu</th>\n",
       "      <th>Classe</th>\n",
       "      <th>Nome</th>\n",
       "      <th>Gênero</th>\n",
       "      <th>Idade</th>\n",
       "      <th>NumeroIrmaos</th>\n",
       "      <th>NumeroPais</th>\n",
       "      <th>NumeroTicket</th>\n",
       "      <th>PrecoTicket</th>\n",
       "      <th>NumeroCabine</th>\n",
       "      <th>PortoEmbarcacao</th>\n",
       "    </tr>\n",
       "  </thead>\n",
       "  <tbody>\n",
       "    <tr>\n",
       "      <th>0</th>\n",
       "      <td>1</td>\n",
       "      <td>0</td>\n",
       "      <td>3</td>\n",
       "      <td>Braund, Mr. Owen Harris</td>\n",
       "      <td>male</td>\n",
       "      <td>22.0</td>\n",
       "      <td>1</td>\n",
       "      <td>0</td>\n",
       "      <td>A/5 21171</td>\n",
       "      <td>7.2500</td>\n",
       "      <td>NaN</td>\n",
       "      <td>S</td>\n",
       "    </tr>\n",
       "    <tr>\n",
       "      <th>1</th>\n",
       "      <td>2</td>\n",
       "      <td>1</td>\n",
       "      <td>1</td>\n",
       "      <td>Cumings, Mrs. John Bradley (Florence Briggs Th...</td>\n",
       "      <td>female</td>\n",
       "      <td>38.0</td>\n",
       "      <td>1</td>\n",
       "      <td>0</td>\n",
       "      <td>PC 17599</td>\n",
       "      <td>71.2833</td>\n",
       "      <td>C85</td>\n",
       "      <td>C</td>\n",
       "    </tr>\n",
       "    <tr>\n",
       "      <th>2</th>\n",
       "      <td>3</td>\n",
       "      <td>1</td>\n",
       "      <td>3</td>\n",
       "      <td>Heikkinen, Miss. Laina</td>\n",
       "      <td>female</td>\n",
       "      <td>26.0</td>\n",
       "      <td>0</td>\n",
       "      <td>0</td>\n",
       "      <td>STON/O2. 3101282</td>\n",
       "      <td>7.9250</td>\n",
       "      <td>NaN</td>\n",
       "      <td>S</td>\n",
       "    </tr>\n",
       "    <tr>\n",
       "      <th>3</th>\n",
       "      <td>4</td>\n",
       "      <td>1</td>\n",
       "      <td>1</td>\n",
       "      <td>Futrelle, Mrs. Jacques Heath (Lily May Peel)</td>\n",
       "      <td>female</td>\n",
       "      <td>35.0</td>\n",
       "      <td>1</td>\n",
       "      <td>0</td>\n",
       "      <td>113803</td>\n",
       "      <td>53.1000</td>\n",
       "      <td>C123</td>\n",
       "      <td>S</td>\n",
       "    </tr>\n",
       "    <tr>\n",
       "      <th>4</th>\n",
       "      <td>5</td>\n",
       "      <td>0</td>\n",
       "      <td>3</td>\n",
       "      <td>Allen, Mr. William Henry</td>\n",
       "      <td>male</td>\n",
       "      <td>35.0</td>\n",
       "      <td>0</td>\n",
       "      <td>0</td>\n",
       "      <td>373450</td>\n",
       "      <td>8.0500</td>\n",
       "      <td>NaN</td>\n",
       "      <td>S</td>\n",
       "    </tr>\n",
       "  </tbody>\n",
       "</table>\n",
       "</div>"
      ],
      "text/plain": [
       "   IdPassageiro  Sobreviveu  Classe  \\\n",
       "0             1           0       3   \n",
       "1             2           1       1   \n",
       "2             3           1       3   \n",
       "3             4           1       1   \n",
       "4             5           0       3   \n",
       "\n",
       "                                                Nome  Gênero  Idade  \\\n",
       "0                            Braund, Mr. Owen Harris    male   22.0   \n",
       "1  Cumings, Mrs. John Bradley (Florence Briggs Th...  female   38.0   \n",
       "2                             Heikkinen, Miss. Laina  female   26.0   \n",
       "3       Futrelle, Mrs. Jacques Heath (Lily May Peel)  female   35.0   \n",
       "4                           Allen, Mr. William Henry    male   35.0   \n",
       "\n",
       "   NumeroIrmaos  NumeroPais      NumeroTicket  PrecoTicket NumeroCabine  \\\n",
       "0             1           0         A/5 21171       7.2500          NaN   \n",
       "1             1           0          PC 17599      71.2833          C85   \n",
       "2             0           0  STON/O2. 3101282       7.9250          NaN   \n",
       "3             1           0            113803      53.1000         C123   \n",
       "4             0           0            373450       8.0500          NaN   \n",
       "\n",
       "  PortoEmbarcacao  \n",
       "0               S  \n",
       "1               C  \n",
       "2               S  \n",
       "3               S  \n",
       "4               S  "
      ]
     },
     "execution_count": 18,
=======
      "text/plain": [
       "(707, 12)"
      ]
     },
     "execution_count": 15,
>>>>>>> 5a6654f8197b36c253587db90c6485aaaad27d84
     "metadata": {},
     "output_type": "execute_result"
    }
   ],
   "source": [
    "# A função query também pode ser utilizada para filtrar baseada em uma lista de valores\n",
    "df_consulta = df.query(\"Classe in (1, 3)\")\n",
    "df_consulta.shape"
   ]
  },
  {
   "cell_type": "markdown",
   "metadata": {
    "id": "zu1HgPXrS_m0"
   },
   "source": [
    "### Relembrar Slicing e introduzir conceitos de loc e iloc:\n",
    "\n",
    "### Slicing: obter apenas uma parte do dataset\n"
   ]
  },
  {
   "cell_type": "code",
<<<<<<< HEAD
   "execution_count": 7,
=======
   "execution_count": 16,
>>>>>>> 5a6654f8197b36c253587db90c6485aaaad27d84
   "metadata": {
    "id": "H3dlaegrS_m0",
    "outputId": "1c7ad974-196c-40db-8eb7-fa78f65ff480"
   },
   "outputs": [
    {
     "data": {
      "text/html": [
       "<div>\n",
       "<style scoped>\n",
       "    .dataframe tbody tr th:only-of-type {\n",
       "        vertical-align: middle;\n",
       "    }\n",
       "\n",
       "    .dataframe tbody tr th {\n",
       "        vertical-align: top;\n",
       "    }\n",
       "\n",
       "    .dataframe thead th {\n",
       "        text-align: right;\n",
       "    }\n",
       "</style>\n",
       "<table border=\"1\" class=\"dataframe\">\n",
       "  <thead>\n",
       "    <tr style=\"text-align: right;\">\n",
       "      <th></th>\n",
<<<<<<< HEAD
       "      <th>PassengerId</th>\n",
       "      <th>Survived</th>\n",
       "      <th>Pclass</th>\n",
       "      <th>Name</th>\n",
       "      <th>Sex</th>\n",
       "      <th>Age</th>\n",
       "      <th>SibSp</th>\n",
       "      <th>Parch</th>\n",
       "      <th>Ticket</th>\n",
       "      <th>Fare</th>\n",
       "      <th>Cabin</th>\n",
       "      <th>Embarked</th>\n",
=======
       "      <th>IdPassageiro</th>\n",
       "      <th>Sobreviveu</th>\n",
       "      <th>Classe</th>\n",
       "      <th>Nome</th>\n",
       "      <th>Sexo</th>\n",
       "      <th>Idade</th>\n",
       "      <th>NumeroIrmaos</th>\n",
       "      <th>NumeroPais</th>\n",
       "      <th>NumeroTicket</th>\n",
       "      <th>PrecoTicket</th>\n",
       "      <th>NumeroCabine</th>\n",
       "      <th>PortoEmbarcacao</th>\n",
>>>>>>> 5a6654f8197b36c253587db90c6485aaaad27d84
       "    </tr>\n",
       "  </thead>\n",
       "  <tbody>\n",
       "    <tr>\n",
       "      <th>0</th>\n",
       "      <td>1</td>\n",
       "      <td>0</td>\n",
       "      <td>3</td>\n",
       "      <td>Braund, Mr. Owen Harris</td>\n",
       "      <td>male</td>\n",
       "      <td>22.0</td>\n",
       "      <td>1</td>\n",
       "      <td>0</td>\n",
       "      <td>A/5 21171</td>\n",
       "      <td>7.2500</td>\n",
       "      <td>NaN</td>\n",
       "      <td>S</td>\n",
       "    </tr>\n",
       "    <tr>\n",
       "      <th>1</th>\n",
       "      <td>2</td>\n",
       "      <td>1</td>\n",
       "      <td>1</td>\n",
       "      <td>Cumings, Mrs. John Bradley (Florence Briggs Th...</td>\n",
       "      <td>female</td>\n",
       "      <td>38.0</td>\n",
       "      <td>1</td>\n",
       "      <td>0</td>\n",
       "      <td>PC 17599</td>\n",
       "      <td>71.2833</td>\n",
       "      <td>C85</td>\n",
       "      <td>C</td>\n",
       "    </tr>\n",
       "    <tr>\n",
       "      <th>2</th>\n",
       "      <td>3</td>\n",
       "      <td>1</td>\n",
       "      <td>3</td>\n",
       "      <td>Heikkinen, Miss. Laina</td>\n",
       "      <td>female</td>\n",
       "      <td>26.0</td>\n",
       "      <td>0</td>\n",
       "      <td>0</td>\n",
       "      <td>STON/O2. 3101282</td>\n",
       "      <td>7.9250</td>\n",
       "      <td>NaN</td>\n",
       "      <td>S</td>\n",
       "    </tr>\n",
       "    <tr>\n",
       "      <th>3</th>\n",
       "      <td>4</td>\n",
       "      <td>1</td>\n",
       "      <td>1</td>\n",
       "      <td>Futrelle, Mrs. Jacques Heath (Lily May Peel)</td>\n",
       "      <td>female</td>\n",
       "      <td>35.0</td>\n",
       "      <td>1</td>\n",
       "      <td>0</td>\n",
       "      <td>113803</td>\n",
       "      <td>53.1000</td>\n",
       "      <td>C123</td>\n",
       "      <td>S</td>\n",
       "    </tr>\n",
       "    <tr>\n",
       "      <th>4</th>\n",
       "      <td>5</td>\n",
       "      <td>0</td>\n",
       "      <td>3</td>\n",
       "      <td>Allen, Mr. William Henry</td>\n",
       "      <td>male</td>\n",
       "      <td>35.0</td>\n",
       "      <td>0</td>\n",
       "      <td>0</td>\n",
       "      <td>373450</td>\n",
       "      <td>8.0500</td>\n",
       "      <td>NaN</td>\n",
       "      <td>S</td>\n",
       "    </tr>\n",
       "  </tbody>\n",
       "</table>\n",
       "</div>"
      ],
      "text/plain": [
<<<<<<< HEAD
       "   PassengerId  Survived  Pclass  \\\n",
       "0            1         0       3   \n",
       "1            2         1       1   \n",
       "2            3         1       3   \n",
       "3            4         1       1   \n",
       "4            5         0       3   \n",
       "\n",
       "                                                Name     Sex   Age  SibSp  \\\n",
       "0                            Braund, Mr. Owen Harris    male  22.0      1   \n",
       "1  Cumings, Mrs. John Bradley (Florence Briggs Th...  female  38.0      1   \n",
       "2                             Heikkinen, Miss. Laina  female  26.0      0   \n",
       "3       Futrelle, Mrs. Jacques Heath (Lily May Peel)  female  35.0      1   \n",
       "4                           Allen, Mr. William Henry    male  35.0      0   \n",
       "\n",
       "   Parch            Ticket     Fare Cabin Embarked  \n",
       "0      0         A/5 21171   7.2500   NaN        S  \n",
       "1      0          PC 17599  71.2833   C85        C  \n",
       "2      0  STON/O2. 3101282   7.9250   NaN        S  \n",
       "3      0            113803  53.1000  C123        S  \n",
       "4      0            373450   8.0500   NaN        S  "
      ]
     },
     "execution_count": 7,
=======
       "   IdPassageiro  Sobreviveu  Classe  \\\n",
       "0             1           0       3   \n",
       "1             2           1       1   \n",
       "2             3           1       3   \n",
       "3             4           1       1   \n",
       "4             5           0       3   \n",
       "\n",
       "                                                Nome    Sexo  Idade  \\\n",
       "0                            Braund, Mr. Owen Harris    male   22.0   \n",
       "1  Cumings, Mrs. John Bradley (Florence Briggs Th...  female   38.0   \n",
       "2                             Heikkinen, Miss. Laina  female   26.0   \n",
       "3       Futrelle, Mrs. Jacques Heath (Lily May Peel)  female   35.0   \n",
       "4                           Allen, Mr. William Henry    male   35.0   \n",
       "\n",
       "   NumeroIrmaos  NumeroPais      NumeroTicket  PrecoTicket NumeroCabine  \\\n",
       "0             1           0         A/5 21171       7.2500          NaN   \n",
       "1             1           0          PC 17599      71.2833          C85   \n",
       "2             0           0  STON/O2. 3101282       7.9250          NaN   \n",
       "3             1           0            113803      53.1000         C123   \n",
       "4             0           0            373450       8.0500          NaN   \n",
       "\n",
       "  PortoEmbarcacao  \n",
       "0               S  \n",
       "1               C  \n",
       "2               S  \n",
       "3               S  \n",
       "4               S  "
      ]
     },
     "execution_count": 16,
>>>>>>> 5a6654f8197b36c253587db90c6485aaaad27d84
     "metadata": {},
     "output_type": "execute_result"
    }
   ],
   "source": [
    "# fatiando valores\n",
    "df[:5]"
   ]
  },
  {
   "cell_type": "markdown",
   "metadata": {
    "id": "41Zgqt2FS_m3"
   },
   "source": [
    "#### LOC e ILOC\n",
    "\n",
    "**loc**: Filtra informações no Dataframe\n",
    "\n",
    "```Python\n",
    "df.loc[linhas,colunas]\n",
    "```"
   ]
  },
  {
   "cell_type": "code",
<<<<<<< HEAD
   "execution_count": 19,
=======
   "execution_count": 17,
>>>>>>> 5a6654f8197b36c253587db90c6485aaaad27d84
   "metadata": {
    "id": "cr5Lt68uS_m4",
    "outputId": "8786bf85-9a78-4ff2-a2e5-12a514640843"
   },
   "outputs": [
    {
     "data": {
      "text/html": [
       "<div>\n",
       "<style scoped>\n",
       "    .dataframe tbody tr th:only-of-type {\n",
       "        vertical-align: middle;\n",
       "    }\n",
       "\n",
       "    .dataframe tbody tr th {\n",
       "        vertical-align: top;\n",
       "    }\n",
       "\n",
       "    .dataframe thead th {\n",
       "        text-align: right;\n",
       "    }\n",
       "</style>\n",
       "<table border=\"1\" class=\"dataframe\">\n",
       "  <thead>\n",
       "    <tr style=\"text-align: right;\">\n",
       "      <th></th>\n",
       "      <th>Sobreviveu</th>\n",
       "      <th>Idade</th>\n",
       "    </tr>\n",
       "  </thead>\n",
       "  <tbody>\n",
       "    <tr>\n",
       "      <th>0</th>\n",
       "      <td>0</td>\n",
       "      <td>22.0</td>\n",
       "    </tr>\n",
       "    <tr>\n",
       "      <th>1</th>\n",
       "      <td>1</td>\n",
       "      <td>38.0</td>\n",
       "    </tr>\n",
       "    <tr>\n",
       "      <th>2</th>\n",
       "      <td>1</td>\n",
       "      <td>26.0</td>\n",
       "    </tr>\n",
       "    <tr>\n",
       "      <th>3</th>\n",
       "      <td>1</td>\n",
       "      <td>35.0</td>\n",
       "    </tr>\n",
       "    <tr>\n",
       "      <th>4</th>\n",
       "      <td>0</td>\n",
       "      <td>35.0</td>\n",
       "    </tr>\n",
       "    <tr>\n",
       "      <th>...</th>\n",
       "      <td>...</td>\n",
       "      <td>...</td>\n",
       "    </tr>\n",
       "    <tr>\n",
       "      <th>886</th>\n",
       "      <td>0</td>\n",
       "      <td>27.0</td>\n",
       "    </tr>\n",
       "    <tr>\n",
       "      <th>887</th>\n",
       "      <td>1</td>\n",
       "      <td>19.0</td>\n",
       "    </tr>\n",
       "    <tr>\n",
       "      <th>888</th>\n",
       "      <td>0</td>\n",
       "      <td>NaN</td>\n",
       "    </tr>\n",
       "    <tr>\n",
       "      <th>889</th>\n",
       "      <td>1</td>\n",
       "      <td>26.0</td>\n",
       "    </tr>\n",
       "    <tr>\n",
       "      <th>890</th>\n",
       "      <td>0</td>\n",
       "      <td>32.0</td>\n",
       "    </tr>\n",
       "  </tbody>\n",
       "</table>\n",
       "<p>891 rows × 2 columns</p>\n",
       "</div>"
      ],
      "text/plain": [
       "     Sobreviveu  Idade\n",
       "0             0   22.0\n",
       "1             1   38.0\n",
       "2             1   26.0\n",
       "3             1   35.0\n",
       "4             0   35.0\n",
       "..          ...    ...\n",
       "886           0   27.0\n",
       "887           1   19.0\n",
       "888           0    NaN\n",
       "889           1   26.0\n",
       "890           0   32.0\n",
       "\n",
       "[891 rows x 2 columns]"
      ]
     },
<<<<<<< HEAD
     "execution_count": 19,
=======
     "execution_count": 17,
>>>>>>> 5a6654f8197b36c253587db90c6485aaaad27d84
     "metadata": {},
     "output_type": "execute_result"
    }
   ],
   "source": [
    "df_loc = df.loc[:, [\"Sobreviveu\", \"Idade\"]]\n",
    "df_loc"
   ]
  },
  {
   "cell_type": "markdown",
   "metadata": {
    "id": "VDSt5vAgS_m4"
   },
   "source": [
    "   \n",
    "**iloc**: Funciona de maneira similar, porém função iloc seleciona linhas e colunas por seus índices.\n",
    "\n",
    "```Python\n",
    "df.iloc[linhas, colunas]\n",
    "```"
   ]
  },
  {
   "cell_type": "code",
<<<<<<< HEAD
   "execution_count": 20,
=======
   "execution_count": 18,
>>>>>>> 5a6654f8197b36c253587db90c6485aaaad27d84
   "metadata": {
    "id": "NzQE8tnOS_m4",
    "outputId": "7e798f09-5b8e-4561-d1ab-bc2b460fd619"
   },
   "outputs": [
    {
     "data": {
      "text/html": [
       "<div>\n",
       "<style scoped>\n",
       "    .dataframe tbody tr th:only-of-type {\n",
       "        vertical-align: middle;\n",
       "    }\n",
       "\n",
       "    .dataframe tbody tr th {\n",
       "        vertical-align: top;\n",
       "    }\n",
       "\n",
       "    .dataframe thead th {\n",
       "        text-align: right;\n",
       "    }\n",
       "</style>\n",
       "<table border=\"1\" class=\"dataframe\">\n",
       "  <thead>\n",
       "    <tr style=\"text-align: right;\">\n",
       "      <th></th>\n",
       "      <th>IdPassageiro</th>\n",
       "      <th>Sobreviveu</th>\n",
       "    </tr>\n",
       "  </thead>\n",
       "  <tbody>\n",
       "    <tr>\n",
       "      <th>0</th>\n",
       "      <td>1</td>\n",
       "      <td>0</td>\n",
       "    </tr>\n",
       "    <tr>\n",
       "      <th>1</th>\n",
       "      <td>2</td>\n",
       "      <td>1</td>\n",
       "    </tr>\n",
       "    <tr>\n",
       "      <th>2</th>\n",
       "      <td>3</td>\n",
       "      <td>1</td>\n",
       "    </tr>\n",
       "    <tr>\n",
       "      <th>3</th>\n",
       "      <td>4</td>\n",
       "      <td>1</td>\n",
       "    </tr>\n",
       "    <tr>\n",
       "      <th>4</th>\n",
       "      <td>5</td>\n",
       "      <td>0</td>\n",
       "    </tr>\n",
       "    <tr>\n",
       "      <th>...</th>\n",
       "      <td>...</td>\n",
       "      <td>...</td>\n",
       "    </tr>\n",
       "    <tr>\n",
       "      <th>886</th>\n",
       "      <td>887</td>\n",
       "      <td>0</td>\n",
       "    </tr>\n",
       "    <tr>\n",
       "      <th>887</th>\n",
       "      <td>888</td>\n",
       "      <td>1</td>\n",
       "    </tr>\n",
       "    <tr>\n",
       "      <th>888</th>\n",
       "      <td>889</td>\n",
       "      <td>0</td>\n",
       "    </tr>\n",
       "    <tr>\n",
       "      <th>889</th>\n",
       "      <td>890</td>\n",
       "      <td>1</td>\n",
       "    </tr>\n",
       "    <tr>\n",
       "      <th>890</th>\n",
       "      <td>891</td>\n",
       "      <td>0</td>\n",
       "    </tr>\n",
       "  </tbody>\n",
       "</table>\n",
       "<p>891 rows × 2 columns</p>\n",
       "</div>"
      ],
      "text/plain": [
       "     IdPassageiro  Sobreviveu\n",
       "0               1           0\n",
       "1               2           1\n",
       "2               3           1\n",
       "3               4           1\n",
       "4               5           0\n",
       "..            ...         ...\n",
       "886           887           0\n",
       "887           888           1\n",
       "888           889           0\n",
       "889           890           1\n",
       "890           891           0\n",
       "\n",
       "[891 rows x 2 columns]"
      ]
     },
<<<<<<< HEAD
     "execution_count": 20,
=======
     "execution_count": 18,
>>>>>>> 5a6654f8197b36c253587db90c6485aaaad27d84
     "metadata": {},
     "output_type": "execute_result"
    }
   ],
   "source": [
    "df.iloc[:, [0,1]]"
   ]
  },
  {
   "cell_type": "code",
<<<<<<< HEAD
   "execution_count": 21,
=======
   "execution_count": 19,
>>>>>>> 5a6654f8197b36c253587db90c6485aaaad27d84
   "metadata": {
    "id": "PSjsxwSuS_m4",
    "outputId": "cb5f5ab9-92b9-4de7-f718-90515d59ab14"
   },
   "outputs": [
    {
     "data": {
      "text/html": [
       "<div>\n",
       "<style scoped>\n",
       "    .dataframe tbody tr th:only-of-type {\n",
       "        vertical-align: middle;\n",
       "    }\n",
       "\n",
       "    .dataframe tbody tr th {\n",
       "        vertical-align: top;\n",
       "    }\n",
       "\n",
       "    .dataframe thead th {\n",
       "        text-align: right;\n",
       "    }\n",
       "</style>\n",
       "<table border=\"1\" class=\"dataframe\">\n",
       "  <thead>\n",
       "    <tr style=\"text-align: right;\">\n",
       "      <th></th>\n",
       "      <th>IdPassageiro</th>\n",
       "      <th>Sobreviveu</th>\n",
       "      <th>Classe</th>\n",
       "      <th>Nome</th>\n",
<<<<<<< HEAD
       "      <th>Gênero</th>\n",
=======
       "      <th>Sexo</th>\n",
>>>>>>> 5a6654f8197b36c253587db90c6485aaaad27d84
       "      <th>Idade</th>\n",
       "      <th>NumeroIrmaos</th>\n",
       "      <th>NumeroPais</th>\n",
       "      <th>NumeroTicket</th>\n",
       "      <th>PrecoTicket</th>\n",
       "      <th>NumeroCabine</th>\n",
       "      <th>PortoEmbarcacao</th>\n",
       "    </tr>\n",
       "  </thead>\n",
       "  <tbody>\n",
       "    <tr>\n",
<<<<<<< HEAD
       "      <th>0</th>\n",
       "      <td>1</td>\n",
       "      <td>0</td>\n",
       "      <td>3</td>\n",
       "      <td>Braund, Mr. Owen Harris</td>\n",
       "      <td>male</td>\n",
       "      <td>22.0</td>\n",
       "      <td>1</td>\n",
       "      <td>0</td>\n",
       "      <td>A/5 21171</td>\n",
       "      <td>7.2500</td>\n",
=======
       "      <th>10</th>\n",
       "      <td>11</td>\n",
       "      <td>1</td>\n",
       "      <td>3</td>\n",
       "      <td>Sandstrom, Miss. Marguerite Rut</td>\n",
       "      <td>female</td>\n",
       "      <td>4.0</td>\n",
       "      <td>1</td>\n",
       "      <td>1</td>\n",
       "      <td>PP 9549</td>\n",
       "      <td>16.7000</td>\n",
       "      <td>G6</td>\n",
       "      <td>S</td>\n",
       "    </tr>\n",
       "    <tr>\n",
       "      <th>11</th>\n",
       "      <td>12</td>\n",
       "      <td>1</td>\n",
       "      <td>1</td>\n",
       "      <td>Bonnell, Miss. Elizabeth</td>\n",
       "      <td>female</td>\n",
       "      <td>58.0</td>\n",
       "      <td>0</td>\n",
       "      <td>0</td>\n",
       "      <td>113783</td>\n",
       "      <td>26.5500</td>\n",
       "      <td>C103</td>\n",
       "      <td>S</td>\n",
       "    </tr>\n",
       "    <tr>\n",
       "      <th>12</th>\n",
       "      <td>13</td>\n",
       "      <td>0</td>\n",
       "      <td>3</td>\n",
       "      <td>Saundercock, Mr. William Henry</td>\n",
       "      <td>male</td>\n",
       "      <td>20.0</td>\n",
       "      <td>0</td>\n",
       "      <td>0</td>\n",
       "      <td>A/5. 2151</td>\n",
       "      <td>8.0500</td>\n",
>>>>>>> 5a6654f8197b36c253587db90c6485aaaad27d84
       "      <td>NaN</td>\n",
       "      <td>S</td>\n",
       "    </tr>\n",
       "    <tr>\n",
<<<<<<< HEAD
       "      <th>1</th>\n",
       "      <td>2</td>\n",
       "      <td>1</td>\n",
       "      <td>1</td>\n",
       "      <td>Cumings, Mrs. John Bradley (Florence Briggs Th...</td>\n",
       "      <td>female</td>\n",
       "      <td>38.0</td>\n",
       "      <td>1</td>\n",
       "      <td>0</td>\n",
       "      <td>PC 17599</td>\n",
       "      <td>71.2833</td>\n",
       "      <td>C85</td>\n",
       "      <td>C</td>\n",
=======
       "      <th>13</th>\n",
       "      <td>14</td>\n",
       "      <td>0</td>\n",
       "      <td>3</td>\n",
       "      <td>Andersson, Mr. Anders Johan</td>\n",
       "      <td>male</td>\n",
       "      <td>39.0</td>\n",
       "      <td>1</td>\n",
       "      <td>5</td>\n",
       "      <td>347082</td>\n",
       "      <td>31.2750</td>\n",
       "      <td>NaN</td>\n",
       "      <td>S</td>\n",
       "    </tr>\n",
       "    <tr>\n",
       "      <th>14</th>\n",
       "      <td>15</td>\n",
       "      <td>0</td>\n",
       "      <td>3</td>\n",
       "      <td>Vestrom, Miss. Hulda Amanda Adolfina</td>\n",
       "      <td>female</td>\n",
       "      <td>14.0</td>\n",
       "      <td>0</td>\n",
       "      <td>0</td>\n",
       "      <td>350406</td>\n",
       "      <td>7.8542</td>\n",
       "      <td>NaN</td>\n",
       "      <td>S</td>\n",
>>>>>>> 5a6654f8197b36c253587db90c6485aaaad27d84
       "    </tr>\n",
       "  </tbody>\n",
       "</table>\n",
       "</div>"
      ],
      "text/plain": [
<<<<<<< HEAD
       "   IdPassageiro  Sobreviveu  Classe  \\\n",
       "0             1           0       3   \n",
       "1             2           1       1   \n",
       "\n",
       "                                                Nome  Gênero  Idade  \\\n",
       "0                            Braund, Mr. Owen Harris    male   22.0   \n",
       "1  Cumings, Mrs. John Bradley (Florence Briggs Th...  female   38.0   \n",
       "\n",
       "   NumeroIrmaos  NumeroPais NumeroTicket  PrecoTicket NumeroCabine  \\\n",
       "0             1           0    A/5 21171       7.2500          NaN   \n",
       "1             1           0     PC 17599      71.2833          C85   \n",
       "\n",
       "  PortoEmbarcacao  \n",
       "0               S  \n",
       "1               C  "
      ]
     },
     "execution_count": 21,
=======
       "    IdPassageiro  Sobreviveu  Classe                                  Nome  \\\n",
       "10            11           1       3       Sandstrom, Miss. Marguerite Rut   \n",
       "11            12           1       1              Bonnell, Miss. Elizabeth   \n",
       "12            13           0       3        Saundercock, Mr. William Henry   \n",
       "13            14           0       3           Andersson, Mr. Anders Johan   \n",
       "14            15           0       3  Vestrom, Miss. Hulda Amanda Adolfina   \n",
       "\n",
       "      Sexo  Idade  NumeroIrmaos  NumeroPais NumeroTicket  PrecoTicket  \\\n",
       "10  female    4.0             1           1      PP 9549      16.7000   \n",
       "11  female   58.0             0           0       113783      26.5500   \n",
       "12    male   20.0             0           0    A/5. 2151       8.0500   \n",
       "13    male   39.0             1           5       347082      31.2750   \n",
       "14  female   14.0             0           0       350406       7.8542   \n",
       "\n",
       "   NumeroCabine PortoEmbarcacao  \n",
       "10           G6               S  \n",
       "11         C103               S  \n",
       "12          NaN               S  \n",
       "13          NaN               S  \n",
       "14          NaN               S  "
      ]
     },
     "execution_count": 19,
>>>>>>> 5a6654f8197b36c253587db90c6485aaaad27d84
     "metadata": {},
     "output_type": "execute_result"
    }
   ],
   "source": [
    "df.iloc[10:15, :]"
   ]
  },
  {
   "cell_type": "markdown",
   "metadata": {},
   "source": [
    "### Exercício 04 parte 01\n",
    "\n",
    "- Realizar filtro com apenas uma única condição;\n",
    "- Realizar filtro com múltiplas condições;\n",
    "- Selecionar entradas com string específica;\n",
    "- Realizar uma consulta passageiros da segunda e terceira classe;\n",
    "- Obter subamostra do dataset com 30 amostras utilizando o método de slicing;\n",
    "- Utilizar a função loc para obter a idade e sobrevivência do passageiro;\n"
   ]
  },
  {
   "cell_type": "markdown",
   "metadata": {},
   "source": [
    "# Alomoço"
   ]
  },
  {
   "cell_type": "code",
   "execution_count": 20,
   "metadata": {},
   "outputs": [
    {
     "data": {
      "text/html": [
       "\n",
       "        <iframe\n",
       "            width=\"300\"\n",
       "            height=\"250\"\n",
       "            src=\"https://giphy.com/embed/7AKbdZiyTx98fPHG0Z\"\n",
       "            frameborder=\"0\"\n",
       "            allowfullscreen\n",
       "            \n",
       "        ></iframe>\n",
       "        "
      ],
      "text/plain": [
       "<IPython.lib.display.IFrame at 0x2becd951610>"
      ]
     },
     "execution_count": 20,
     "metadata": {},
     "output_type": "execute_result"
    }
   ],
   "source": [
    "from IPython.display import IFrame\n",
    "\n",
    "# GIF link used as IFrame\n",
    "iframe_url = \"https://giphy.com/embed/7AKbdZiyTx98fPHG0Z\"\n",
    "\n",
    "# resized output IFrame\n",
    "IFrame(src=iframe_url, width=300, height=250)"
   ]
  },
  {
   "cell_type": "markdown",
   "metadata": {
    "id": "nES063ppS_m4"
   },
   "source": [
    "### Agrupamento / Agregação\n",
    "\n",
    "Podemos criar um agrupamento de categorias e aplicar uma função às categorias. É um conceito simples, mas é uma técnica extremamente valiosa, amplamente utilizada na ciência de dados. Em projetos reais de ciência de dados, você lidará com grandes quantidades de dados e tentará várias vezes, portanto, para eficiência, usamos o conceito Groupby. O conceito de Groupby é realmente importante por causa de sua capacidade de resumir, agregar e agrupar dados com eficiência.\n",
    "\n",
    "\n",
    "[Fonte](https://acervolima.com/pandas-groupby-resumindo-agregando-e-agrupando-dados-em-python/)"
   ]
  },
  {
   "cell_type": "code",
<<<<<<< HEAD
   "execution_count": null,
   "metadata": {},
   "outputs": [],
   "source": []
  },
  {
   "cell_type": "code",
   "execution_count": 22,
=======
   "execution_count": 21,
>>>>>>> 5a6654f8197b36c253587db90c6485aaaad27d84
   "metadata": {
    "id": "noSCxvLQS_m6",
    "outputId": "fd434c19-19d3-4395-a595-83703e140d1b"
   },
   "outputs": [
    {
<<<<<<< HEAD
     "name": "stdout",
     "output_type": "stream",
     "text": [
      "Contagem de passageiros\n",
      "Classe\n",
      "1    216\n",
      "2    184\n",
      "3    491\n",
      "Name: IdPassageiro, dtype: int64\n"
     ]
=======
     "data": {
      "text/plain": [
       "<pandas.core.groupby.generic.DataFrameGroupBy object at 0x000002BED4E60F50>"
      ]
     },
     "execution_count": 21,
     "metadata": {},
     "output_type": "execute_result"
>>>>>>> 5a6654f8197b36c253587db90c6485aaaad27d84
    }
   ],
   "source": [
    "# Agrupar passageiros por classe\n",
    "dado_agrupado = df.groupby('Classe')\n",
    "dado_agrupado"
   ]
  },
  {
   "cell_type": "code",
<<<<<<< HEAD
=======
   "execution_count": 30,
   "metadata": {},
   "outputs": [
    {
     "data": {
      "text/plain": [
       "Classe\n",
       "1    216\n",
       "2    184\n",
       "3    491\n",
       "Name: IdPassageiro, dtype: int64"
      ]
     },
     "execution_count": 30,
     "metadata": {},
     "output_type": "execute_result"
    }
   ],
   "source": [
    "# Contagem de passageiros em cada classe, usando os dados agrupados no passo anterior\n",
    "contagem_passageiros = dado_agrupado['IdPassageiro'].count()\n",
    "contagem_passageiros"
   ]
  },
  {
   "cell_type": "code",
>>>>>>> 5a6654f8197b36c253587db90c6485aaaad27d84
   "execution_count": 23,
   "metadata": {},
   "outputs": [
    {
<<<<<<< HEAD
     "name": "stdout",
     "output_type": "stream",
     "text": [
      "Gênero de passageiros\n",
      "Gênero\n",
      "female    314\n",
      "male      577\n",
      "Name: IdPassageiro, dtype: int64\n"
     ]
    }
   ],
   "source": []
  },
  {
   "cell_type": "code",
   "execution_count": 31,
   "metadata": {},
   "outputs": [
    {
     "name": "stdout",
     "output_type": "stream",
     "text": [
      "Média de Idade de passageiros por classe\n",
      "Gênero\n",
      "female    27.915709\n",
      "male      30.726645\n",
      "Name: Idade, dtype: float64\n"
     ]
=======
     "data": {
      "text/plain": [
       "Classe\n",
       "3    491\n",
       "1    216\n",
       "2    184\n",
       "Name: count, dtype: int64"
      ]
     },
     "execution_count": 23,
     "metadata": {},
     "output_type": "execute_result"
    }
   ],
   "source": [
    "# função value counts\n",
    "df['Classe'].value_counts()"
   ]
  },
  {
   "cell_type": "code",
   "execution_count": 24,
   "metadata": {
    "id": "UxbPOZJfS_m7",
    "outputId": "f2031638-fbad-45b1-94a6-1415795d6800"
   },
   "outputs": [
    {
     "data": {
      "text/plain": [
       "Classe\n",
       "1    38.233441\n",
       "2    29.877630\n",
       "3    25.140620\n",
       "Name: Idade, dtype: float64"
      ]
     },
     "execution_count": 24,
     "metadata": {},
     "output_type": "execute_result"
>>>>>>> 5a6654f8197b36c253587db90c6485aaaad27d84
    }
   ],
   "source": [
    "# Média de Idade de passageiros em cada classe\n",
<<<<<<< HEAD
    "media_genero = dado_agrupado['Idade'].mean()\n",
    "\n",
    "print(\"Média de Idade de passageiros por classe\")\n",
    "print(media_genero)"
=======
    "media_idade = dado_agrupado['Idade'].mean()\n",
    "media_idade"
>>>>>>> 5a6654f8197b36c253587db90c6485aaaad27d84
   ]
  },
  {
   "cell_type": "code",
   "execution_count": 41,
   "metadata": {},
   "outputs": [
    {
     "data": {
      "text/html": [
       "<div>\n",
       "<style scoped>\n",
       "    .dataframe tbody tr th:only-of-type {\n",
       "        vertical-align: middle;\n",
       "    }\n",
       "\n",
       "    .dataframe tbody tr th {\n",
       "        vertical-align: top;\n",
       "    }\n",
       "\n",
       "    .dataframe thead th {\n",
       "        text-align: right;\n",
       "    }\n",
       "</style>\n",
       "<table border=\"1\" class=\"dataframe\">\n",
       "  <thead>\n",
       "    <tr style=\"text-align: right;\">\n",
       "      <th></th>\n",
       "      <th>count</th>\n",
       "      <th>mean</th>\n",
       "      <th>std</th>\n",
       "      <th>min</th>\n",
       "      <th>50%</th>\n",
       "      <th>99%</th>\n",
       "      <th>99.5%</th>\n",
       "      <th>max</th>\n",
       "    </tr>\n",
       "  </thead>\n",
       "  <tbody>\n",
       "    <tr>\n",
       "      <th>Idade</th>\n",
       "      <td>714.0</td>\n",
       "      <td>29.699118</td>\n",
       "      <td>14.526497</td>\n",
       "      <td>0.42</td>\n",
       "      <td>28.0</td>\n",
       "      <td>65.87</td>\n",
       "      <td>70.7175</td>\n",
       "      <td>80.0</td>\n",
       "    </tr>\n",
       "  </tbody>\n",
       "</table>\n",
       "</div>"
      ],
      "text/plain": [
       "       count       mean        std   min   50%    99%    99.5%   max\n",
       "Idade  714.0  29.699118  14.526497  0.42  28.0  65.87  70.7175  80.0"
      ]
     },
     "execution_count": 41,
     "metadata": {},
     "output_type": "execute_result"
    }
   ],
   "source": [
    "df[['Idade']].describe(percentiles=[0.99, 0.995]).T"
   ]
  },
  {
   "cell_type": "code",
   "execution_count": 42,
   "metadata": {},
   "outputs": [
    {
     "data": {
      "text/html": [
       "<div>\n",
       "<style scoped>\n",
       "    .dataframe tbody tr th:only-of-type {\n",
       "        vertical-align: middle;\n",
       "    }\n",
       "\n",
       "    .dataframe tbody tr th {\n",
       "        vertical-align: top;\n",
       "    }\n",
       "\n",
       "    .dataframe thead th {\n",
       "        text-align: right;\n",
       "    }\n",
       "</style>\n",
       "<table border=\"1\" class=\"dataframe\">\n",
       "  <thead>\n",
       "    <tr style=\"text-align: right;\">\n",
       "      <th></th>\n",
       "      <th>IdPassageiro</th>\n",
       "      <th>Sobreviveu</th>\n",
       "      <th>Classe</th>\n",
       "      <th>Nome</th>\n",
       "      <th>Sexo</th>\n",
       "      <th>Idade</th>\n",
       "      <th>NumeroIrmaos</th>\n",
       "      <th>NumeroPais</th>\n",
       "      <th>NumeroTicket</th>\n",
       "      <th>PrecoTicket</th>\n",
       "      <th>NumeroCabine</th>\n",
       "      <th>PortoEmbarcacao</th>\n",
       "    </tr>\n",
       "  </thead>\n",
       "  <tbody>\n",
       "    <tr>\n",
       "      <th>96</th>\n",
       "      <td>97</td>\n",
       "      <td>0</td>\n",
       "      <td>1</td>\n",
       "      <td>Goldschmidt, Mr. George B</td>\n",
       "      <td>male</td>\n",
       "      <td>71.0</td>\n",
       "      <td>0</td>\n",
       "      <td>0</td>\n",
       "      <td>PC 17754</td>\n",
       "      <td>34.6542</td>\n",
       "      <td>A5</td>\n",
       "      <td>C</td>\n",
       "    </tr>\n",
       "    <tr>\n",
       "      <th>116</th>\n",
       "      <td>117</td>\n",
       "      <td>0</td>\n",
       "      <td>3</td>\n",
       "      <td>Connors, Mr. Patrick</td>\n",
       "      <td>male</td>\n",
       "      <td>70.5</td>\n",
       "      <td>0</td>\n",
       "      <td>0</td>\n",
       "      <td>370369</td>\n",
       "      <td>7.7500</td>\n",
       "      <td>NaN</td>\n",
       "      <td>Q</td>\n",
       "    </tr>\n",
       "    <tr>\n",
       "      <th>493</th>\n",
       "      <td>494</td>\n",
       "      <td>0</td>\n",
       "      <td>1</td>\n",
       "      <td>Artagaveytia, Mr. Ramon</td>\n",
       "      <td>male</td>\n",
       "      <td>71.0</td>\n",
       "      <td>0</td>\n",
       "      <td>0</td>\n",
       "      <td>PC 17609</td>\n",
       "      <td>49.5042</td>\n",
       "      <td>NaN</td>\n",
       "      <td>C</td>\n",
       "    </tr>\n",
       "    <tr>\n",
       "      <th>630</th>\n",
       "      <td>631</td>\n",
       "      <td>1</td>\n",
       "      <td>1</td>\n",
       "      <td>Barkworth, Mr. Algernon Henry Wilson</td>\n",
       "      <td>male</td>\n",
       "      <td>80.0</td>\n",
       "      <td>0</td>\n",
       "      <td>0</td>\n",
       "      <td>27042</td>\n",
       "      <td>30.0000</td>\n",
       "      <td>A23</td>\n",
       "      <td>S</td>\n",
       "    </tr>\n",
       "    <tr>\n",
       "      <th>851</th>\n",
       "      <td>852</td>\n",
       "      <td>0</td>\n",
       "      <td>3</td>\n",
       "      <td>Svensson, Mr. Johan</td>\n",
       "      <td>male</td>\n",
       "      <td>74.0</td>\n",
       "      <td>0</td>\n",
       "      <td>0</td>\n",
       "      <td>347060</td>\n",
       "      <td>7.7750</td>\n",
       "      <td>NaN</td>\n",
       "      <td>S</td>\n",
       "    </tr>\n",
       "  </tbody>\n",
       "</table>\n",
       "</div>"
      ],
      "text/plain": [
       "     IdPassageiro  Sobreviveu  Classe                                  Nome  \\\n",
       "96             97           0       1             Goldschmidt, Mr. George B   \n",
       "116           117           0       3                  Connors, Mr. Patrick   \n",
       "493           494           0       1               Artagaveytia, Mr. Ramon   \n",
       "630           631           1       1  Barkworth, Mr. Algernon Henry Wilson   \n",
       "851           852           0       3                   Svensson, Mr. Johan   \n",
       "\n",
       "     Sexo  Idade  NumeroIrmaos  NumeroPais NumeroTicket  PrecoTicket  \\\n",
       "96   male   71.0             0           0     PC 17754      34.6542   \n",
       "116  male   70.5             0           0       370369       7.7500   \n",
       "493  male   71.0             0           0     PC 17609      49.5042   \n",
       "630  male   80.0             0           0        27042      30.0000   \n",
       "851  male   74.0             0           0       347060       7.7750   \n",
       "\n",
       "    NumeroCabine PortoEmbarcacao  \n",
       "96            A5               C  \n",
       "116          NaN               Q  \n",
       "493          NaN               C  \n",
       "630          A23               S  \n",
       "851          NaN               S  "
      ]
     },
     "execution_count": 42,
     "metadata": {},
     "output_type": "execute_result"
    }
   ],
   "source": [
    "df[df['Idade'] > 70]"
   ]
  },
  {
   "cell_type": "code",
   "execution_count": 45,
   "metadata": {
    "id": "jxk2rE1hS_m7",
    "outputId": "55e2c10a-49b5-4a8a-f979-162b4bc89e1b"
   },
   "outputs": [
    {
     "name": "stdout",
     "output_type": "stream",
     "text": [
      "Valor máximo do preço da passagem por classe\n",
      "Classe\n",
      "1    512.3292\n",
      "2     73.5000\n",
      "3     69.5500\n",
      "Name: PrecoTicket, dtype: float64\n",
      "Valor mínimo do preço da passagem por classe\n",
      "Classe\n",
      "1    0.0\n",
      "2    0.0\n",
      "3    0.0\n",
      "Name: PrecoTicket, dtype: float64\n"
     ]
    }
   ],
   "source": [
    "# Obter o valor máximo e mínimo pago por passageiros em cada classe:\n",
    "valor_max = dado_agrupado['PrecoTicket'].max()\n",
    "valor_min = dado_agrupado['PrecoTicket'].min()\n",
    "\n",
    "print(\"Valor máximo do preço da passagem por classe\")\n",
    "print(valor_max)\n",
    "\n",
    "print(\"Valor mínimo do preço da passagem por classe\")\n",
    "print(valor_min)"
   ]
  },
  {
   "cell_type": "code",
   "execution_count": 49,
   "metadata": {},
   "outputs": [
    {
     "data": {
      "text/html": [
       "<div>\n",
       "<style scoped>\n",
       "    .dataframe tbody tr th:only-of-type {\n",
       "        vertical-align: middle;\n",
       "    }\n",
       "\n",
       "    .dataframe tbody tr th {\n",
       "        vertical-align: top;\n",
       "    }\n",
       "\n",
       "    .dataframe thead tr th {\n",
       "        text-align: left;\n",
       "    }\n",
       "\n",
       "    .dataframe thead tr:last-of-type th {\n",
       "        text-align: right;\n",
       "    }\n",
       "</style>\n",
       "<table border=\"1\" class=\"dataframe\">\n",
       "  <thead>\n",
       "    <tr>\n",
       "      <th></th>\n",
       "      <th colspan=\"5\" halign=\"left\">PrecoTicket</th>\n",
       "      <th colspan=\"5\" halign=\"left\">Idade</th>\n",
       "    </tr>\n",
       "    <tr>\n",
       "      <th></th>\n",
       "      <th>count</th>\n",
       "      <th>mean</th>\n",
       "      <th>median</th>\n",
       "      <th>min</th>\n",
       "      <th>max</th>\n",
       "      <th>count</th>\n",
       "      <th>mean</th>\n",
       "      <th>median</th>\n",
       "      <th>min</th>\n",
       "      <th>max</th>\n",
       "    </tr>\n",
       "    <tr>\n",
       "      <th>Sexo</th>\n",
       "      <th></th>\n",
       "      <th></th>\n",
       "      <th></th>\n",
       "      <th></th>\n",
       "      <th></th>\n",
       "      <th></th>\n",
       "      <th></th>\n",
       "      <th></th>\n",
       "      <th></th>\n",
       "      <th></th>\n",
       "    </tr>\n",
       "  </thead>\n",
       "  <tbody>\n",
       "    <tr>\n",
       "      <th>female</th>\n",
       "      <td>314</td>\n",
       "      <td>44.479818</td>\n",
       "      <td>23.0</td>\n",
       "      <td>6.75</td>\n",
       "      <td>512.3292</td>\n",
       "      <td>261</td>\n",
       "      <td>27.915709</td>\n",
       "      <td>27.0</td>\n",
       "      <td>0.75</td>\n",
       "      <td>63.0</td>\n",
       "    </tr>\n",
       "    <tr>\n",
       "      <th>male</th>\n",
       "      <td>577</td>\n",
       "      <td>25.523893</td>\n",
       "      <td>10.5</td>\n",
       "      <td>0.00</td>\n",
       "      <td>512.3292</td>\n",
       "      <td>453</td>\n",
       "      <td>30.726645</td>\n",
       "      <td>29.0</td>\n",
       "      <td>0.42</td>\n",
       "      <td>80.0</td>\n",
       "    </tr>\n",
       "  </tbody>\n",
       "</table>\n",
       "</div>"
      ],
      "text/plain": [
       "       PrecoTicket                                   Idade                    \\\n",
       "             count       mean median   min       max count       mean median   \n",
       "Sexo                                                                           \n",
       "female         314  44.479818   23.0  6.75  512.3292   261  27.915709   27.0   \n",
       "male           577  25.523893   10.5  0.00  512.3292   453  30.726645   29.0   \n",
       "\n",
       "                    \n",
       "         min   max  \n",
       "Sexo                \n",
       "female  0.75  63.0  \n",
       "male    0.42  80.0  "
      ]
     },
     "execution_count": 49,
     "metadata": {},
     "output_type": "execute_result"
    }
   ],
   "source": [
    "df.groupby('Sexo').agg({'PrecoTicket': ['count', 'mean', 'median', 'min', 'max'], \n",
    "                        'Idade': ['count', 'mean', 'median', 'min', 'max']})"
   ]
  },
  {
   "cell_type": "code",
   "execution_count": 52,
   "metadata": {},
   "outputs": [
    {
     "data": {
      "text/html": [
       "<div>\n",
       "<style scoped>\n",
       "    .dataframe tbody tr th:only-of-type {\n",
       "        vertical-align: middle;\n",
       "    }\n",
       "\n",
       "    .dataframe tbody tr th {\n",
       "        vertical-align: top;\n",
       "    }\n",
       "\n",
       "    .dataframe thead tr th {\n",
       "        text-align: left;\n",
       "    }\n",
       "\n",
       "    .dataframe thead tr:last-of-type th {\n",
       "        text-align: right;\n",
       "    }\n",
       "</style>\n",
       "<table border=\"1\" class=\"dataframe\">\n",
       "  <thead>\n",
       "    <tr>\n",
       "      <th></th>\n",
       "      <th></th>\n",
       "      <th colspan=\"5\" halign=\"left\">PrecoTicket</th>\n",
       "    </tr>\n",
       "    <tr>\n",
       "      <th></th>\n",
       "      <th></th>\n",
       "      <th>count</th>\n",
       "      <th>mean</th>\n",
       "      <th>median</th>\n",
       "      <th>min</th>\n",
       "      <th>max</th>\n",
       "    </tr>\n",
       "    <tr>\n",
       "      <th>Sexo</th>\n",
       "      <th>PortoEmbarcacao</th>\n",
       "      <th></th>\n",
       "      <th></th>\n",
       "      <th></th>\n",
       "      <th></th>\n",
       "      <th></th>\n",
       "    </tr>\n",
       "  </thead>\n",
       "  <tbody>\n",
       "    <tr>\n",
       "      <th rowspan=\"3\" valign=\"top\">female</th>\n",
       "      <th>C</th>\n",
       "      <td>73</td>\n",
       "      <td>75.169805</td>\n",
       "      <td>56.92920</td>\n",
       "      <td>7.2250</td>\n",
       "      <td>512.3292</td>\n",
       "    </tr>\n",
       "    <tr>\n",
       "      <th>Q</th>\n",
       "      <td>36</td>\n",
       "      <td>12.634958</td>\n",
       "      <td>7.76875</td>\n",
       "      <td>6.7500</td>\n",
       "      <td>90.0000</td>\n",
       "    </tr>\n",
       "    <tr>\n",
       "      <th>S</th>\n",
       "      <td>203</td>\n",
       "      <td>38.740929</td>\n",
       "      <td>24.15000</td>\n",
       "      <td>7.2500</td>\n",
       "      <td>263.0000</td>\n",
       "    </tr>\n",
       "    <tr>\n",
       "      <th rowspan=\"3\" valign=\"top\">male</th>\n",
       "      <th>C</th>\n",
       "      <td>95</td>\n",
       "      <td>48.262109</td>\n",
       "      <td>24.00000</td>\n",
       "      <td>4.0125</td>\n",
       "      <td>512.3292</td>\n",
       "    </tr>\n",
       "    <tr>\n",
       "      <th>Q</th>\n",
       "      <td>41</td>\n",
       "      <td>13.838922</td>\n",
       "      <td>7.75000</td>\n",
       "      <td>6.7500</td>\n",
       "      <td>90.0000</td>\n",
       "    </tr>\n",
       "    <tr>\n",
       "      <th>S</th>\n",
       "      <td>441</td>\n",
       "      <td>21.711996</td>\n",
       "      <td>10.50000</td>\n",
       "      <td>0.0000</td>\n",
       "      <td>263.0000</td>\n",
       "    </tr>\n",
       "  </tbody>\n",
       "</table>\n",
       "</div>"
      ],
      "text/plain": [
       "                       PrecoTicket                                       \n",
       "                             count       mean    median     min       max\n",
       "Sexo   PortoEmbarcacao                                                   \n",
       "female C                        73  75.169805  56.92920  7.2250  512.3292\n",
       "       Q                        36  12.634958   7.76875  6.7500   90.0000\n",
       "       S                       203  38.740929  24.15000  7.2500  263.0000\n",
       "male   C                        95  48.262109  24.00000  4.0125  512.3292\n",
       "       Q                        41  13.838922   7.75000  6.7500   90.0000\n",
       "       S                       441  21.711996  10.50000  0.0000  263.0000"
      ]
     },
     "execution_count": 52,
     "metadata": {},
     "output_type": "execute_result"
    }
   ],
   "source": [
    "df.groupby(['Sexo', 'PortoEmbarcacao']).agg({'PrecoTicket': ['count', 'mean', 'median', 'min', 'max']})"
   ]
  },
  {
   "cell_type": "markdown",
   "metadata": {},
   "source": [
    "### Exercício 04 parte 02\n",
    "\n",
<<<<<<< HEAD
    "- Agrupar passageiros por gêreo\n",
    "- Obter a média de idade de passageiros por gênero\n",
    "- Obter o valor máximo e mínimo pago por passageiros em cada gênero"
   ]
  },
  {
   "cell_type": "code",
   "execution_count": 28,
   "metadata": {},
   "outputs": [
    {
     "name": "stdout",
     "output_type": "stream",
     "text": [
      "Gênero de passageiros\n",
      "Gênero\n",
      "female    314\n",
      "male      577\n",
      "Name: IdPassageiro, dtype: int64\n"
     ]
    }
   ],
   "source": [
    "# Agrupar passageiros por classe\n",
    "dado_agrupado = df.groupby('Gênero')\n",
    "\n",
    "# Contagem de passageiros em cada classe, usando os dados agrupados no passo anterior\n",
    "contagem_genero_passageiros = dado_agrupado['IdPassageiro'].count()\n",
    "\n",
    "print(\"Gênero de passageiros\")\n",
    "print(contagem_genero_passageiros)"
   ]
  },
  {
   "cell_type": "code",
   "execution_count": 29,
   "metadata": {},
   "outputs": [
    {
     "name": "stdout",
     "output_type": "stream",
     "text": [
      "Média de Idade de passageiros por classe\n",
      "Gênero\n",
      "female    27.915709\n",
      "male      30.726645\n",
      "Name: Idade, dtype: float64\n"
     ]
    }
   ],
   "source": [
    "# Média de Idade de passageiros em cada classe\n",
    "media_idade = dado_agrupado['Idade'].mean()\n",
    "\n",
    "print(\"Média de Idade de passageiros por Gênero\")\n",
    "print(media_idade)"
   ]
  },
  {
   "cell_type": "code",
   "execution_count": 30,
   "metadata": {},
   "outputs": [
    {
     "name": "stdout",
     "output_type": "stream",
     "text": [
      "Valor máximo do preço da passagem por gênero - Gênero\n",
      "female    512.3292\n",
      "male      512.3292\n",
      "Name: PrecoTicket, dtype: float64 e Valor mínimo do preço da passagem por gênero - Gênero\n",
      "female    6.75\n",
      "male      0.00\n",
      "Name: PrecoTicket, dtype: float64\n",
      "Gênero\n",
      "female    512.3292\n",
      "male      512.3292\n",
      "Name: PrecoTicket, dtype: float64\n",
      "Valor mínimo do preço da passagem por gênero\n",
      "Gênero\n",
      "female    6.75\n",
      "male      0.00\n",
      "Name: PrecoTicket, dtype: float64\n"
     ]
    }
   ],
   "source": [
    "# Obter o valor máximo e mínimo pago por passageiros em cada classe:\n",
    "valor_max = dado_agrupado['PrecoTicket'].max()\n",
    "valor_min = dado_agrupado['PrecoTicket'].min()\n",
    "\n",
    "print(f\"Valor máximo do preço da passagem por gênero - {valor_max} e Valor mínimo do preço da passagem por gênero - {valor_min}\")\n",
    "print(valor_max)\n",
    "\n",
    "print(\"Valor mínimo do preço da passagem por gênero\")\n",
    "print(valor_min)"
   ]
  },
  {
   "cell_type": "code",
   "execution_count": 34,
   "metadata": {},
   "outputs": [
    {
     "data": {
      "text/html": [
       "<div>\n",
       "<style scoped>\n",
       "    .dataframe tbody tr th:only-of-type {\n",
       "        vertical-align: middle;\n",
       "    }\n",
       "\n",
       "    .dataframe tbody tr th {\n",
       "        vertical-align: top;\n",
       "    }\n",
       "\n",
       "    .dataframe thead tr th {\n",
       "        text-align: left;\n",
       "    }\n",
       "\n",
       "    .dataframe thead tr:last-of-type th {\n",
       "        text-align: right;\n",
       "    }\n",
       "</style>\n",
       "<table border=\"1\" class=\"dataframe\">\n",
       "  <thead>\n",
       "    <tr>\n",
       "      <th></th>\n",
       "      <th colspan=\"5\" halign=\"left\">PrecoTicket</th>\n",
       "      <th colspan=\"5\" halign=\"left\">Idade</th>\n",
       "    </tr>\n",
       "    <tr>\n",
       "      <th></th>\n",
       "      <th>count</th>\n",
       "      <th>mean</th>\n",
       "      <th>median</th>\n",
       "      <th>min</th>\n",
       "      <th>max</th>\n",
       "      <th>count</th>\n",
       "      <th>mean</th>\n",
       "      <th>median</th>\n",
       "      <th>min</th>\n",
       "      <th>max</th>\n",
       "    </tr>\n",
       "    <tr>\n",
       "      <th>Gênero</th>\n",
       "      <th></th>\n",
       "      <th></th>\n",
       "      <th></th>\n",
       "      <th></th>\n",
       "      <th></th>\n",
       "      <th></th>\n",
       "      <th></th>\n",
       "      <th></th>\n",
       "      <th></th>\n",
       "      <th></th>\n",
       "    </tr>\n",
       "  </thead>\n",
       "  <tbody>\n",
       "    <tr>\n",
       "      <th>female</th>\n",
       "      <td>314</td>\n",
       "      <td>44.479818</td>\n",
       "      <td>23.0</td>\n",
       "      <td>6.75</td>\n",
       "      <td>512.3292</td>\n",
       "      <td>261</td>\n",
       "      <td>27.915709</td>\n",
       "      <td>27.0</td>\n",
       "      <td>0.75</td>\n",
       "      <td>63.0</td>\n",
       "    </tr>\n",
       "    <tr>\n",
       "      <th>male</th>\n",
       "      <td>577</td>\n",
       "      <td>25.523893</td>\n",
       "      <td>10.5</td>\n",
       "      <td>0.00</td>\n",
       "      <td>512.3292</td>\n",
       "      <td>453</td>\n",
       "      <td>30.726645</td>\n",
       "      <td>29.0</td>\n",
       "      <td>0.42</td>\n",
       "      <td>80.0</td>\n",
       "    </tr>\n",
       "  </tbody>\n",
       "</table>\n",
       "</div>"
      ],
      "text/plain": [
       "       PrecoTicket                                   Idade                    \\\n",
       "             count       mean median   min       max count       mean median   \n",
       "Gênero                                                                         \n",
       "female         314  44.479818   23.0  6.75  512.3292   261  27.915709   27.0   \n",
       "male           577  25.523893   10.5  0.00  512.3292   453  30.726645   29.0   \n",
       "\n",
       "                    \n",
       "         min   max  \n",
       "Gênero              \n",
       "female  0.75  63.0  \n",
       "male    0.42  80.0  "
      ]
     },
     "execution_count": 34,
     "metadata": {},
     "output_type": "execute_result"
    }
   ],
   "source": [
    "df.groupby('Gênero').agg({'PrecoTicket': ['count', 'mean', 'median', 'min', 'max'], \n",
    "                          'Idade':['count', 'mean', 'median', 'min', 'max'] })"
=======
    "- Agrupar passageiros por genero\n",
    "- Obter a média de idade de passageiros por genero\n",
    "- Obter o valor máximo e mínimo pago por passageiros em cada genero"
>>>>>>> 5a6654f8197b36c253587db90c6485aaaad27d84
   ]
  },
  {
   "cell_type": "markdown",
   "metadata": {
    "id": "6sNCu_PsS_m8"
   },
   "source": [
    "## Pandas: Gerando Gráficos\n",
    "\n",
    "Pandas, em si, não é uma biblioteca de geração de gráficos - o seu segredo é a sua integração com bibliotecas de visualização, permitindo que as suas capacidades de manipulação atuem como ferramentas poderosas para gerar gráficos. Exemplos dessas libs são o Numpy, matplotlib e Seaborn.\n",
    "\n",
    "Pandas permite:\n",
    "- manipulação e preparação de dados\n",
    "- integração com bibliotecas de visualização\n",
    "- seleção de dados\n",
    "- permite fácil combinação de dados provenientes de diferentes datasets"
   ]
  },
  {
   "cell_type": "markdown",
   "metadata": {
    "id": "RM_Xr6IzS_m8"
   },
   "source": [
    "### Pandas + Matplotlib"
   ]
  },
  {
   "cell_type": "markdown",
   "metadata": {
    "id": "Iab5GB_jURLN"
   },
   "source": [
    "Matplotlib, por sua vez, é uma biblioteca Python dedicada à visualização de dados. As figuras geradas, muitas vezes após tratamento de dados utilizando Pandas, são passíveis de fácil edição e customização via código e podem ser facilmente exportadas para outros formatos (inclusive de alta qualidade).\n",
    "\n",
    "Basicamente, a lib monta o gráfico a partir de seus dados em uma 'Figura' que pode conter um ou mais 'Eixos', que definem uma área onde pontos (relativos aos dados) podem ser delimitados.\n",
    "\n",
    "\n",
    "[Fonte](https://matplotlib.org/)\n",
    "\n",
    "[Fonte](https://matplotlib.org/stable/tutorials/introductory/quick_start.html)"
   ]
  },
  {
   "cell_type": "code",
<<<<<<< HEAD
   "execution_count": 36,
   "metadata": {},
   "outputs": [
    {
     "name": "stdout",
     "output_type": "stream",
     "text": [
      "Collecting matplotlib\n",
      "  Downloading matplotlib-3.8.0-cp311-cp311-win_amd64.whl (7.6 MB)\n",
      "                                              0.0/7.6 MB ? eta -:--:--\n",
      "                                              0.0/7.6 MB 1.4 MB/s eta 0:00:06\n",
      "                                              0.1/7.6 MB 1.1 MB/s eta 0:00:08\n",
      "                                              0.1/7.6 MB 1.2 MB/s eta 0:00:07\n",
      "     -                                        0.2/7.6 MB 1.6 MB/s eta 0:00:05\n",
      "     -                                        0.4/7.6 MB 1.8 MB/s eta 0:00:05\n",
      "     --                                       0.6/7.6 MB 2.1 MB/s eta 0:00:04\n",
      "     ----                                     0.8/7.6 MB 2.6 MB/s eta 0:00:03\n",
      "     -------                                  1.4/7.6 MB 3.9 MB/s eta 0:00:02\n",
      "     ------------                             2.4/7.6 MB 6.0 MB/s eta 0:00:01\n",
      "     ------------------                       3.5/7.6 MB 7.7 MB/s eta 0:00:01\n",
      "     -------------------------                4.9/7.6 MB 10.1 MB/s eta 0:00:01\n",
      "     --------------------------------         6.2/7.6 MB 11.6 MB/s eta 0:00:01\n",
      "     -------------------------------------    7.1/7.6 MB 11.9 MB/s eta 0:00:01\n",
      "     ---------------------------------------  7.6/7.6 MB 12.5 MB/s eta 0:00:01\n",
      "     ---------------------------------------- 7.6/7.6 MB 11.9 MB/s eta 0:00:00\n",
      "Collecting contourpy>=1.0.1 (from matplotlib)\n",
      "  Downloading contourpy-1.1.1-cp311-cp311-win_amd64.whl (480 kB)\n",
      "                                              0.0/480.5 kB ? eta -:--:--\n",
      "                                              0.0/480.5 kB ? eta -:--:--\n",
      "     --                                       30.7/480.5 kB ? eta -:--:--\n",
      "     ---                                   41.0/480.5 kB 487.6 kB/s eta 0:00:01\n",
      "     ----                                  61.4/480.5 kB 409.6 kB/s eta 0:00:02\n",
      "     ----                                  61.4/480.5 kB 409.6 kB/s eta 0:00:02\n",
      "     -----                                 71.7/480.5 kB 326.8 kB/s eta 0:00:02\n",
      "     -------                               92.2/480.5 kB 327.7 kB/s eta 0:00:02\n",
      "     --------                             112.6/480.5 kB 327.2 kB/s eta 0:00:02\n",
      "     --------                             112.6/480.5 kB 327.2 kB/s eta 0:00:02\n",
      "     ----------                           143.4/480.5 kB 355.0 kB/s eta 0:00:01\n",
      "     -------------                        174.1/480.5 kB 374.1 kB/s eta 0:00:01\n",
      "     ----------------                     225.3/480.5 kB 444.3 kB/s eta 0:00:01\n",
      "     -----------------                    235.5/480.5 kB 411.8 kB/s eta 0:00:01\n",
      "     --------------------                 276.5/480.5 kB 486.7 kB/s eta 0:00:01\n",
      "     -----------------------              317.4/480.5 kB 504.4 kB/s eta 0:00:01\n",
      "     -----------------------------        399.4/480.5 kB 579.0 kB/s eta 0:00:01\n",
      "     -----------------------------------  471.0/480.5 kB 627.8 kB/s eta 0:00:01\n",
      "     ------------------------------------ 480.5/480.5 kB 627.1 kB/s eta 0:00:00\n",
      "Collecting cycler>=0.10 (from matplotlib)\n",
      "  Downloading cycler-0.12.1-py3-none-any.whl (8.3 kB)\n",
      "Collecting fonttools>=4.22.0 (from matplotlib)\n",
      "  Downloading fonttools-4.43.1-cp311-cp311-win_amd64.whl (2.1 MB)\n",
      "                                              0.0/2.1 MB ? eta -:--:--\n",
      "     -------------------                      1.1/2.1 MB 22.4 MB/s eta 0:00:01\n",
      "     ----------------------------------       1.8/2.1 MB 19.4 MB/s eta 0:00:01\n",
      "     ---------------------------------------- 2.1/2.1 MB 19.4 MB/s eta 0:00:00\n",
      "Collecting kiwisolver>=1.0.1 (from matplotlib)\n",
      "  Downloading kiwisolver-1.4.5-cp311-cp311-win_amd64.whl (56 kB)\n",
      "                                              0.0/56.1 kB ? eta -:--:--\n",
      "     ---------------------------------------- 56.1/56.1 kB ? eta 0:00:00\n",
      "Requirement already satisfied: numpy<2,>=1.21 in c:\\users\\professor\\appdata\\local\\programs\\python\\python311\\lib\\site-packages (from matplotlib) (1.26.0)\n",
      "Requirement already satisfied: packaging>=20.0 in c:\\users\\professor\\appdata\\roaming\\python\\python311\\site-packages (from matplotlib) (23.2)\n",
      "Collecting pillow>=6.2.0 (from matplotlib)\n",
      "  Downloading Pillow-10.1.0-cp311-cp311-win_amd64.whl (2.6 MB)\n",
      "                                              0.0/2.6 MB ? eta -:--:--\n",
      "     ---------------                          1.0/2.6 MB 31.7 MB/s eta 0:00:01\n",
      "     -----------------------------            1.9/2.6 MB 24.8 MB/s eta 0:00:01\n",
      "     ---------------------------------------  2.6/2.6 MB 23.8 MB/s eta 0:00:01\n",
      "     ---------------------------------------- 2.6/2.6 MB 20.8 MB/s eta 0:00:00\n",
      "Collecting pyparsing>=2.3.1 (from matplotlib)\n",
      "  Downloading pyparsing-3.1.1-py3-none-any.whl (103 kB)\n",
      "                                              0.0/103.1 kB ? eta -:--:--\n",
      "     -------------------------------------- 103.1/103.1 kB 5.8 MB/s eta 0:00:00\n",
      "Requirement already satisfied: python-dateutil>=2.7 in c:\\users\\professor\\appdata\\roaming\\python\\python311\\site-packages (from matplotlib) (2.8.2)\n",
      "Requirement already satisfied: six>=1.5 in c:\\users\\professor\\appdata\\roaming\\python\\python311\\site-packages (from python-dateutil>=2.7->matplotlib) (1.16.0)\n",
      "Installing collected packages: pyparsing, pillow, kiwisolver, fonttools, cycler, contourpy, matplotlib\n",
      "Successfully installed contourpy-1.1.1 cycler-0.12.1 fonttools-4.43.1 kiwisolver-1.4.5 matplotlib-3.8.0 pillow-10.1.0 pyparsing-3.1.1\n",
      "Note: you may need to restart the kernel to use updated packages.\n"
     ]
    },
    {
     "name": "stderr",
     "output_type": "stream",
     "text": [
      "  WARNING: The scripts fonttools.exe, pyftmerge.exe, pyftsubset.exe and ttx.exe are installed in 'c:\\Users\\PROFESSOR\\AppData\\Local\\Programs\\Python\\Python311\\Scripts' which is not on PATH.\n",
      "  Consider adding this directory to PATH or, if you prefer to suppress this warning, use --no-warn-script-location.\n",
      "\n",
      "[notice] A new release of pip is available: 23.1.2 -> 23.3.1\n",
      "[notice] To update, run: python.exe -m pip install --upgrade pip\n"
     ]
    }
   ],
   "source": [
    "%pip install matplotlib"
   ]
  },
  {
   "cell_type": "code",
   "execution_count": 38,
=======
   "execution_count": 58,
>>>>>>> 5a6654f8197b36c253587db90c6485aaaad27d84
   "metadata": {
    "colab": {
     "base_uri": "https://localhost:8080/",
     "height": 448
    },
    "id": "KS8389rdXMEu",
    "outputId": "386b4ea1-0ef0-4e2a-891a-e1ea0dee0ed5"
   },
   "outputs": [
    {
     "data": {
      "image/png": "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",
      "text/plain": [
       "<Figure size 640x480 with 1 Axes>"
      ]
     },
     "metadata": {},
     "output_type": "display_data"
    }
   ],
   "source": [
    "# exemplo mais simples de gráfico:\n",
    "import matplotlib.pyplot as plt\n",
    "\n",
    "fig, ax = plt.subplots()\n",
    "ax.plot([1, 2, 3, 4], [2, 4, 6, 8]);"
   ]
  },
  {
   "cell_type": "markdown",
   "metadata": {
    "id": "j-fE0SiHS_m8"
   },
   "source": [
    "*** OBS: Deixar claro para alunas que matplotlib será visto em semanas seguintes - ele só está sendo introduzido nesse contexto para que possamos gerar gráficos simples com o uso de Pandas ***\n",
    "\n",
    "\n"
   ]
  },
  {
   "cell_type": "code",
<<<<<<< HEAD
   "execution_count": 47,
=======
   "execution_count": 59,
>>>>>>> 5a6654f8197b36c253587db90c6485aaaad27d84
   "metadata": {
    "id": "bmZg5LjvS_nJ",
    "outputId": "f3874a08-9ec1-4235-8db1-2250deeb54ea"
   },
   "outputs": [
    {
     "data": {
<<<<<<< HEAD
      "image/png": "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",
      "text/plain": [
       "<Figure size 640x480 with 1 Axes>"
      ]
     },
     "metadata": {},
     "output_type": "display_data"
=======
      "text/plain": [
       "Classe\n",
       "3    491\n",
       "1    216\n",
       "2    184\n",
       "Name: count, dtype: int64"
      ]
     },
     "execution_count": 59,
     "metadata": {},
     "output_type": "execute_result"
>>>>>>> 5a6654f8197b36c253587db90c6485aaaad27d84
    }
   ],
   "source": [
    "# Criação de um gráfico de barras:  matplotlib + Pandas\n",
    "# plot() + bar\n",
    "contagem_passageiros = df['Classe'].value_counts()\n",
<<<<<<< HEAD
    "contagem_passageiros.plot(kind='bar');\n",
    "\n",
    "\n"
=======
    "contagem_passageiros"
   ]
  },
  {
   "cell_type": "markdown",
   "metadata": {},
   "source": [
    "**Doc:** https://pandas.pydata.org/docs/reference/api/pandas.DataFrame.plot.html"
>>>>>>> 5a6654f8197b36c253587db90c6485aaaad27d84
   ]
  },
  {
   "cell_type": "code",
<<<<<<< HEAD
   "execution_count": 46,
=======
   "execution_count": 62,
>>>>>>> 5a6654f8197b36c253587db90c6485aaaad27d84
   "metadata": {},
   "outputs": [
    {
     "data": {
      "image/png": "iVBORw0KGgoAAAANSUhEUgAAAioAAAGdCAYAAAA8F1jjAAAAOXRFWHRTb2Z0d2FyZQBNYXRwbG90bGliIHZlcnNpb24zLjguMCwgaHR0cHM6Ly9tYXRwbG90bGliLm9yZy81sbWrAAAACXBIWXMAAA9hAAAPYQGoP6dpAAAZdklEQVR4nO3deYxV5fnA8WdwmBECM0CVTQalghpElLrQcesiFQFx6x9oTTTVWLVgtRiNaBVN2kI0cWlLSNNF06YWxYoaN7QguBQQEBSwgrQopLKo6AwiojLv7w/j/XXciuMw5x3m80luwr3n5M5z3wvhm3PPuVOWUkoBAJChdkUPAADweYQKAJAtoQIAZEuoAADZEioAQLaECgCQLaECAGRLqAAA2SoveoCvoqGhIV577bXo3LlzlJWVFT0OALATUkqxZcuW6N27d7Rr98XHTFp1qLz22mtRU1NT9BgAQBOsW7cu+vTp84X7tOpQ6dy5c0R89EKrqqoKngYA2Bn19fVRU1NT+n/8i7TqUPn4456qqiqhAgCtzM6ctuFkWgAgW0IFAMiWUAEAsiVUAIBsCRUAIFtCBQDIllABALIlVACAbAkVACBbQgUAyJZQAQCyJVQAgGwJFQAgW0IFAMiWUAEAsiVUAIBsCRUAIFtCBQDIllABALIlVACAbAkVACBbQgUAyJZQAQCyJVQAgGwJFQAgW0IFAMiWUAEAslVe9ADNYdDEmdGusmPRY0CTvDJ5VNEjAGTLERUAIFtCBQDIllABALIlVACAbAkVACBbQgUAyJZQAQCyJVQAgGwJFQAgW0IFAMiWUAEAsiVUAIBsCRUAIFtCBQDIllABALIlVACAbAkVACBbQgUAyJZQAQCyJVQAgGwJFQAgW0IFAMiWUAEAsiVUAIBsCRUAIFtCBQDIVqGhMmnSpDjyyCOjc+fO0b179zjttNNi5cqVRY4EAGSk0FCZO3dujB07NubPnx+PP/54fPDBB3HiiSfG1q1bixwLAMhEeZE//NFHH210/4477oju3bvH4sWL4/jjjy9oKgAgF4WGyifV1dVFRES3bt0+c/v27dtj+/btpfv19fUtMhcAUIxsTqZtaGiIyy67LI455pgYNGjQZ+4zadKkqK6uLt1qampaeEoAoCVlEypjx46N5cuXx7Rp0z53nwkTJkRdXV3ptm7duhacEABoaVl89DNu3Lh48MEH48knn4w+ffp87n6VlZVRWVnZgpMBAEUqNFRSSnHJJZfEjBkzYs6cOdGvX78ixwEAMlNoqIwdOzbuvPPOuP/++6Nz586xYcOGiIiorq6ODh06FDkaAJCBQs9RmTp1atTV1cW3v/3t6NWrV+l21113FTkWAJCJwj/6AQD4PNlc9QMA8ElCBQDIllABALIlVACAbAkVACBbQgUAyJZQAQCyJVQAgGwJFQAgW0IFAMiWUAEAsiVUAIBsCRUAIFtCBQDIllABALIlVACAbAkVACBbQgUAyJZQAQCyJVQAgGwJFQAgW0IFAMiWUAEAsiVUAIBslRc9QHNYfsPwqKqqKnoMAKCZOaICAGRLqAAA2RIqAEC2hAoAkC2hAgBkS6gAANkSKgBAtoQKAJAtoQIAZEuoAADZEioAQLaECgCQLaECAGRLqAAA2RIqAEC2hAoAkC2hAgBkS6gAANkSKgBAtoQKAJAtoQIAZEuoAADZEioAQLaECgCQLaECAGRLqAAA2RIqAEC2hAoAkC2hAgBkS6gAANkSKgBAtoQKAJAtoQIAZEuoAADZEioAQLaECgCQLaECAGRLqAAA2RIqAEC2hAoAkC2hAgBkS6gAANkSKgBAtoQKAJAtoQIAZEuoAADZEioAQLaECgCQLaECAGRLqAAA2RIqAEC2hAoAkC2hAgBkS6gAANkSKgBAtoQKAJAtoQIAZEuoAADZEioAQLaECgCQLaECAGSrvOgBmsOgiTOjXWXHoseAVueVyaOKHgHgCzmiAgBkS6gAANkSKgBAtoQKAJAtoQIAZEuoAADZEioAQLaECgCQLaECAGTrK4XK6tWrY+bMmbFt27aIiEgpNctQAAARTQyVN998M4YNGxYHHHBAjBw5MtavXx8REeeff35cfvnlzTogANB2NSlUfvrTn0Z5eXmsXbs2Onb8/9+xM2bMmHj00UebbTgAoG1r0i8lfOyxx2LmzJnRp0+fRo8PGDAgXn311WYZDACgSUdUtm7d2uhIysc2b94clZWVX3koAICIJobKcccdF3/6059K98vKyqKhoSFuvPHG+M53vtNswwEAbVuTPvq58cYb44QTTohFixbF+++/H1deeWWsWLEiNm/eHM8880xzzwgAtFFNOqIyaNCgWLVqVRx77LFx6qmnxtatW+OMM86IJUuWxP7779/cMwIAbVSTjqhERFRXV8c111zTnLMAADTSpCMqjz76aDz99NOl+1OmTInDDjssfvCDH8Rbb73VbMMBAG1bk0LliiuuiPr6+oiIWLZsWYwfPz5GjhwZa9asifHjxzfrgABA29Wkj37WrFkTAwcOjIiIv/3tbzF69Oj45S9/Gc8991yMHDmyWQcEANquJh1RqaioiHfffTciIv7+97/HiSeeGBER3bp1Kx1pAQD4qpp0ROXYY4+N8ePHxzHHHBPPPvts3HXXXRERsWrVqk99Wy0AQFM16YjKb37zmygvL4977rknpk6dGvvss09ERDzyyCNx0kknNeuAAEDb1aQjKn379o0HH3zwU4/fcsstX3kgAICPNemIynPPPRfLli0r3b///vvjtNNOi6uvvjref//9nX6eJ598MkaPHh29e/eOsrKyuO+++5oyDgCwm2pSqFx44YWxatWqiIj497//HWeeeWZ07Ngxpk+fHldeeeVOP8/WrVvj0EMPjSlTpjRlDABgN9ekj35WrVoVhx12WERETJ8+PY4//vi4884745lnnokzzzwzbr311p16nhEjRsSIESOaMgIA0AY0KVRSStHQ0BARH12efPLJJ0dERE1NTbzxxhvNN90nbN++PbZv316671JoANi9NemjnyOOOCJ+/vOfx5///OeYO3dujBo1KiI++iK4Hj16NOuA/23SpElRXV1dutXU1OyynwUAFK9JoXLrrbfGc889F+PGjYtrrrkm+vfvHxER99xzTxx99NHNOuB/mzBhQtTV1ZVu69at22U/CwAoXpM++hk8eHCjq34+dtNNN8Uee+zxlYf6PJWVlVFZWbnLnh8AyEuTQuXz7Lnnns35dABAG9ekUNmxY0fccsstcffdd8fatWs/9d0pmzdv3qnneeedd2L16tWl+2vWrImlS5dGt27dom/fvk0ZDQDYjTTpHJUbbrghbr755hgzZkzU1dXF+PHj44wzzoh27drF9ddfv9PPs2jRohgyZEgMGTIkIiLGjx8fQ4YMieuuu64pYwEAu5kmHVH5y1/+Er/73e9i1KhRcf3118dZZ50V+++/fwwePDjmz58fP/nJT3bqeb797W9HSqkpIwAAbUCTjqhs2LAhDjnkkIiI6NSpU9TV1UVExMknnxwPPfRQ800HALRpTQqVPn36xPr16yMiYv/994/HHnssIiIWLlzoqhwAoNk0KVROP/30mDVrVkREXHLJJXHttdfGgAED4pxzzonzzjuvWQcEANquJp2jMnny5NKfx4wZE3379o158+bFgAEDYvTo0c02HADQtjXL96jU1tZGbW1tczwVAEDJTofKAw88sNNPesoppzRpGACA/7bToXLaaaft1H5lZWWxY8eOps4DAFCy06HS0NCwK+cAAPiUL3XVz+zZs2PgwIFRX1//qW11dXVx8MEHx1NPPdVswwEAbduXCpVbb701LrjggqiqqvrUturq6rjwwgvj5ptvbrbhAIC27UuFyvPPPx8nnXTS524/8cQTY/HixV95KACAiC8ZKhs3boz27dt/7vby8vJ4/fXXv/JQAAARXzJU9tlnn1i+fPnnbn/hhReiV69eX3koAICILxkqI0eOjGuvvTbee++9T23btm1bTJw4MU4++eRmGw4AaNu+1DfT/uxnP4t77703DjjggBg3blwceOCBERHx0ksvxZQpU2LHjh1xzTXX7JJBAYC250uFSo8ePeIf//hHXHzxxTFhwoRIKUXER1/yNnz48JgyZUr06NFjlwwKALQ9X/p3/ey7777x8MMPx1tvvRWrV6+OlFIMGDAgunbtuivmAwDasCb/UsKuXbvGkUce2ZyzAAA08qVOpgUAaElCBQDIllABALIlVACAbAkVACBbQgUAyFaTL0/OyfIbhkdVVVXRYwAAzcwRFQAgW0IFAMiWUAEAsiVUAIBsCRUAIFtCBQDIllABALIlVACAbAkVACBbQgUAyJZQAQCyJVQAgGwJFQAgW0IFAMiWUAEAsiVUAIBsCRUAIFtCBQDIllABALIlVACAbAkVACBbQgUAyJZQAQCyJVQAgGwJFQAgW0IFAMiWUAEAsiVUAIBsCRUAIFtCBQDIllABALIlVACAbAkVACBbQgUAyJZQAQCyJVQAgGwJFQAgW0IFAMiWUAEAsiVUAIBsCRUAIFtCBQDIllABALIlVACAbAkVACBbQgUAyJZQAQCyJVQAgGwJFQAgW0IFAMiWUAEAsiVUAIBsCRUAIFtCBQDIllABALIlVACAbAkVACBbQgUAyJZQAQCyJVQAgGwJFQAgW+VFD9AcBk2cGe0qOxY9BgDsVl6ZPKroERxRAQDyJVQAgGwJFQAgW0IFAMiWUAEAsiVUAIBsCRUAIFtCBQDIllABALIlVACAbAkVACBbQgUAyJZQAQCyJVQAgGwJFQAgW0IFAMiWUAEAsiVUAIBsCRUAIFtCBQDIllABALIlVACAbAkVACBbQgUAyJZQAQCyJVQAgGwVGipTp06NwYMHR1VVVVRVVUVtbW088sgjRY4EAGSk0FDp06dPTJ48ORYvXhyLFi2K7373u3HqqafGihUrihwLAMhEeZE/fPTo0Y3u/+IXv4ipU6fG/Pnz4+CDDy5oKgAgF4WGyn/bsWNHTJ8+PbZu3Rq1tbWfuc/27dtj+/btpfv19fUtNR4AUIDCT6ZdtmxZdOrUKSorK+Oiiy6KGTNmxMCBAz9z30mTJkV1dXXpVlNT08LTAgAtqfBQOfDAA2Pp0qWxYMGCuPjii+Pcc8+NF1988TP3nTBhQtTV1ZVu69ata+FpAYCWVPhHPxUVFdG/f/+IiDj88MNj4cKFcdttt8Vvf/vbT+1bWVkZlZWVLT0iAFCQwo+ofFJDQ0Oj81AAgLar0CMqEyZMiBEjRkTfvn1jy5Ytceedd8acOXNi5syZRY4FAGSi0FDZtGlTnHPOObF+/fqorq6OwYMHx8yZM+N73/tekWMBAJkoNFT+8Ic/FPnjAYDMZXeOCgDAx4QKAJAtoQIAZEuoAADZEioAQLaECgCQLaECAGRLqAAA2RIqAEC2hAoAkC2hAgBkS6gAANkSKgBAtoQKAJAtoQIAZEuoAADZEioAQLaECgCQLaECAGRLqAAA2RIqAEC2hAoAkC2hAgBkq7zoAZrD8huGR1VVVdFjAADNzBEVACBbQgUAyJZQAQCyJVQAgGwJFQAgW0IFAMiWUAEAsiVUAIBsCRUAIFtCBQDIllABALIlVACAbAkVACBbQgUAyJZQAQCyJVQAgGwJFQAgW0IFAMiWUAEAsiVUAIBsCRUAIFtCBQDIllABALIlVACAbAkVACBbQgUAyJZQAQCyJVQAgGwJFQAgW+VFD/BVpJQiIqK+vr7gSQCAnfXx/9sf/z/+RVp1qLz55psREVFTU1PwJADAl7Vly5aorq7+wn1adah069YtIiLWrl37P18oza++vj5qampi3bp1UVVVVfQ4bZL3oFjWv1jWv1hfZf1TSrFly5bo3bv3/9y3VYdKu3YfnWJTXV3tL2mBqqqqrH/BvAfFsv7Fsv7Faur67+wBBifTAgDZEioAQLZadahUVlbGxIkTo7KysuhR2iTrXzzvQbGsf7Gsf7Faav3L0s5cGwQAUIBWfUQFANi9CRUAIFtCBQDIllABALLVqkNlypQpsd9++8Wee+4ZQ4cOjWeffbbokXYLTz75ZIwePTp69+4dZWVlcd999zXanlKK6667Lnr16hUdOnSIYcOGxcsvv9xon82bN8fZZ58dVVVV0aVLlzj//PPjnXfeacFX0TpNmjQpjjzyyOjcuXN07949TjvttFi5cmWjfd57770YO3ZsfO1rX4tOnTrF97///di4cWOjfdauXRujRo2Kjh07Rvfu3eOKK66IDz/8sCVfSqs1derUGDx4cOlLrGpra+ORRx4pbbf+LWvy5MlRVlYWl112Wekx78Guc/3110dZWVmj20EHHVTaXsjap1Zq2rRpqaKiIv3xj39MK1asSBdccEHq0qVL2rhxY9GjtXoPP/xwuuaaa9K9996bIiLNmDGj0fbJkyen6urqdN9996Xnn38+nXLKKalfv35p27ZtpX1OOumkdOihh6b58+enp556KvXv3z+dddZZLfxKWp/hw4en22+/PS1fvjwtXbo0jRw5MvXt2ze98847pX0uuuiiVFNTk2bNmpUWLVqUvvnNb6ajjz66tP3DDz9MgwYNSsOGDUtLlixJDz/8cNprr73ShAkTinhJrc4DDzyQHnroobRq1aq0cuXKdPXVV6f27dun5cuXp5Ssf0t69tln03777ZcGDx6cLr300tLj3oNdZ+LEienggw9O69evL91ef/310vYi1r7VhspRRx2Vxo4dW7q/Y8eO1Lt37zRp0qQCp9r9fDJUGhoaUs+ePdNNN91Ueuztt99OlZWV6a9//WtKKaUXX3wxRURauHBhaZ9HHnkklZWVpf/85z8tNvvuYNOmTSki0ty5c1NKH611+/bt0/Tp00v7/POf/0wRkebNm5dS+ig027VrlzZs2FDaZ+rUqamqqipt3769ZV/AbqJr167p97//vfVvQVu2bEkDBgxIjz/+ePrWt75VChXvwa41ceLEdOihh37mtqLWvlV+9PP+++/H4sWLY9iwYaXH2rVrF8OGDYt58+YVONnub82aNbFhw4ZGa19dXR1Dhw4trf28efOiS5cuccQRR5T2GTZsWLRr1y4WLFjQ4jO3ZnV1dRHx/7+Ac/HixfHBBx80Wv+DDjoo+vbt22j9DznkkOjRo0dpn+HDh0d9fX2sWLGiBadv/Xbs2BHTpk2LrVu3Rm1trfVvQWPHjo1Ro0Y1WusI/wZawssvvxy9e/eOr3/963H22WfH2rVrI6K4tW+Vv5TwjTfeiB07djRaiIiIHj16xEsvvVTQVG3Dhg0bIiI+c+0/3rZhw4bo3r17o+3l5eXRrVu30j78bw0NDXHZZZfFMcccE4MGDYqIj9a2oqIiunTp0mjfT67/Z70/H2/jf1u2bFnU1tbGe++9F506dYoZM2bEwIEDY+nSpda/BUybNi2ee+65WLhw4ae2+Tewaw0dOjTuuOOOOPDAA2P9+vVxww03xHHHHRfLly8vbO1bZahAWzB27NhYvnx5PP3000WP0uYceOCBsXTp0qirq4t77rknzj333Jg7d27RY7UJ69ati0svvTQef/zx2HPPPYsep80ZMWJE6c+DBw+OoUOHxr777ht33313dOjQoZCZWuVHP3vttVfssccenzrTeOPGjdGzZ8+CpmobPl7fL1r7nj17xqZNmxpt//DDD2Pz5s3en500bty4ePDBB+OJJ56IPn36lB7v2bNnvP/++/H222832v+T6/9Z78/H2/jfKioqon///nH44YfHpEmT4tBDD43bbrvN+reAxYsXx6ZNm+Ib3/hGlJeXR3l5ecydOzd+9atfRXl5efTo0cN70IK6dOkSBxxwQKxevbqwv/+tMlQqKiri8MMPj1mzZpUea2hoiFmzZkVtbW2Bk+3++vXrFz179my09vX19bFgwYLS2tfW1sbbb78dixcvLu0ze/bsaGhoiKFDh7b4zK1JSinGjRsXM2bMiNmzZ0e/fv0abT/88MOjffv2jdZ/5cqVsXbt2kbrv2zZskax+Pjjj0dVVVUMHDiwZV7IbqahoSG2b99u/VvACSecEMuWLYulS5eWbkcccUScffbZpT97D1rOO++8E//617+iV69exf39b9IpuBmYNm1aqqysTHfccUd68cUX049+9KPUpUuXRmca0zRbtmxJS5YsSUuWLEkRkW6++ea0ZMmS9Oqrr6aUPro8uUuXLun+++9PL7zwQjr11FM/8/LkIUOGpAULFqSnn346DRgwwOXJO+Hiiy9O1dXVac6cOY0uD3z33XdL+1x00UWpb9++afbs2WnRokWptrY21dbWlrZ/fHngiSeemJYuXZoeffTRtPfee7s0cyddddVVae7cuWnNmjXphRdeSFdddVUqKytLjz32WErJ+hfhv6/6Scl7sCtdfvnlac6cOWnNmjXpmWeeScOGDUt77bVX2rRpU0qpmLVvtaGSUkq//vWvU9++fVNFRUU66qij0vz584seabfwxBNPpIj41O3cc89NKX10ifK1116bevTokSorK9MJJ5yQVq5c2eg53nzzzXTWWWelTp06paqqqvTDH/4wbdmypYBX07p81rpHRLr99ttL+2zbti39+Mc/Tl27dk0dO3ZMp59+elq/fn2j53nllVfSiBEjUocOHdJee+2VLr/88vTBBx+08Ktpnc4777y07777poqKirT33nunE044oRQpKVn/InwyVLwHu86YMWNSr169UkVFRdpnn33SmDFj0urVq0vbi1j7spRSatqxGACAXatVnqMCALQNQgUAyJZQAQCyJVQAgGwJFQAgW0IFAMiWUAEAsiVUAIBsCRUAIFtCBQDIllABALIlVACAbP0fEICQf3IijCQAAAAASUVORK5CYII=",
      "text/plain": [
       "<Figure size 640x480 with 1 Axes>"
      ]
     },
     "metadata": {},
     "output_type": "display_data"
    }
   ],
   "source": [
<<<<<<< HEAD
    "# Criação de um gráfico de barras:  matplotlib + Pandas\n",
    "# plot() + bar\n",
    "\n",
    "contagem_passageiros = df['Classe'].value_counts()\n",
    "contagem_passageiros.plot(kind='barh');\n"
=======
    "# pandas: gráfico\n",
    "contagem_passageiros.plot(kind='barh');"
>>>>>>> 5a6654f8197b36c253587db90c6485aaaad27d84
   ]
  },
  {
   "cell_type": "code",
<<<<<<< HEAD
   "execution_count": 41,
=======
   "execution_count": 63,
   "metadata": {},
   "outputs": [
    {
     "data": {
      "image/png": "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",
      "text/plain": [
       "<Figure size 640x480 with 1 Axes>"
      ]
     },
     "metadata": {},
     "output_type": "display_data"
    }
   ],
   "source": [
    "contagem_passageiros.plot(kind='bar');"
   ]
  },
  {
   "cell_type": "code",
   "execution_count": 65,
   "metadata": {},
   "outputs": [
    {
     "data": {
      "text/plain": [
       "<Axes: ylabel='Frequency'>"
      ]
     },
     "execution_count": 65,
     "metadata": {},
     "output_type": "execute_result"
    },
    {
     "data": {
      "image/png": "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",
      "text/plain": [
       "<Figure size 640x480 with 1 Axes>"
      ]
     },
     "metadata": {},
     "output_type": "display_data"
    }
   ],
   "source": [
    "df['Idade'].plot(kind='hist')"
   ]
  },
  {
   "cell_type": "code",
   "execution_count": 68,
>>>>>>> 5a6654f8197b36c253587db90c6485aaaad27d84
   "metadata": {
    "id": "zpZmI2e9S_nJ",
    "outputId": "3f16a4f4-3039-4426-ac46-d0f8178d87a6"
   },
   "outputs": [
    {
     "data": {
      "text/plain": [
       "Text(0.5, 1.0, 'Número de Passageiros por Classe')"
      ]
     },
<<<<<<< HEAD
     "execution_count": 41,
=======
     "execution_count": 68,
>>>>>>> 5a6654f8197b36c253587db90c6485aaaad27d84
     "metadata": {},
     "output_type": "execute_result"
    },
    {
     "data": {
      "image/png": "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",
      "text/plain": [
       "<Figure size 640x480 with 1 Axes>"
      ]
     },
     "metadata": {},
     "output_type": "display_data"
    }
   ],
   "source": [
    "# título, legendas (Y e X)\n",
    "contagem_passageiros = df['Classe'].value_counts()\n",
    "contagem_passageiros.plot(kind='bar');\n",
    "\n",
    "plt.xlabel('Classe do Passageiro')\n",
    "plt.ylabel('Quantidade')\n",
    "plt.title('Número de Passageiros por Classe')\n"
   ]
  },
  {
   "cell_type": "code",
<<<<<<< HEAD
   "execution_count": 48,
=======
   "execution_count": 69,
>>>>>>> 5a6654f8197b36c253587db90c6485aaaad27d84
   "metadata": {
    "id": "j7lUqI3BS_nK",
    "outputId": "758058f2-185d-412d-835e-38d8ca773f3e"
   },
   "outputs": [
    {
     "data": {
<<<<<<< HEAD
      "image/png": "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",
=======
      "image/png": "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",
>>>>>>> 5a6654f8197b36c253587db90c6485aaaad27d84
      "text/plain": [
       "<Figure size 640x480 with 1 Axes>"
      ]
     },
     "metadata": {},
     "output_type": "display_data"
    }
   ],
   "source": [
    "# Criando um gráfico de barras para calcular a taxa de sobrevivência por sexo\n",
    "# plot.bar()\n",
<<<<<<< HEAD
    "\n",
    "\n",
    "taxa_sob_sexo = df.groupby('Gênero')['Sobreviveu'].mean()\n",
=======
    "taxa_sob_sexo = df.groupby('Sexo')['Sobreviveu'].mean()\n",
>>>>>>> 5a6654f8197b36c253587db90c6485aaaad27d84
    "taxa_sob_sexo.plot.bar()\n",
    "\n",
    "plt.xlabel('Gênero')\n",
    "plt.ylabel('Taxa de Sobrevivência')\n",
<<<<<<< HEAD
    "plt.title('Taxa de Sobrevivência por Gênero')\n",
    "\n",
=======
    "plt.title('Taxa de Sobrevivência por Sexo')\n",
>>>>>>> 5a6654f8197b36c253587db90c6485aaaad27d84
    "plt.show()"
   ]
  },
  {
   "cell_type": "code",
<<<<<<< HEAD
   "execution_count": 52,
=======
   "execution_count": 74,
>>>>>>> 5a6654f8197b36c253587db90c6485aaaad27d84
   "metadata": {
    "id": "RzV9cvoOS_nK",
    "outputId": "eea06c73-5805-427d-f2b1-b82d3481b8a8"
   },
   "outputs": [
    {
     "data": {
      "text/plain": [
       "Text(0.5, 1.0, 'Distribuição de Idade')"
      ]
     },
<<<<<<< HEAD
     "execution_count": 52,
=======
     "execution_count": 74,
>>>>>>> 5a6654f8197b36c253587db90c6485aaaad27d84
     "metadata": {},
     "output_type": "execute_result"
    },
    {
     "data": {
<<<<<<< HEAD
      "image/png": "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",
=======
      "image/png": "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",
>>>>>>> 5a6654f8197b36c253587db90c6485aaaad27d84
      "text/plain": [
       "<Figure size 640x480 with 1 Axes>"
      ]
     },
     "metadata": {},
     "output_type": "display_data"
    }
   ],
   "source": [
    "# Criando um histograma com a distribuição de idade em passageiros do Titanic\n",
    "\n",
<<<<<<< HEAD
    "df['Idade'].plot.hist(bins=10, edgecolor='yellow')\n",
=======
    "df['Idade'].plot.hist(bins=10, edgecolor='black')\n",
>>>>>>> 5a6654f8197b36c253587db90c6485aaaad27d84
    "\n",
    "plt.xlabel('Idade')\n",
    "plt.ylabel('Quantidade')\n",
    "plt.title('Distribuição de Idade')"
   ]
  },
  {
   "cell_type": "markdown",
   "metadata": {},
   "source": [
    "### Exercício 05\n",
    "\n",
    "- Gerar 3 gráficos com ideias de interesses\n"
   ]
  },
  {
   "cell_type": "code",
<<<<<<< HEAD
   "execution_count": 66,
   "metadata": {},
   "outputs": [
    {
     "data": {
      "image/png": "iVBORw0KGgoAAAANSUhEUgAAAjIAAAHpCAYAAACY3dYoAAAAOXRFWHRTb2Z0d2FyZQBNYXRwbG90bGliIHZlcnNpb24zLjguMCwgaHR0cHM6Ly9tYXRwbG90bGliLm9yZy81sbWrAAAACXBIWXMAAA9hAAAPYQGoP6dpAAA+gElEQVR4nO3deVhU5f//8dcgMuwgLuCCgUDuS2mWe27x0XJJTVsl0/qYlnumZRlW4m6ZW1ppWn6y1KzczRTT3DXTUnPJ9JvikokCCsbcvz+6nF8jqGDgcOz5uK65LuY+Z+55n+EM8+Kc+z5jM8YYAQAAWJCHuwsAAAC4UQQZAABgWQQZAABgWQQZAABgWQQZAABgWQQZAABgWQQZAABgWQQZAABgWQQZAECBc+HCBb3++utav369u0tBAUeQwb/ak08+qYiICHeX8Y9EREToySefdHcZeeK1116TzWZzdxnZstlseu2115z3L9d6+vRp9xV1CxsyZIg++ugjderUSWfPnnV3OSjACDK4ITabLUe3NWvWuLtUIFszZ87M0T58M4JuWlqaXnvttVv2/fLVV1+pVatWCg0NlZeXl0JCQtSwYUONHTtW586dy7L+hg0bNHfuXH377bdq1aqV+vXr54aqYRWe7i4A1jR79myX+7NmzdLKlSuztFesWPFmlgXkWMOGDbPsr926dVPt2rX1zDPPONv8/f0l/XWqw9Mzf/5kpqWlKT4+XpJ077335stzuIPD4VDXrl01c+ZMVa1aVT169FB4eLjOnz+vDRs2aMiQIVqyZIlWrVrl8rhDhw5p/vz5KlGihMaPH6+xY8cqOTlZQUFBbtoSFGQEGdyQxx9/3OX+xo0btXLlyiztsJaLFy/Ky8tLHh63/sHacuXKqVy5ci5t3bt3V7ly5bLdj729vW9WaZbhcDiUkZFx1ddm1KhRmjlzpvr27auxY8e6nDbs3bu3jh8/rlmzZmV53GOPPeb82dvbWy+//HLeF58D19s+FAy3/l8ruM2MGTPUpEkTlShRQna7XZUqVdKUKVNc1vnmm2/k4eGhV1991aV9zpw5stlsLuvnpL9rWbhwoapUqSJvb29VqVJFn3/+ebbrpaamqn///goPD5fdblf58uU1ZswYXflF8StXrlT9+vUVHBwsf39/lS9fXi+99NI1a6hSpYoaN26cpd3hcKh06dLq0KGDs23MmDGqW7euihYtKh8fH9WsWVPz5s3L0bYeOnRIDz30kEJCQuTr66t77rlHixcvdllnzZo1stls+uSTTzRkyBCVLl1avr6+zkP9mzZt0n/+8x8FBQXJ19dXjRo1yjLw8vz58+rTp48iIiJkt9tVokQJNW/eXNu3b79ujevWrdNdd90lb29vRUVF6d133812vT///FOvv/66oqKiZLfbFRERoZdeeknp6eku623dulWxsbEqVqyYfHx8FBkZqaeeeipHr1dOXDlGJju//vqroqOjVaVKFZ04cUKSdPbsWfXp08e5P0VHR2vkyJFyOBySpMOHD6t48eKSpPj4eOcprcvPlZSUpC5duqhMmTKy2+0qWbKk2rRpo8OHD1+zlieffFL+/v46dOiQYmNj5efnp1KlSmnYsGFZ9uWc7vM2m03PPfecPv74Y1WuXFl2u13Lli3L9vnT0tI0cuRIVa5cWaNHj8527FPJkiX14osvZmn/6KOPVLNmTfn4+CgkJEQPP/ywjh496rLOvffeqypVquinn35S48aN5evrq9KlS2vUqFFZ+ktPT9fQoUMVHR0tu92u8PBwDRw4MMs+dK3t27Fjh1q0aKHAwED5+/uradOm2rhxY7bbjpvMAHmgZ8+e5srd6a677jJPPvmkGT9+vHnnnXfMfffdZySZiRMnZnmsp6en2bZtmzHGmGPHjpmQkBDTrFkz43A4ct1fdpYvX248PDxMlSpVzLhx48zLL79sgoKCTOXKlc1tt93mXM/hcJgmTZoYm81munXrZiZOnGhatWplJJk+ffo419u9e7fx8vIytWrVMm+//baZOnWqGTBggGnYsOE16xg2bJjx8PAwx48fd2lPTEw0ksxnn33mbCtTpozp0aOHmThxohk3bpypXbu2kWQWLVrk8tjbbrvNxMXFOe8nJSWZ0NBQExAQYF5++WUzbtw4U716dePh4WEWLFjgXG/16tVGkqlUqZKpUaOGGTdunElISDCpqalm1apVxsvLy9SpU8eMHTvWjB8/3lSrVs14eXmZTZs2Oft49NFHjZeXl+nXr5957733zMiRI02rVq3MRx99dM3X4YcffjA+Pj6mbNmyJiEhwbz++usmNDTUVKtWLct+FBcXZySZDh06mEmTJpnOnTsbSaZt27bOdU6cOGGKFClibr/9djN69Ggzffp08/LLL5uKFStes44r+fn5ubyWfyfJDB061Hl/6NChRpI5deqUMcaYAwcOmLJly5oaNWo421JTU021atVM0aJFzUsvvWSmTp1qOnfubGw2m+ndu7cxxpiUlBQzZcoUI8k8+OCDZvbs2Wb27Nlm586dxhhj6tata4KCgsyQIUPMe++9Z4YPH24aN25sEhMTr7ktcXFxxtvb28TExJgnnnjCTJw40TzwwANGknnllVec6+V0n7/8GlSsWNEUL17cxMfHm0mTJpkdO3Zk+/zLly83kswbb7xxzTqv9MYbbxibzWY6depkJk+ebOLj402xYsVMRESE+eOPP5zrNWrUyJQqVcqEh4eb3r17m8mTJ5smTZoYSWbJkiXO9TIzM819991nfH19TZ8+fcy7775rnnvuOePp6WnatGmTo+3bvXu38fPzMyVLljSvv/66GTFihImMjDR2u91s3LgxV9uHvEeQQZ7ILsikpaVlWS82NtaUK1fOpS01NdVER0ebypUrm4sXL5r777/fBAYGml9//fWG+stOjRo1TMmSJc3Zs2edbStWrDCSXILMwoULs/3j26FDB2Oz2cyBAweMMcaMHz/e5UMsp/bt22ckmXfeecelvUePHsbf399lG6/c3oyMDFOlShXTpEkTl/Yrg0yfPn2MJPPtt986286fP28iIyNNRESEyczMNMb8/yBTrlw5l+dyOBwmJibGxMbGugTJtLQ0ExkZaZo3b+5sCwoKMj179szVa2CMMW3btjXe3t4uv+OffvrJFCpUyGU/+v77740k061bN5fHDxgwwEgy33zzjTHGmM8//9xIMlu2bMl1LX93o0Fmz549plSpUuauu+4yZ86cca7z+uuvGz8/P/Pzzz+79DVo0CBTqFAhc+TIEWOMMadOncrSvzHG/PHHH0aSGT16dK635XIAfP75551tDofD3H///cbLy8u57+Z0n7/8Gnh4eJgff/zxus//9ttvG0lm4cKFLu1//vmnOXXqlMvt8n52+PBhU6hQIfPmm2+6PGbXrl3G09PTpb1Ro0ZGkpk1a5azLT093YSFhZn27ds722bPnm08PDxc3g/GGDN16lQjyaxfv/6629e2bVvj5eVlDh486Gw7duyYCQgIuO4/L8h/nFpCvvHx8XH+nJycrNOnT6tRo0Y6dOiQkpOTnct8fX01c+ZM7dmzRw0bNtTixYs1fvx4lS1b9ob6u9Lx48f1/fffKy4uzmWwYPPmzVWpUiWXdZcsWaJChQqpV69eLu39+/eXMUZLly6VJAUHB0uSvvjiC+cpgpy4/fbbVaNGDc2dO9fZlpmZqXnz5qlVq1Yu2/j3n//44w8lJyerQYMG1z1ts2TJEtWuXVv169d3tvn7++uZZ57R4cOH9dNPP7msHxcX5/Jc33//vfbv369HH31Uv//+u06fPq3Tp08rNTVVTZs21dq1a53bHBwcrE2bNunYsWM5fg0yMzO1fPlytW3b1uV3XLFiRcXGxmbZFklZZq30799fkpynyy7/PhYtWqRLly7luJa8sHv3bjVq1EgRERH6+uuvVaRIEeeyzz77TA0aNFCRIkWcr+Pp06fVrFkzZWZmau3atdfs28fHR15eXlqzZo3++OOPG6rvueeec/58+dRJRkaGvv76a0k53+cva9SoUZb3TXYun6K8PFj6sl27dql48eIut99//12StGDBAjkcDnXs2NHl9QoLC1NMTIxWr17t0pe/v7/LeCYvLy/Vrl1bhw4dcrZ99tlnqlixoipUqODSZ5MmTSQpS59Xbl9mZqZWrFihtm3buoypKlmypB599FGtW7cu25lXuHkIMsg369evV7NmzeTn56fg4GAVL17cOYbkyuBRr149Pfvss9q8ebNiY2OzHduQm/7+7tdff5UkxcTEZFlWvnz5LOuWKlVKAQEBLu2XZ19d7qtTp06qV6+eunXrptDQUD388MP69NNPcxRqOnXqpPXr1+u3336T9NdYlZMnT6pTp04u6y1atEj33HOPvL29FRISouLFi2vKlCnX3NbLNV65Xdltw2WRkZEu9/fv3y/pr4Bz5QfOe++9p/T0dGcNo0aN0u7duxUeHq7atWvrtddec/kQyc6pU6d04cKFHP8+PDw8FB0d7dIeFham4OBg57Y0atRI7du3V3x8vIoVK6Y2bdpoxowZWcZA5IdWrVopICBAy5cvV2BgoMuy/fv3a9myZVlex2bNmkmSTp48ec2+7Xa7Ro4cqaVLlyo0NFQNGzbUqFGjlJSUlKPaPDw8sgxovv322yXJOcYmp/v8ZVfuL1dzub+UlBSX9ujoaK1cuVIrV67UE0884bJs//79MsYoJiYmy2u2Z8+eLK9XmTJlsoy9KVKkiEvo279/v3788ccs/V1+Ha7s88rtO3XqlNLS0q76nnI4HFnG7+DmYtYS8sXBgwfVtGlTVahQQePGjVN4eLi8vLy0ZMkSjR8/PssHfnp6uvMaGgcPHlRaWpp8fX1vuL/85uPjo7Vr12r16tVavHixli1bprlz56pJkyZasWKFChUqdNXHdurUSYMHD9Znn32mPn366NNPP1VQUJD+85//ONf59ttv1bp1azVs2FCTJ09WyZIlVbhwYc2YMUNz5szJ8235u8uv5ejRo1WjRo1sH3P5v+yOHTuqQYMG+vzzz7VixQqNHj1aI0eO1IIFC9SiRYs8q/F6F8mz2WyaN2+eNm7cqK+++krLly/XU089pbFjx2rjxo1Zjgrkpfbt2+vDDz/Uxx9/rP/+978uyxwOh5o3b66BAwdm+9jLH6bX0qdPH7Vq1UoLFy7U8uXL9corryghIUHffPON7rjjjjzZhty4cn+5mgoVKkj664hVmzZtnO3+/v7OILdu3TqXxzgcDtlsNi1dujTb99CVv8ervc/M3wYpOxwOVa1aVePGjct23fDwcJf7Od0+FBwEGeSLr776Sunp6fryyy9dTh9ceRj3sqFDh2rPnj0aM2aMXnzxRQ0aNEgTJky44f7+7rbbbpP0/480/N2+ffuyrPv111/r/PnzLv+h7t2716Uv6a//dps2baqmTZtq3LhxGj58uF5++WWtXr3a+Yc6O5GRkapdu7bmzp2r5557TgsWLFDbtm1lt9ud68yfP1/e3t5avny5S/uMGTNytL1XbtfVtiE7UVFRkqTAwMBrbsdlJUuWVI8ePdSjRw+dPHlSd955p958882rBpnixYvLx8cnx78Ph8Oh/fv3u1yT6MSJEzp79myWbbnnnnt0zz336M0339ScOXP02GOP6ZNPPlG3bt2uux03avTo0fL09FSPHj0UEBCgRx991LksKipKKSkp130drxfUoqKi1L9/f/Xv31/79+9XjRo1NHbsWH300UfXfJzD4dChQ4dcAtPPP/8sSc4L/eVmn8+NBg0aKCgoSJ988okGDx6coyn9UVFRMsYoMjIyRyEvJ6KiorRz5041bdr0hq4aXbx4cfn6+l71PeXh4ZElDOHm4tQS8sXl/5T+/p9RcnJyth/EmzZt0pgxY9SnTx/1799fL7zwgiZOnKjExMQb6u9KJUuWVI0aNfThhx+6nJZZuXJllvEiLVu2VGZmpiZOnOjSPn78eNlsNueH85kzZ7I8z+WjFzk5ndGpUydt3LhRH3zwgU6fPp3ltFKhQoVks9mUmZnpbDt8+LAWLlx43b5btmypzZs3a8OGDc621NRUTZs2TREREdcd31CzZk1FRUVpzJgxWU4LSH8dapf+Gjtw5WmuEiVKqFSpUtd8DQoVKqTY2FgtXLhQR44ccbbv2bNHy5cvz7ItkvTWW2+5tF/+7/r++++X9NcYInPFVOHc/D7+CZvNpmnTpqlDhw6Ki4vTl19+6VzWsWNHbdiwIct2SX9Ny/7zzz8lyXn08cpL8aelpenixYsubVFRUQoICMjxdv19XzbGaOLEiSpcuLCaNm0qKef7fG75+vpq4MCB2r17twYNGpTl93O5nr9r166dChUqpPj4+CzLjDHOsTS50bFjR/3222+aPn16lmUXLlxQamrqNR9fqFAh3Xffffriiy9cpryfOHFCc+bMUf369bOcUsRN5pYhxrjlXDlrae/evcbLy8tUrVrVTJw40YwYMcJERUWZ6tWrG0nml19+McYYc+HCBVO+fHlToUIFc+HCBWPMXzMPKleubCIjI01KSkqu+ruapUuXuky/HjJkSLbTrzMzM03jxo2NzWYzzzzzjJk0aZJp06ZNlqmovXv3NnfccYcZMmSImT59unnzzTdN6dKlTZkyZVxmRl3N0aNHjc1mMwEBASYkJMRkZGS4LF+1apWRZBo0aGCmTJli4uPjTYkSJbKdnny16ddBQUHmlVdeMePHjzc1atQwNpst2+nXf5/y/fdl3t7epmzZsmbo0KFm2rRpZujQoaZhw4bmgQceMMb8NaPm8iyfcePGmWnTppmOHTsaSWbs2LHX3P6dO3c6+x8xYoR54403rjv9umPHjmbSpEnO+3+ffj1+/HgTExNjBg4caN59910zZswYU758eRMYGGgOHTp07V/G3/yT6dcZGRmmZcuWxm63m1WrVhlj/pqRd+eddxpPT0/TrVs3M2XKFDNmzBgTFxdn/Pz8XGa9VapUyYSFhZlJkyaZ//3vf2bXrl1mx44dJiQkxHTv3t1MmDDBTJ482TRv3txIMvPmzbvmtvx9+nXnzp3NpEmTnNOvX3rpJed6Od3nL78GuZmllpmZaR5//HEjyVSvXt0MGzbMfPDBB2bs2LHmscceM15eXqZEiRLm/PnzzsckJCQYSaZu3bpm1KhRZsqUKWbgwIEmJibGZfZWo0aNTOXKlbPd7ivf0y1btjQ2m808/PDD5p133jFvvfWW6d69uwkJCXGZ6Xa17bs8/bp06dLmzTffNCNHjjTlypVj+nUBQZBBnshu+vWXX35pqlWrZry9vU1ERIQZOXKk+eCDD1yCR9++fU2hQoVcrk1ijDFbt241np6e5tlnn81Vf9cyf/58U7FiRWO3202lSpXMggULsvzRM+avqcp9+/Y1pUqVMoULF3b+Af37VORVq1aZNm3amFKlShkvLy9TqlQp88gjj2SZZnst9erVy3Zq8WXvv/++iYmJMXa73VSoUMHMmDHD+eH5d1cGGWOMOXjwoOnQoYMJDg423t7epnbt2lmuP3OtIGOMMTt27DDt2rUzRYsWNXa73dx2222mY8eOzg/p9PR088ILL5jq1aubgIAA4+fnZ6pXr24mT56co+1PTEw0NWvWNF5eXqZcuXJm6tSp2W7fpUuXTHx8vImMjDSFCxc24eHhZvDgwebixYvOdbZv324eeeQRU7ZsWWO3202JEiXMAw88YLZu3ZqjWi77J0HGmL+mqDdq1Mj4+/s7P+DOnz9vBg8ebKKjo42Xl5cpVqyYqVu3rhkzZoxLgP3uu++cr8fl5zp9+rTp2bOnqVChgvHz8zNBQUHm7rvvNp9++ul1t+VyWDp48KDzOiqhoaFm6NChzin4l+Vkn7/8GtzIdPvPP//ctGzZ0hQvXtx4enqa4OBgU79+fTN69Ohsg//8+fNN/fr1jZ+fn/Hz8zMVKlQwPXv2NPv27XOuk9MgY8xfIXPkyJGmcuXKxm63myJFipiaNWua+Ph4k5ycnKPt2759u4mNjTX+/v7G19fXNG7c2Hz33Xe5fi2Q92zGZHO8DwBgaU8++aTmzZuX7elB4FbCGBkAAGBZBBkAAGBZBBkAAGBZjJEBAACWxREZAABgWQQZAABgWbf8VxQ4HA4dO3ZMAQEBN3R5agAAcPMZY3T+/HmVKlXqml9xccsHmWPHjvE9GAAAWNTRo0dVpkyZqy6/5YPM5S9BO3r0KN+HAQCARZw7d07h4eEuX2aanVs+yFw+nRQYGEiQAQDAYq43LITBvgAAwLIIMgAAwLIIMgAAwLIIMgAAwLIIMgAAwLIIMgAAwLIIMgAAwLIIMgAAwLIIMgAAwLIIMgAAwLIIMgAAwLIIMgAAwLIIMgAAwLIIMgAAwLIIMgAAwLI83V0A8k/EoMXuLgE30eER97u7BAC46TgiAwAALIsgAwAALIsgAwAALIsgAwAALIsgAwAALIsgAwAALIsgAwAALIsgAwAALIsgAwAALIsgAwAALIsgAwAALIsgAwAALIsgAwAALIsgAwAALIsgAwAALIsgAwAALIsgAwAALIsgAwAALIsgAwAALIsgAwAALIsgAwAALIsgAwAALIsgAwAALIsgAwAALIsgAwAALIsgAwAALIsgAwAALIsgAwAALIsgAwAALIsgAwAALKvABJkRI0bIZrOpT58+zraLFy+qZ8+eKlq0qPz9/dW+fXudOHHCfUUCAIACpUAEmS1btujdd99VtWrVXNr79u2rr776Sp999pkSExN17NgxtWvXzk1VAgCAgsbtQSYlJUWPPfaYpk+friJFijjbk5OT9f7772vcuHFq0qSJatasqRkzZui7777Txo0b3VgxAAAoKNweZHr27Kn7779fzZo1c2nftm2bLl265NJeoUIFlS1bVhs2bLhqf+np6Tp37pzLDQAA3Jo83fnkn3zyibZv364tW7ZkWZaUlCQvLy8FBwe7tIeGhiopKemqfSYkJCg+Pj6vSwUAAAWQ247IHD16VL1799bHH38sb2/vPOt38ODBSk5Odt6OHj2aZ30DAICCxW1BZtu2bTp58qTuvPNOeXp6ytPTU4mJiZowYYI8PT0VGhqqjIwMnT171uVxJ06cUFhY2FX7tdvtCgwMdLkBAIBbk9tOLTVt2lS7du1yaevSpYsqVKigF198UeHh4SpcuLBWrVql9u3bS5L27dunI0eOqE6dOu4oGQAAFDBuCzIBAQGqUqWKS5ufn5+KFi3qbO/atav69eunkJAQBQYG6vnnn1edOnV0zz33uKNkAABQwLh1sO/1jB8/Xh4eHmrfvr3S09MVGxuryZMnu7ssAABQQNiMMcbdReSnc+fOKSgoSMnJyf+68TIRgxa7uwTcRIdH3O/uEgAgz+T089vt15EBAAC4UQQZAABgWQQZAABgWQQZAABgWQQZAABgWQQZAABgWQQZAABgWQQZAABgWQQZAABgWQQZAABgWQQZAABgWQQZAABgWQQZAABgWQQZAABgWQQZAABgWQQZAABgWQQZAABgWQQZAABgWQQZAABgWQQZAABgWQQZAABgWQQZAABgWQQZAABgWQQZAABgWQQZAABgWQQZAABgWQQZAABgWQQZAABgWQQZAABgWQQZAABgWQQZAABgWQQZAABgWQQZAABgWQQZAABgWQQZAABgWQQZAABgWQQZAABgWQQZAABgWQQZAABgWQQZAABgWQQZAABgWQQZAABgWQQZAABgWQQZAABgWQQZAABgWQQZAABgWQQZAABgWQQZAABgWQQZAABgWQQZAABgWQQZAABgWQQZAABgWQQZAABgWQQZAABgWQQZAABgWQQZAABgWQQZAABgWQQZAABgWQQZAABgWQQZAABgWQQZAABgWQQZAABgWQQZAABgWQQZAABgWQQZAABgWQQZAABgWQQZAABgWQQZAABgWQQZAABgWW4NMlOmTFG1atUUGBiowMBA1alTR0uXLnUuv3jxonr27KmiRYvK399f7du314kTJ9xYMQAAKEjcGmTKlCmjESNGaNu2bdq6dauaNGmiNm3a6Mcff5Qk9e3bV1999ZU+++wzJSYm6tixY2rXrp07SwYAAAWIzRhj3F3E34WEhGj06NHq0KGDihcvrjlz5qhDhw6SpL1796pixYrasGGD7rnnnmwfn56ervT0dOf9c+fOKTw8XMnJyQoMDLwp21BQRAxa7O4ScBMdHnG/u0sAgDxz7tw5BQUFXffzu8CMkcnMzNQnn3yi1NRU1alTR9u2bdOlS5fUrFkz5zoVKlRQ2bJltWHDhqv2k5CQoKCgIOctPDz8ZpQPAADcwO1BZteuXfL395fdblf37t31+eefq1KlSkpKSpKXl5eCg4Nd1g8NDVVSUtJV+xs8eLCSk5Odt6NHj+bzFgAAAHfxdHcB5cuX1/fff6/k5GTNmzdPcXFxSkxMvOH+7Ha77HZ7HlYIAAAKKrcHGS8vL0VHR0uSatasqS1btujtt99Wp06dlJGRobNnz7oclTlx4oTCwsLcVC0AAChI3H5q6UoOh0Pp6emqWbOmChcurFWrVjmX7du3T0eOHFGdOnXcWCEAACgo3HpEZvDgwWrRooXKli2r8+fPa86cOVqzZo2WL1+uoKAgde3aVf369VNISIgCAwP1/PPPq06dOledsQQAAP5d3BpkTp48qc6dO+v48eMKCgpStWrVtHz5cjVv3lySNH78eHl4eKh9+/ZKT09XbGysJk+e7M6SAQBAAZLr68gMGzZMAwYMkK+vr0v7hQsXNHr0aL366qt5WuA/ldN56LciriPz78J1ZADcSvLtOjLx8fFKSUnJ0p6Wlqb4+PjcdgcAAHDDch1kjDGy2WxZ2nfu3KmQkJA8KQoAACAncjxGpkiRIrLZbLLZbLr99ttdwkxmZqZSUlLUvXv3fCkSAAAgOzkOMm+99ZaMMXrqqacUHx+voKAg5zIvLy9FREQwLRoAANxUOQ4ycXFxkqTIyEjVq1dPnp5uv5YeAAD4l8v1GJlGjRrp119/1ZAhQ/TII4/o5MmTkqSlS5fqxx9/zPMCAQAAribXQSYxMVFVq1bVpk2btGDBAucMpp07d2ro0KF5XiAAAMDV5DrIDBo0SG+88YZWrlwpLy8vZ3uTJk20cePGPC0OAADgWnIdZHbt2qUHH3wwS3uJEiV0+vTpPCkKAAAgJ3IdZIKDg3X8+PEs7Tt27FDp0qXzpCgAAICcyHWQefjhh/Xiiy8qKSlJNptNDodD69ev14ABA9S5c+f8qBEAACBbuQ4yw4cPV4UKFRQeHq6UlBRVqlRJDRs2VN26dTVkyJD8qBEAACBbub4YjJeXl6ZPn65XX31Vu3btUkpKiu644w7FxMTowoUL8vHxyY86AQAAssj1EZlevXpJksLDw9WyZUt17NhRMTExSk1NVcuWLfO8QAAAgKvJdZBZvHhxluvFpKam6j//+Y/+/PPPPCsMAADgenJ9amnFihVq0KCBihQpoj59+uj8+fOKjY2Vp6enli5dmh81AgAAZCvXQSYqKkrLli1T48aN5eHhof/973+y2+1avHix/Pz88qNGAACAbN3QNz9Wq1ZNixYtUvPmzXX33Xdr0aJFDPIFAAA3XY6CzB133CGbzZal3W6369ixY6pXr56zbfv27XlXHQAAwDXkKMi0bds2n8sAAADIvRwFGb7VGgAAFES5nn4NAABQUOToiExISIh+/vlnFStWTEWKFMl2vMxlZ86cybPiAAAAriVHQWb8+PEKCAiQJL311lv5WQ8AAECO5SjIxMXFqUmTJlqwYIHi4uLyuyYAAIAcyfEYmTVr1igjIyM/awEAAMgVBvsCAADLytWVfX/66SclJSVdc51q1ar9o4IAAAByKldBpmnTpjLGZGm32WwyxshmsykzMzPPigMAZC9i0GJ3l4Cb6PCI+91dQoGVqyCzadMmFS9ePL9qAQAAyJVcBZmyZcuqRIkS+VULAABArjDYFwAAWFaOg0yjRo3k5eWVn7UAAADkSo5PLa1evTo/6wAAAMg1Ti0BAADLIsgAAADLIsgAAADL+kdBxhiT7QXyAAAAboYbCjKzZs1S1apV5ePjIx8fH1WrVk2zZ8/O69oAAACuKVcXxJOkcePG6ZVXXtFzzz2nevXqSZLWrVun7t276/Tp0+rbt2+eFwkAAJCdXAeZd955R1OmTFHnzp2dba1bt1blypX12muvEWQAAMBNk+tTS8ePH1fdunWztNetW1fHjx/Pk6IAAAByItdBJjo6Wp9++mmW9rlz5yomJiZPigIAAMiJXJ9aio+PV6dOnbR27VrnGJn169dr1apV2QYcAACA/JLrIzLt27fXpk2bVKxYMS1cuFALFy5UsWLFtHnzZj344IP5USMAAEC2cn1ERpJq1qypjz76KK9rAQAAyJUcBZlz587luMPAwMAbLgYAACA3chRkgoODZbPZctRhZmbmPyoIAAAgp3IUZFavXu38+fDhwxo0aJCefPJJ1alTR5K0YcMGffjhh0pISMifKgEAALKRoyDTqFEj58/Dhg3TuHHj9MgjjzjbWrdurapVq2ratGmKi4vL+yoBAACyketZSxs2bFCtWrWytNeqVUubN2/Ok6IAAAByItdBJjw8XNOnT8/S/t577yk8PDxPigIAAMiJXE+/Hj9+vNq3b6+lS5fq7rvvliRt3rxZ+/fv1/z58/O8QAAAgKvJ9RGZli1bav/+/WrdurXOnDmjM2fOqFWrVvr555/VsmXL/KgRAAAgWzd0QbwyZcrozTffzOtaAAAAciXXR2QAAAAKCoIMAACwLIIMAACwrFwFGWOMjhw5oosXL+ZXPQAAADmW6yATHR2to0eP5lc9AAAAOZarIOPh4aGYmBj9/vvv+VUPAABAjuV6jMyIESP0wgsvaPfu3flRDwAAQI7l+joynTt3VlpamqpXry4vLy/5+Pi4LD9z5kyeFQcAAHAtuQ4yb731Vj6UAQAAkHu5DjJxcXH5UQcAAECu3dBXFGRmZmrhwoXas2ePJKly5cpq3bq1ChUqlKfFAQAAXEuug8yBAwfUsmVL/fbbbypfvrwkKSEhQeHh4Vq8eLGioqLyvEgAAIDs5HrWUq9evRQVFaWjR49q+/bt2r59u44cOaLIyEj16tUrP2oEAADIVq6DTGJiokaNGqWQkBBnW9GiRTVixAglJibmqq+EhATdddddCggIUIkSJdS2bVvt27fPZZ2LFy+qZ8+eKlq0qPz9/dW+fXudOHEit2UDAIBbUK6DjN1u1/nz57O0p6SkyMvLK1d9JSYmqmfPntq4caNWrlypS5cu6b777lNqaqpznb59++qrr77SZ599psTERB07dkzt2rXLbdkAAOAWlOsxMg888ICeeeYZvf/++6pdu7YkadOmTerevbtat26dq76WLVvmcn/mzJkqUaKEtm3bpoYNGyo5OVnvv/++5syZoyZNmkiSZsyYoYoVK2rjxo265557svSZnp6u9PR05/1z587ldhMBAIBF5PqIzIQJExQVFaU6derI29tb3t7eqlevnqKjo/X222//o2KSk5MlyXnaatu2bbp06ZKaNWvmXKdChQoqW7asNmzYkG0fCQkJCgoKct7Cw8P/UU0AAKDgyvURmeDgYH3xxRfav3+/9u7dK0mqWLGioqOj/1EhDodDffr0Ub169VSlShVJUlJSkry8vBQcHOyybmhoqJKSkrLtZ/DgwerXr5/z/rlz5wgzAADcom7oOjKSFBMTo5iYmDwrpGfPntq9e7fWrVv3j/qx2+2y2+15VBUAACjIchRk/n6E43rGjRuX6yKee+45LVq0SGvXrlWZMmWc7WFhYcrIyNDZs2ddjsqcOHFCYWFhuX4eAABwa8lRkNmxY0eOOrPZbLl6cmOMnn/+eX3++edas2aNIiMjXZbXrFlThQsX1qpVq9S+fXtJ0r59+3TkyBHVqVMnV88FAABuPTkKMqtXr86XJ+/Zs6fmzJmjL774QgEBAc5xL0FBQfLx8VFQUJC6du2qfv36KSQkRIGBgXr++edVp06dbGcsAQCAf5cbHiOTF6ZMmSJJuvfee13aZ8yYoSeffFKSNH78eHl4eKh9+/ZKT09XbGysJk+efJMrBQAABdENBZmtW7fq008/1ZEjR5SRkeGybMGCBTnuxxhz3XW8vb01adIkTZo0Kdd1AgCAW1uuryPzySefqG7dutqzZ48+//xzXbp0ST/++KO++eYbBQUF5UeNAAAA2cp1kBk+fLjGjx+vr776Sl5eXnr77be1d+9edezYUWXLls2PGgEAALKV6yBz8OBB3X///ZIkLy8vpaamymazqW/fvpo2bVqeFwgAAHA1uQ4yRYoUcX5pZOnSpbV7925J0tmzZ5WWlpa31QEAAFxDrgf7NmzYUCtXrlTVqlX10EMPqXfv3vrmm2+0cuVKNW3aND9qBAAAyFaOg8zu3btVpUoVTZw4URcvXpQkvfzyyypcuLC+++47tW/fXkOGDMm3QgEAAK6U4yBTrVo13XXXXerWrZsefvhhSZKHh4cGDRqUb8UBAABcS47HyCQmJqpy5crq37+/SpYsqbi4OH377bf5WRsAAMA15TjINGjQQB988IGOHz+ud955R4cPH1ajRo10++23a+TIkc6vFwAAALhZcj1ryc/PT126dFFiYqJ+/vlnPfTQQ5o0aZLKli2r1q1b50eNAAAA2cp1kPm76OhovfTSSxoyZIgCAgK0ePHivKoLAADgum74SyPXrl2rDz74QPPnz5eHh4c6duyorl275mVtAAAA15SrIHPs2DHNnDlTM2fO1IEDB1S3bl1NmDBBHTt2lJ+fX37VCAAAkK0cB5kWLVro66+/VrFixdS5c2c99dRTKl++fH7WBgAAcE05DjKFCxfWvHnz9MADD6hQoUL5WRMAAECO5DjIfPnll/lZBwAAQK79o1lLAAAA7kSQAQAAlkWQAQAAlkWQAQAAlkWQAQAAlkWQAQAAlkWQAQAAlkWQAQAAlkWQAQAAlkWQAQAAlkWQAQAAlkWQAQAAlkWQAQAAlkWQAQAAlkWQAQAAlkWQAQAAlkWQAQAAlkWQAQAAlkWQAQAAlkWQAQAAlkWQAQAAlkWQAQAAlkWQAQAAlkWQAQAAlkWQAQAAlkWQAQAAlkWQAQAAlkWQAQAAlkWQAQAAlkWQAQAAlkWQAQAAlkWQAQAAlkWQAQAAlkWQAQAAlkWQAQAAlkWQAQAAlkWQAQAAlkWQAQAAlkWQAQAAlkWQAQAAlkWQAQAAlkWQAQAAlkWQAQAAlkWQAQAAlkWQAQAAlkWQAQAAlkWQAQAAlkWQAQAAlkWQAQAAlkWQAQAAlkWQAQAAlkWQAQAAluXWILN27Vq1atVKpUqVks1m08KFC12WG2P06quvqmTJkvLx8VGzZs20f/9+9xQLAAAKHLcGmdTUVFWvXl2TJk3KdvmoUaM0YcIETZ06VZs2bZKfn59iY2N18eLFm1wpAAAoiDzd+eQtWrRQixYtsl1mjNFbb72lIUOGqE2bNpKkWbNmKTQ0VAsXLtTDDz98M0sFAAAFUIEdI/PLL78oKSlJzZo1c7YFBQXp7rvv1oYNG676uPT0dJ07d87lBgAAbk0FNsgkJSVJkkJDQ13aQ0NDncuyk5CQoKCgIOctPDw8X+sEAADuU2CDzI0aPHiwkpOTnbejR4+6uyQAAJBPCmyQCQsLkySdOHHCpf3EiRPOZdmx2+0KDAx0uQEAgFtTgQ0ykZGRCgsL06pVq5xt586d06ZNm1SnTh03VgYAAAoKt85aSklJ0YEDB5z3f/nlF33//fcKCQlR2bJl1adPH73xxhuKiYlRZGSkXnnlFZUqVUpt27Z1X9EAAKDAcGuQ2bp1qxo3buy8369fP0lSXFycZs6cqYEDByo1NVXPPPOMzp49q/r162vZsmXy9vZ2V8kAAKAAcWuQuffee2WMuepym82mYcOGadiwYTexKgAAYBUFdowMAADA9RBkAACAZRFkAACAZRFkAACAZRFkAACAZRFkAACAZRFkAACAZRFkAACAZRFkAACAZRFkAACAZRFkAACAZRFkAACAZRFkAACAZRFkAACAZRFkAACAZRFkAACAZRFkAACAZRFkAACAZRFkAACAZRFkAACAZRFkAACAZRFkAACAZRFkAACAZRFkAACAZRFkAACAZRFkAACAZRFkAACAZRFkAACAZRFkAACAZRFkAACAZRFkAACAZRFkAACAZRFkAACAZRFkAACAZRFkAACAZRFkAACAZRFkAACAZRFkAACAZRFkAACAZRFkAACAZRFkAACAZRFkAACAZRFkAACAZRFkAACAZRFkAACAZRFkAACAZRFkAACAZRFkAACAZRFkAACAZRFkAACAZRFkAACAZRFkAACAZRFkAACAZRFkAACAZRFkAACAZRFkAACAZRFkAACAZRFkAACAZRFkAACAZRFkAACAZRFkAACAZRFkAACAZRFkAACAZRFkAACAZRFkAACAZRFkAACAZRFkAACAZRFkAACAZVkiyEyaNEkRERHy9vbW3Xffrc2bN7u7JAAAUAAU+CAzd+5c9evXT0OHDtX27dtVvXp1xcbG6uTJk+4uDQAAuFmBDzLjxo3T008/rS5duqhSpUqaOnWqfH199cEHH7i7NAAA4Gae7i7gWjIyMrRt2zYNHjzY2ebh4aFmzZppw4YN2T4mPT1d6enpzvvJycmSpHPnzuVvsQWQIz3N3SXgJvo37uP/Zry//13+je/vy9tsjLnmegU6yJw+fVqZmZkKDQ11aQ8NDdXevXuzfUxCQoLi4+OztIeHh+dLjUBBEfSWuysAkF/+ze/v8+fPKygo6KrLC3SQuRGDBw9Wv379nPcdDofOnDmjokWLymazubEy3Aznzp1TeHi4jh49qsDAQHeXAyAP8f7+dzHG6Pz58ypVqtQ11yvQQaZYsWIqVKiQTpw44dJ+4sQJhYWFZfsYu90uu93u0hYcHJxfJaKACgwM5A8dcIvi/f3vca0jMZcV6MG+Xl5eqlmzplatWuVsczgcWrVqlerUqePGygAAQEFQoI/ISFK/fv0UFxenWrVqqXbt2nrrrbeUmpqqLl26uLs0AADgZgU+yHTq1EmnTp3Sq6++qqSkJNWoUUPLli3LMgAYkP46tTh06NAspxcBWB/vb2THZq43rwkAAKCAKtBjZAAAAK6FIAMAACyLIAMAACyLIAMAACyLIAMAACyLIINbwoEDB7R8+XJduHBB0vW/ZAwAcGsgyMDSfv/9dzVr1ky33367WrZsqePHj0uSunbtqv79+7u5OgBAfiPIwNL69u0rT09PHTlyRL6+vs72Tp06admyZW6sDEBe+fbbb/X444+rTp06+u233yRJs2fP1rp169xcGQoCggwsbcWKFRo5cqTKlCnj0h4TE6Nff/3VTVUByCvz589XbGysfHx8tGPHDqWnp0uSkpOTNXz4cDdXh4KAIANLS01NdTkSc9mZM2e4jDlwC3jjjTc0depUTZ8+XYULF3a216tXT9u3b3djZSgoCDKwtAYNGmjWrFnO+zabTQ6HQ6NGjVLjxo3dWBmAvLBv3z41bNgwS3tQUJDOnj178wtCgVPgvzQSuJZRo0apadOm2rp1qzIyMjRw4ED9+OOPOnPmjNavX+/u8gD8Q2FhYTpw4IAiIiJc2tetW6dy5cq5pygUKByRgaVVqVJFP//8s+rXr682bdooNTVV7dq1044dOxQVFeXu8gD8Q08//bR69+6tTZs2yWaz6dixY/r44481YMAAPfvss+4uDwUA334NACiwjDEaPny4EhISlJaWJkmy2+0aMGCAXn/9dTdXh4KAIAPL+eGHH3K8brVq1fKxEgA3S0ZGhg4cOKCUlBRVqlRJ/v7+7i4JBQRBBpbj4eEhm8123av32mw2ZWZm3qSqAADuwGBfWM4vv/zi7hIA5KN27drleN0FCxbkYyWwAoIMLOe2225zdwkA8lFQUJC7S4CFcGoJt4SffvpJR44cUUZGhkt769at3VQRAOBm4IgMLO3QoUN68MEHtWvXLpdxMzabTZIYIwMAtziCDCytd+/eioyM1KpVqxQZGanNmzfr999/V//+/TVmzBh3lwcgD8ybN0+ffvpptkdd+ZoCcEE8WNqGDRs0bNgwFStWTB4eHvLw8FD9+vWVkJCgXr16ubs8AP/QhAkT1KVLF4WGhmrHjh2qXbu2ihYtqkOHDqlFixbuLg8FAEEGlpaZmamAgABJUrFixXTs2DFJfw0I3rdvnztLA5AHJk+erGnTpumdd96Rl5eXBg4cqJUrV6pXr15KTk52d3koAAgysLQqVapo586dkqS7775bo0aN0vr16zVs2DC+hwW4BRw5ckR169aVJPn4+Oj8+fOSpCeeeEL/+9//3FkaCgiCDCxtyJAhcjgckqRhw4bpl19+UYMGDbRkyRJNmDDBzdUB+KfCwsJ05swZSVLZsmW1ceNGSX9dT4pJt5AY7AuLi42Ndf4cHR2tvXv36syZMypSpIhz5hIA62rSpIm+/PJL3XHHHerSpYv69u2refPmaevWrbm6cB5uXVxHBgBQYDkcDjkcDnl6/vV/99y5c7V+/XrFxMSoe/fuKly4sJsrhLsRZGBpFy9e1DvvvKPVq1fr5MmTztNMlzE1E7C+ixcv6ocffsjyHrfZbGrVqpUbK0NBwKklWFrXrl21YsUKdejQQbVr1+Z0EnCLWbZsmZ544gn9/vvvWZbxxbCQOCIDiwsKCtKSJUtUr149d5cCIB/ExMTovvvu06uvvqrQ0FB3l4MCiFlLsLTSpUs7ryMD4NZz4sQJ9evXjxCDqyLIwNLGjh2rF198Ub/++qu7SwGQDzp06KA1a9a4uwwUYJxagqWdOnVKHTt21Nq1a+Xr65tlBsPl608AsKa0tDQ99NBDKl68uKpWrZrlPc5XkYAgA0tr1qyZjhw5oq5duyo0NDTLYN+4uDg3VQYgL7z//vvq3r27vL29VbRoUZf3uM1m06FDh9xYHQoCggwszdfXVxs2bFD16tXdXQqAfBAWFqZevXpp0KBB8vBgNASyYq+ApVWoUEEXLlxwdxkA8klGRoY6depEiMFVsWfA0kaMGKH+/ftrzZo1+v3333Xu3DmXGwBri4uL09y5c91dBgowTi3B0i7/l3bl2BhjDBfLAm4BvXr10qxZs1S9enVVq1Yty2DfcePGuakyFBRc2ReWtnr1aneXACAf7dq1S3fccYckaffu3S7LuJI3JI7IAAAAC2OMDCzv22+/1eOPP666devqt99+kyTNnj1b69atc3NlAID8RpCBpc2fP1+xsbHy8fHR9u3blZ6eLklKTk7W8OHD3VwdACC/EWRgaW+88YamTp2q6dOnuwwCrFevnrZv3+7GygAANwNBBpa2b98+NWzYMEt7UFCQzp49e/MLAgDcVAQZWFpYWJgOHDiQpX3dunUqV66cGyoCANxMBBlY2tNPP63evXtr06ZNstlsOnbsmD7++GMNGDBAzz77rLvLAwDkM64jA8v54YcfVKVKFXl4eGjw4MFyOBxq2rSp0tLS1LBhQ9ntdg0YMEDPP/+8u0sFAOQzriMDyylUqJCOHz+uEiVKqFy5ctqyZYsCAgJ04MABpaSkqFKlSvL393d3mQCAm4AjMrCc4OBg/fLLLypRooQOHz4sh8MhLy8vVapUyd2lAQBuMoIMLKd9+/Zq1KiRSpYsKZvNplq1aqlQoULZrnvo0KGbXB0A4GYiyMBypk2bpnbt2unAgQPq1auXnn76aQUEBLi7LACAGzBGBpbWpUsXTZgwgSADAP9SBBkAAGBZXEcGAABYFkEGAABYFkEGAABYFkEGQIGyfPlyTZ8+3d1lALAIpl8DKDD+7//+Tz169FDx4sVVpkwZtWjRwt0lASjgOCIDIN8lJSWpd+/eio6Olre3t0JDQ1WvXj1NmTJFaWlpzvX++9//auLEiZo3b55eeuklJScnu7FqAFbA9GsA+erQoUOqV6+egoODFR8fr6pVq8put2vXrl2aNm2a/vvf/6p169Zuqc0Yo8zMTHl6cnAasCqOyADIVz169JCnp6e2bt2qjh07qmLFiipXrpzatGmjxYsXq1WrVpKks2fPqlu3bipevLgCAwPVpEkT7dy509nPa6+9pho1amj27NmKiIhQUFCQHn74YZ0/f965jsPhUEJCgiIjI+Xj46Pq1atr3rx5zuVr1qyRzWbT0qVLVbNmTdntdq1bt07p6enq1auXSpQoIW9vb9WvX19btmy5eS8SgBtGkAGQb37//XetWLFCPXv2lJ+fX7br2Gw2SdJDDz2kkydPaunSpdq2bZvuvPNONW3aVGfOnHGue/DgQS1cuFCLFi3SokWLlJiYqBEjRjiXJyQkaNasWZo6dap+/PFH9e3bV48//rgSExNdnnPQoEEaMWKE9uzZo2rVqmngwIGaP3++PvzwQ23fvl3R0dGKjY11eW4ABZQBgHyyceNGI8ksWLDApb1o0aLGz8/P+Pn5mYEDB5pvv/3WBAYGmosXL7qsFxUVZd59911jjDFDhw41vr6+5ty5c87lL7zwgrn77ruNMcZcvHjR+Pr6mu+++86lj65du5pHHnnEGGPM6tWrjSSzcOFC5/KUlBRTuHBh8/HHHzvbMjIyTKlSpcyoUaPy4FUAkJ84MQzgptu8ebMcDocee+wxpaena+fOnUpJSVHRokVd1rtw4YIOHjzovB8REeHyvVolS5bUyZMnJUkHDhxQWlqamjdv7tJHRkaG7rjjDpe2WrVqOX8+ePCgLl26pHr16jnbChcurNq1a2vPnj3/fGMB5CuCDIB8Ex0dLZvNpn379rm0lytXTpLk4+MjSUpJSVHJkiW1Zs2aLH0EBwc7fy5cuLDLMpvNJofD4exDkhYvXqzSpUu7rGe3213uX+00FwDrIcgAyDdFixZV8+bNNXHiRD3//PNXDRB33nmnkpKS5OnpqYiIiBt6rkqVKslut+vIkSNq1KhRjh8XFRUlLy8vrV+/Xrfddpsk6dKlS9qyZYv69OlzQ7UAuHkIMgDy1eTJk1WvXj3VqlVLr732mqpVqyYPDw9t2bJFe/fuVc2aNdWsWTPVqVNHbdu21ahRo3T77bfr2LFjWrx4sR588EGXU0FXExAQoAEDBqhv375yOByqX7++kpOTtX79egUGBiouLi7bx/n5+enZZ5/VCy+8oJCQEJUtW1ajRo1SWlqaunbtmtcvB4A8RpABkK+ioqK0Y8cODR8+XIMHD9b//d//yW63q1KlShowYIB69Oghm82mJUuW6OWXX1aXLl106tQphYWFqWHDhgoNDc3xc73++usqXry4EhISdOjQIQUHB+vOO+/USy+9dM3HjRgxQg6HQ0888YTOnz+vWrVqafny5SpSpMg/3XwA+YwL4gEAAMviOjIAAMCyCDIAAMCyCDIAAMCyCDIAAMCyCDIAAMCyCDIAAMCyCDIAAMCyCDIAAMCyCDIAAMCyCDIAAMCyCDIAAMCy/h/iHwx8LrqMtwAAAABJRU5ErkJggg==",
      "text/plain": [
       "<Figure size 640x480 with 1 Axes>"
      ]
     },
     "metadata": {},
     "output_type": "display_data"
    }
   ],
   "source": [
    "taxa_sob_sexo = df.groupby('Gênero')['PrecoTicket'].mean()\n",
    "taxa_sob_sexo.plot.bar()\n",
    "\n",
    "plt.xlabel('Gênero')\n",
    "plt.ylabel('Valor do Tiket')\n",
    "plt.title('Taxa dos valores dos Tikets por Gênero')\n",
    "\n",
    "plt.show()\n"
=======
   "execution_count": 86,
   "metadata": {},
   "outputs": [],
   "source": [
    "# exemplo dúvida: como pegar uma única classe (a importância do reset_index())\n",
    "agg_classe = df.groupby(['Classe', 'Sexo']).agg({'Sobreviveu': ['count']})\n",
    "agg_classe.reset_index(inplace=True)"
>>>>>>> 5a6654f8197b36c253587db90c6485aaaad27d84
   ]
  },
  {
   "cell_type": "code",
<<<<<<< HEAD
   "execution_count": 64,
=======
   "execution_count": 90,
>>>>>>> 5a6654f8197b36c253587db90c6485aaaad27d84
   "metadata": {},
   "outputs": [
    {
     "data": {
<<<<<<< HEAD
      "text/plain": [
       "Text(0.5, 1.0, 'Distribuição do  Preço dos Tikets')"
      ]
     },
     "execution_count": 64,
     "metadata": {},
     "output_type": "execute_result"
    },
    {
     "data": {
      "image/png": "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",
      "text/plain": [
       "<Figure size 640x480 with 1 Axes>"
      ]
     },
     "metadata": {},
     "output_type": "display_data"
    }
   ],
   "source": [
    "df['PrecoTicket'].plot.hist(bins=5, edgecolor='yellow')\n",
    "\n",
    "plt.xlabel('PrecoTicket')\n",
    "plt.ylabel('Quantidade')\n",
    "plt.title('Distribuição do  Preço dos Tikets')"
=======
      "text/html": [
       "<div>\n",
       "<style scoped>\n",
       "    .dataframe tbody tr th:only-of-type {\n",
       "        vertical-align: middle;\n",
       "    }\n",
       "\n",
       "    .dataframe tbody tr th {\n",
       "        vertical-align: top;\n",
       "    }\n",
       "\n",
       "    .dataframe thead tr th {\n",
       "        text-align: left;\n",
       "    }\n",
       "</style>\n",
       "<table border=\"1\" class=\"dataframe\">\n",
       "  <thead>\n",
       "    <tr>\n",
       "      <th></th>\n",
       "      <th>Classe</th>\n",
       "      <th>Sexo</th>\n",
       "      <th>Sobreviveu</th>\n",
       "    </tr>\n",
       "    <tr>\n",
       "      <th></th>\n",
       "      <th></th>\n",
       "      <th></th>\n",
       "      <th>count</th>\n",
       "    </tr>\n",
       "  </thead>\n",
       "  <tbody>\n",
       "    <tr>\n",
       "      <th>0</th>\n",
       "      <td>1</td>\n",
       "      <td>female</td>\n",
       "      <td>94</td>\n",
       "    </tr>\n",
       "  </tbody>\n",
       "</table>\n",
       "</div>"
      ],
      "text/plain": [
       "  Classe    Sexo Sobreviveu\n",
       "                      count\n",
       "0      1  female         94"
      ]
     },
     "execution_count": 90,
     "metadata": {},
     "output_type": "execute_result"
    }
   ],
   "source": [
    "agg_classe[(agg_classe[(    'Classe',      '')] == 1) & (agg_classe[(    'Sexo',      '')] == 'female')]"
>>>>>>> 5a6654f8197b36c253587db90c6485aaaad27d84
   ]
  },
  {
   "cell_type": "code",
<<<<<<< HEAD
   "execution_count": 67,
=======
   "execution_count": 88,
>>>>>>> 5a6654f8197b36c253587db90c6485aaaad27d84
   "metadata": {},
   "outputs": [
    {
     "data": {
<<<<<<< HEAD
      "image/png": "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",
      "text/plain": [
       "<Figure size 640x480 with 1 Axes>"
      ]
     },
     "metadata": {},
     "output_type": "display_data"
    }
   ],
   "source": [
    "contagem_passageiros = df['NumeroIrmaos'].value_counts()\n",
    "contagem_passageiros.plot(kind='barh');\n"
=======
      "text/plain": [
       "MultiIndex([(    'Classe',      ''),\n",
       "            (      'Sexo',      ''),\n",
       "            ('Sobreviveu', 'count')],\n",
       "           )"
      ]
     },
     "execution_count": 88,
     "metadata": {},
     "output_type": "execute_result"
    }
   ],
   "source": [
    "agg_classe.columns"
>>>>>>> 5a6654f8197b36c253587db90c6485aaaad27d84
   ]
  },
  {
   "cell_type": "code",
<<<<<<< HEAD
   "execution_count": 76,
=======
   "execution_count": 91,
>>>>>>> 5a6654f8197b36c253587db90c6485aaaad27d84
   "metadata": {},
   "outputs": [
    {
     "data": {
<<<<<<< HEAD
      "image/png": "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",
      "text/plain": [
       "<Figure size 640x480 with 1 Axes>"
      ]
     },
     "metadata": {},
     "output_type": "display_data"
    }
   ],
   "source": [
    "taxa_sob_sexo = df.groupby('Gênero')['NumeroIrmaos'].mean()\n",
    "taxa_sob_sexo.plot.barh()\n",
    "\n",
    "plt.xlabel('Número de iurmãos')\n",
    "plt.ylabel('Gênero')\n",
    "plt.title('Taxa do número de irmãos por Gênero')\n",
    "\n",
    "plt.show()"
=======
      "text/plain": [
       "Index(['IdPassageiro', 'Sobreviveu', 'Classe', 'Nome', 'Sexo', 'Idade',\n",
       "       'NumeroIrmaos', 'NumeroPais', 'NumeroTicket', 'PrecoTicket',\n",
       "       'NumeroCabine', 'PortoEmbarcacao'],\n",
       "      dtype='object')"
      ]
     },
     "execution_count": 91,
     "metadata": {},
     "output_type": "execute_result"
    }
   ],
   "source": [
    "df[df['PortoEmbarcacao']]"
>>>>>>> 5a6654f8197b36c253587db90c6485aaaad27d84
   ]
  },
  {
   "cell_type": "markdown",
   "metadata": {
    "id": "kdYYrD87S_nK"
   },
   "source": [
    "## Pandas: Gerando Gráficos\n",
    "\n",
    "### Pandas: Pandas + Numpy (funções básicas do numpy)\n",
    "\n",
    "[Numpy for absolute beginners](https://numpy.org/doc/stable/user/absolute_beginners.html)"
   ]
  },
  {
   "cell_type": "markdown",
   "metadata": {
    "id": "96dXic7LS_nL"
   },
   "source": [
    "#### Biblioteca Numpy\n",
    "\n",
    "A biblioteca Numpy é uma biblioteca de computação científica cuja principal estrutura de dados são os arrays (similares a listas, porém de mais rápido processamento) e que oferece funções para cálculos com matrizes e álgebra linear, sendo uma das bibliotecas mais importantes para cientistas de dados.\n",
    "\n",
    "O foco dessa aula não é o Numpy, mas existem exemplos na parte de Pandas que contam com a biblioteca - apenas apresentar o conceito, mas dizer que assunto será retomado na aula seguinte."
   ]
  },
  {
   "cell_type": "code",
<<<<<<< HEAD
   "execution_count": 83,
=======
   "execution_count": 92,
>>>>>>> 5a6654f8197b36c253587db90c6485aaaad27d84
   "metadata": {
    "id": "6qrRb5EIS_nL"
   },
   "outputs": [],
   "source": [
    "import pandas as pd\n",
    "import numpy as np"
   ]
  },
  {
   "cell_type": "markdown",
   "metadata": {
    "id": "FCrGZFGoS_nL"
   },
   "source": [
    "Numpy arrays permitem a utilização de diferentes operações,tornando-os uma estrutura de dados útil em manipulação de dados:\n",
    " - Seleção de elementos de array\n",
    " - Slicing de arrays\n",
    " - Divisão de arrays\n",
    " - Reshaping de arrays\n",
    " - Combinação de arrays\n",
    " - Operações Numéricas (min, max, media, etc)\n",
    "\n",
    "Numpy e Pandas são comumente utilizados para análise e manipulação de dados."
   ]
  },
  {
   "cell_type": "code",
<<<<<<< HEAD
   "execution_count": 84,
=======
   "execution_count": 93,
>>>>>>> 5a6654f8197b36c253587db90c6485aaaad27d84
   "metadata": {
    "id": "suI74yqZS_nL",
    "outputId": "eb87a166-4d92-4068-e5ad-e7ce283ed244"
   },
   "outputs": [
    {
     "name": "stdout",
     "output_type": "stream",
     "text": [
      "[1, 2, 3, 4, 5]\n",
      "[1 2 3 4 5]\n"
     ]
    }
   ],
   "source": [
    "# Conversão de lista (estrutura de dados Python) para um array unidimensional com  uma linha e quatro colunas:\n",
    "lista_1 = [1, 2, 3, 4, 5]\n",
    "array_1 = np.array(lista_1)\n",
    "\n",
    "print(lista_1)\n",
    "print(array_1)"
   ]
  },
  {
   "cell_type": "code",
<<<<<<< HEAD
   "execution_count": 85,
=======
   "execution_count": 98,
>>>>>>> 5a6654f8197b36c253587db90c6485aaaad27d84
   "metadata": {
    "id": "DxCmoOkhS_nM",
    "outputId": "2c7699a1-519f-4b81-d4e1-836895767375"
   },
   "outputs": [
    {
     "name": "stdout",
     "output_type": "stream",
     "text": [
<<<<<<< HEAD
      "[[1, 2, 3], [4, 5, 6]]\n",
=======
      "Uma lista de listas\n",
      "[[1, 2, 3], [4, 5, 6]]\n",
      "Array bidimensional\n",
>>>>>>> 5a6654f8197b36c253587db90c6485aaaad27d84
      "[[1 2 3]\n",
      " [4 5 6]]\n"
     ]
    }
   ],
   "source": [
    "# Array bidimensional de uma lista Python (uma lista contendo listas)\n",
    "lista_2 = [[1,2,3],[4,5,6]]\n",
    "array_2 = np.array(lista_2)\n",
    "\n",
    "print('Uma lista de listas')\n",
    "print(lista_2)\n",
    "print('Array bidimensional')\n",
    "print(array_2)"
   ]
  },
  {
   "cell_type": "code",
<<<<<<< HEAD
   "execution_count": 86,
   "metadata": {
    "id": "KZ-JzM6US_nM",
    "outputId": "9c7580bf-627b-4926-ed86-8441bb436861"
   },
   "outputs": [
    {
     "name": "stdout",
     "output_type": "stream",
     "text": [
      "[10 20 30 40 50]\n"
     ]
=======
   "execution_count": 121,
   "metadata": {},
   "outputs": [
    {
     "data": {
      "text/plain": [
       "[1, 2, 3]"
      ]
     },
     "execution_count": 121,
     "metadata": {},
     "output_type": "execute_result"
>>>>>>> 5a6654f8197b36c253587db90c6485aaaad27d84
    }
   ],
   "source": [
    "lista_2[0]"
   ]
  },
  {
   "cell_type": "code",
<<<<<<< HEAD
   "execution_count": 87,
=======
   "execution_count": 122,
   "metadata": {},
   "outputs": [
    {
     "data": {
      "text/plain": [
       "array([1, 2, 3])"
      ]
     },
     "execution_count": 122,
     "metadata": {},
     "output_type": "execute_result"
    }
   ],
   "source": [
    "array_2[0]"
   ]
  },
  {
   "cell_type": "code",
   "execution_count": 99,
   "metadata": {
    "id": "KZ-JzM6US_nM",
    "outputId": "9c7580bf-627b-4926-ed86-8441bb436861"
   },
   "outputs": [
    {
     "data": {
      "text/plain": [
       "array([10, 20, 30, 40, 50])"
      ]
     },
     "execution_count": 99,
     "metadata": {},
     "output_type": "execute_result"
    }
   ],
   "source": [
    "# operações matemáticas podem ser realizadas em todos os valores de um array Numpy de uma vez (impossível em listas python sem loops)\n",
    "\n",
    "# loja com preços\n",
    "array_precos = np.array([12, 22, 32, 42, 52])\n",
    "\n",
    "# queremos entrar em liquidação diminuindo 2 reais no preço de cada item\n",
    "array_promocional = array_precos - 2\n",
    "array_promocional\n"
   ]
  },
  {
   "cell_type": "code",
   "execution_count": 100,
>>>>>>> 5a6654f8197b36c253587db90c6485aaaad27d84
   "metadata": {
    "id": "SWy82LKAS_nM",
    "outputId": "ee7e4c2e-5553-405f-cbdf-878534650298"
   },
   "outputs": [
    {
     "ename": "TypeError",
     "evalue": "unsupported operand type(s) for -: 'list' and 'int'",
     "output_type": "error",
     "traceback": [
      "\u001b[1;31m---------------------------------------------------------------------------\u001b[0m",
      "\u001b[1;31mTypeError\u001b[0m                                 Traceback (most recent call last)",
<<<<<<< HEAD
      "\u001b[1;32mc:\\Users\\PROFESSOR\\estudos-reprograma\\semana12\\on26-python-s12-pandas-numpy-II\\material\\aula_s12.ipynb Cell 64\u001b[0m line \u001b[0;36m4\n\u001b[0;32m      <a href='vscode-notebook-cell:/c%3A/Users/PROFESSOR/estudos-reprograma/semana12/on26-python-s12-pandas-numpy-II/material/aula_s12.ipynb#Y101sZmlsZQ%3D%3D?line=0'>1</a>\u001b[0m \u001b[39m# se fosse uma lista Python, seria impossível pois retornaria um TypeError\u001b[39;00m\n\u001b[0;32m      <a href='vscode-notebook-cell:/c%3A/Users/PROFESSOR/estudos-reprograma/semana12/on26-python-s12-pandas-numpy-II/material/aula_s12.ipynb#Y101sZmlsZQ%3D%3D?line=1'>2</a>\u001b[0m lista_precos \u001b[39m=\u001b[39m [\u001b[39m12\u001b[39m,\u001b[39m22\u001b[39m,\u001b[39m32\u001b[39m,\u001b[39m42\u001b[39m,\u001b[39m52\u001b[39m]\n\u001b[1;32m----> <a href='vscode-notebook-cell:/c%3A/Users/PROFESSOR/estudos-reprograma/semana12/on26-python-s12-pandas-numpy-II/material/aula_s12.ipynb#Y101sZmlsZQ%3D%3D?line=3'>4</a>\u001b[0m lista_promocial \u001b[39m=\u001b[39m lista_precos \u001b[39m-\u001b[39;49m \u001b[39m2\u001b[39;49m\n",
=======
      "\u001b[1;32mc:\\Users\\Debora\\Documents\\GitHub\\on26-python-s12-pandas-numpy-II\\material\\aula_s12.ipynb Cell 70\u001b[0m line \u001b[0;36m3\n\u001b[0;32m      <a href='vscode-notebook-cell:/c%3A/Users/Debora/Documents/GitHub/on26-python-s12-pandas-numpy-II/material/aula_s12.ipynb#Y106sZmlsZQ%3D%3D?line=0'>1</a>\u001b[0m \u001b[39m# se fosse uma lista Python, seria impossível pois retornaria um TypeError\u001b[39;00m\n\u001b[0;32m      <a href='vscode-notebook-cell:/c%3A/Users/Debora/Documents/GitHub/on26-python-s12-pandas-numpy-II/material/aula_s12.ipynb#Y106sZmlsZQ%3D%3D?line=1'>2</a>\u001b[0m lista_precos \u001b[39m=\u001b[39m [\u001b[39m12\u001b[39m,\u001b[39m22\u001b[39m,\u001b[39m32\u001b[39m,\u001b[39m42\u001b[39m,\u001b[39m52\u001b[39m]\n\u001b[1;32m----> <a href='vscode-notebook-cell:/c%3A/Users/Debora/Documents/GitHub/on26-python-s12-pandas-numpy-II/material/aula_s12.ipynb#Y106sZmlsZQ%3D%3D?line=2'>3</a>\u001b[0m lista_promocial \u001b[39m=\u001b[39m lista_precos \u001b[39m-\u001b[39;49m \u001b[39m2\u001b[39;49m\n",
>>>>>>> 5a6654f8197b36c253587db90c6485aaaad27d84
      "\u001b[1;31mTypeError\u001b[0m: unsupported operand type(s) for -: 'list' and 'int'"
     ]
    }
   ],
   "source": [
    "# se fosse uma lista Python, seria impossível pois retornaria um TypeError\n",
    "lista_precos = [12,22,32,42,52]\n",
    "lista_promocial = lista_precos - 2"
   ]
  },
  {
   "cell_type": "markdown",
   "metadata": {
    "id": "v6P70zdwS_nM"
   },
   "source": [
    "Séries são similares aos arrays NumPy, mas possuem mais funcionalidades que permitem que seus valores possam ser indexados e rotulados. Esses rótulos são úteis quando estamos utilizando porções de dados que possuem outros dados associados a eles.\n"
   ]
  },
  {
   "cell_type": "code",
<<<<<<< HEAD
   "execution_count": 88,
=======
   "execution_count": 101,
>>>>>>> 5a6654f8197b36c253587db90c6485aaaad27d84
   "metadata": {
    "id": "LljyqgRgS_nM",
    "outputId": "17c514e4-0fa0-4d36-c6f8-46293589ce4b"
   },
   "outputs": [
    {
     "data": {
      "text/plain": [
<<<<<<< HEAD
       "0    100\n",
       "1    200\n",
       "2    300\n",
       "dtype: int32"
      ]
     },
     "execution_count": 88,
=======
       "array([100, 200, 300])"
      ]
     },
     "execution_count": 101,
>>>>>>> 5a6654f8197b36c253587db90c6485aaaad27d84
     "metadata": {},
     "output_type": "execute_result"
    }
   ],
   "source": [
    "# Criando Séries em Pandas usando um array numpy:\n",
    "precos = np.array([100,200,300])\n",
    "precos"
   ]
  },
  {
   "cell_type": "code",
   "execution_count": 102,
   "metadata": {},
   "outputs": [
    {
     "data": {
      "text/plain": [
       "0    100\n",
       "1    200\n",
       "2    300\n",
       "dtype: int32"
      ]
     },
     "execution_count": 102,
     "metadata": {},
     "output_type": "execute_result"
    }
   ],
   "source": [
    "serie_precos = pd.Series(precos)\n",
    "serie_precos"
   ]
  },
  {
   "cell_type": "code",
<<<<<<< HEAD
   "execution_count": 89,
=======
   "execution_count": 103,
>>>>>>> 5a6654f8197b36c253587db90c6485aaaad27d84
   "metadata": {
    "id": "4m4a1TDIS_nN",
    "outputId": "d60ac614-bd45-430f-d375-bafdf4252478"
   },
   "outputs": [
    {
     "data": {
      "text/plain": [
       "Bala         100\n",
       "Chocolate    200\n",
       "Bolo         300\n",
       "dtype: int32"
      ]
     },
<<<<<<< HEAD
     "execution_count": 89,
=======
     "execution_count": 103,
>>>>>>> 5a6654f8197b36c253587db90c6485aaaad27d84
     "metadata": {},
     "output_type": "execute_result"
    }
   ],
   "source": [
    "# criando série e customizando índices da série\n",
    "serie_precos_produtos = pd.Series(precos, index=['Bala', 'Chocolate', 'Bolo'])\n",
    "serie_precos_produtos"
   ]
  },
  {
   "cell_type": "code",
<<<<<<< HEAD
   "execution_count": 90,
=======
   "execution_count": 104,
>>>>>>> 5a6654f8197b36c253587db90c6485aaaad27d84
   "metadata": {
    "id": "ZxBABq3pS_nN",
    "outputId": "d11786b2-ac75-43da-9ce9-5e3c8d3869d4"
   },
   "outputs": [
    {
     "data": {
      "text/html": [
       "<div>\n",
       "<style scoped>\n",
       "    .dataframe tbody tr th:only-of-type {\n",
       "        vertical-align: middle;\n",
       "    }\n",
       "\n",
       "    .dataframe tbody tr th {\n",
       "        vertical-align: top;\n",
       "    }\n",
       "\n",
       "    .dataframe thead th {\n",
       "        text-align: right;\n",
       "    }\n",
       "</style>\n",
       "<table border=\"1\" class=\"dataframe\">\n",
       "  <thead>\n",
       "    <tr style=\"text-align: right;\">\n",
       "      <th></th>\n",
       "      <th>A</th>\n",
       "      <th>B</th>\n",
       "      <th>C</th>\n",
       "    </tr>\n",
       "  </thead>\n",
       "  <tbody>\n",
       "    <tr>\n",
       "      <th>0</th>\n",
       "      <td>1</td>\n",
       "      <td>2</td>\n",
       "      <td>3</td>\n",
       "    </tr>\n",
       "    <tr>\n",
       "      <th>1</th>\n",
       "      <td>4</td>\n",
       "      <td>5</td>\n",
       "      <td>6</td>\n",
       "    </tr>\n",
       "  </tbody>\n",
       "</table>\n",
       "</div>"
      ],
      "text/plain": [
       "   A  B  C\n",
       "0  1  2  3\n",
       "1  4  5  6"
      ]
     },
<<<<<<< HEAD
     "execution_count": 90,
=======
     "execution_count": 104,
>>>>>>> 5a6654f8197b36c253587db90c6485aaaad27d84
     "metadata": {},
     "output_type": "execute_result"
    }
   ],
   "source": [
    "# Criando DataFrames Pandas com arrays Numpy:\n",
    "lista_2 = [[1,2,3],[4,5,6]]\n",
    "array_2 = np.array(lista_2)\n",
    "df = pd.DataFrame(array_2, columns=['A', 'B', 'C'])\n",
    "df"
   ]
  },
  {
   "cell_type": "code",
<<<<<<< HEAD
   "execution_count": 91,
=======
   "execution_count": 106,
   "metadata": {},
   "outputs": [
    {
     "data": {
      "text/html": [
       "<div>\n",
       "<style scoped>\n",
       "    .dataframe tbody tr th:only-of-type {\n",
       "        vertical-align: middle;\n",
       "    }\n",
       "\n",
       "    .dataframe tbody tr th {\n",
       "        vertical-align: top;\n",
       "    }\n",
       "\n",
       "    .dataframe thead th {\n",
       "        text-align: right;\n",
       "    }\n",
       "</style>\n",
       "<table border=\"1\" class=\"dataframe\">\n",
       "  <thead>\n",
       "    <tr style=\"text-align: right;\">\n",
       "      <th></th>\n",
       "      <th>A</th>\n",
       "      <th>B</th>\n",
       "      <th>C</th>\n",
       "      <th>D</th>\n",
       "    </tr>\n",
       "  </thead>\n",
       "  <tbody>\n",
       "    <tr>\n",
       "      <th>0</th>\n",
       "      <td>1</td>\n",
       "      <td>2</td>\n",
       "      <td>3</td>\n",
       "      <td>1</td>\n",
       "    </tr>\n",
       "    <tr>\n",
       "      <th>1</th>\n",
       "      <td>4</td>\n",
       "      <td>5</td>\n",
       "      <td>6</td>\n",
       "      <td>5</td>\n",
       "    </tr>\n",
       "  </tbody>\n",
       "</table>\n",
       "</div>"
      ],
      "text/plain": [
       "   A  B  C  D\n",
       "0  1  2  3  1\n",
       "1  4  5  6  5"
      ]
     },
     "execution_count": 106,
     "metadata": {},
     "output_type": "execute_result"
    }
   ],
   "source": [
    "df['D'] = [1,5]\n",
    "df"
   ]
  },
  {
   "cell_type": "code",
   "execution_count": 107,
>>>>>>> 5a6654f8197b36c253587db90c6485aaaad27d84
   "metadata": {
    "id": "LHfl6fALS_nN",
    "outputId": "5805c47a-4db3-4a7f-8790-dad45dc7ff76"
   },
   "outputs": [
    {
     "data": {
      "text/plain": [
       "0     1\n",
       "1     4\n",
       "2     9\n",
       "3    16\n",
       "4    25\n",
       "dtype: int32"
      ]
     },
<<<<<<< HEAD
     "execution_count": 91,
=======
     "execution_count": 107,
>>>>>>> 5a6654f8197b36c253587db90c6485aaaad27d84
     "metadata": {},
     "output_type": "execute_result"
    }
   ],
   "source": [
    "# Operações matemáticas podem ser realizadas em séries e Dataframes Pandas usando funções do numpy\n",
    "\n",
    "# criando um array (numpay)\n",
    "lista_1 = [1, 2, 3, 4, 5]\n",
    "array_1 = np.array(lista_1)\n",
    "\n",
    "# criando uma series (pandas)\n",
    "serie_precos = pd.Series(array_1)\n",
    "\n",
    "# calculo matematico\n",
    "serie_precos_ao_quadrado = np.square(serie_precos)\n",
    "serie_precos_ao_quadrado"
   ]
  },
  {
   "cell_type": "markdown",
   "metadata": {},
   "source": [
    "### Exercício 06\n",
    "\n",
    "- Gerar arrays de números aleatórios de com tamanho de 5, 50 e 500 elementos\n",
    "- Criar um DF Pandas a partir de um array numpy criado de uma lista Python\n",
    "- Utilize métodos do Numpy e séries de Pandas para dobrar os números da lista"
   ]
  },
  {
   "cell_type": "code",
   "execution_count": 119,
   "metadata": {},
   "outputs": [
    {
     "data": {
      "text/plain": [
       "array([10, 23, 13, 32, 25, 11, 20, 49, 26,  6, 40, 14, 42, 17, 11,  6, 43,\n",
       "       15, 19, 12, 29, 47,  5, 12, 42, 47, 40, 15,  7, 22,  8, 41, 35, 25,\n",
       "       14,  5, 31, 13, 42, 49, 49, 47, 41, 37,  5, 22, 34, 21, 14, 10, 13,\n",
       "       10, 37, 27, 24, 31, 34, 31, 23, 32, 23, 47, 22, 30, 14, 40, 31, 42,\n",
       "       35, 21, 40, 42, 36, 37, 11,  8, 14, 46, 11, 28, 39, 35, 29,  5, 46,\n",
       "       18, 24, 17, 29, 48, 35, 14, 38, 30, 11, 10, 47, 48, 38,  5, 37,  5,\n",
       "       26, 10, 10, 29,  6, 49, 15, 48, 13, 30, 24, 19, 15, 40, 43,  5, 35,\n",
       "       46, 45, 44, 28,  7, 13, 44,  5, 47, 14, 13, 17, 43, 33, 46, 32, 16,\n",
       "       39, 46, 23, 38, 21, 46, 18, 31,  7, 43,  8, 31, 11, 18, 37, 40, 48,\n",
       "       41, 13,  6, 33, 13, 11,  6, 15, 23, 30, 16, 31, 34, 16,  6, 14,  5,\n",
       "       34, 27, 34, 45, 45,  6, 28, 15,  8, 27, 25, 22, 46, 32, 23, 49, 45,\n",
       "       35, 30, 34, 45, 27, 27,  7, 16, 18,  7, 34, 47, 45, 30, 30, 46, 47,\n",
       "       29, 29, 45, 16, 47, 22, 35,  9, 31, 49, 36,  9,  8, 21, 37, 47, 49,\n",
       "       48, 38, 11, 11, 12, 11, 25, 31, 47, 13, 41, 33, 14,  6, 41, 24, 15,\n",
       "       44, 33, 37, 28, 43, 33, 45,  9, 33, 29, 33, 40, 21, 33, 15, 47, 41,\n",
       "       47, 22, 46, 27, 12, 10, 43, 40, 39, 19, 30, 17, 49, 44, 26,  8, 44,\n",
       "       27, 42, 37, 48, 13, 12, 36, 15, 41,  6, 40, 19, 17, 14, 27, 39, 24,\n",
       "       17, 29, 14, 24, 27, 21, 12, 44, 12, 39, 18,  7, 34, 20, 17, 19, 27,\n",
       "       31, 19, 18, 13, 47, 38, 47, 14, 39, 26, 30,  6, 18, 37, 44, 42, 21,\n",
       "       20,  6, 48,  6, 29,  7, 35, 47, 17, 22, 42, 32, 24, 48, 22, 28, 27,\n",
       "       34, 21, 48,  7, 39, 26,  8, 43,  7, 19, 22, 49, 29,  6, 22, 30, 32,\n",
       "       49, 35,  9, 40, 21, 18, 21, 33,  6, 14, 47,  6, 10, 46, 10, 24, 24,\n",
       "       27, 18, 40, 34, 28, 45, 16, 38, 38, 45, 23, 37, 25, 46, 25, 37, 22,\n",
       "       38, 30, 18, 44, 11, 39, 32, 26, 12,  7,  8,  7, 18, 23, 41, 37, 39,\n",
       "       40, 45, 38, 43, 48, 19, 13, 25, 11, 37,  9, 11, 42, 18, 49, 24, 40,\n",
       "       40, 17,  7, 31, 21, 37, 18, 15, 35, 49, 19, 41, 13, 42,  8, 30, 10,\n",
       "       35, 12, 25, 40, 16, 42, 40, 42, 15, 25, 33, 30, 40, 30, 20, 22,  7,\n",
       "       16,  8, 34,  8, 38,  8, 31,  9, 28, 23, 36,  8, 13, 38, 31, 29, 18,\n",
       "       42, 45, 34, 41, 37, 28, 24, 36, 45, 49, 45, 23, 14, 25, 30, 27, 44,\n",
       "       45, 19, 18, 24, 35, 34, 42])"
      ]
     },
     "execution_count": 119,
     "metadata": {},
     "output_type": "execute_result"
    }
   ],
   "source": [
    "np.random.randint(5, 50, 500)"
   ]
  },
  {
   "cell_type": "markdown",
   "metadata": {},
   "source": [
    "# Links Bibliotecas:\n",
    "\n",
    "https://pandas.pydata.org/\n",
    "\n",
    "https://numpy.org/pt/\n",
    "\n",
    "https://matplotlib.org/"
   ]
  },
  {
   "cell_type": "code",
   "execution_count": 97,
   "metadata": {},
   "outputs": [
    {
     "data": {
      "text/plain": [
       "array([ 5, 87, 34, 88, 84])"
      ]
     },
     "execution_count": 97,
     "metadata": {},
     "output_type": "execute_result"
    }
   ],
   "source": [
    "\n",
    "# Gerar arrays de números aleatórios\n",
    "array_5 = np.random.randint(1, 100, 5)  # Array com 5 elementos\n",
    "\n",
    "array_5\n",
    "\n",
    "\n",
    "\n"
   ]
  },
  {
   "cell_type": "code",
   "execution_count": 105,
   "metadata": {},
   "outputs": [
    {
     "data": {
      "text/plain": [
       "array([ 8, 38, 17, 27, 48, 49, 38, 22, 10, 22,  8, 24, 37, 32,  6, 41, 35,\n",
       "       44, 30, 27, 25, 21, 31, 36, 37, 24, 24, 34,  6, 32, 23, 32, 26, 40,\n",
       "       30,  9,  8, 49, 47, 49, 29,  8, 29, 47, 32, 33, 42, 23, 11, 40, 17,\n",
       "        7, 29, 26, 38,  5, 10, 12, 41, 31,  9, 48, 23, 40, 20, 18, 17, 11,\n",
       "       24, 47, 33, 21,  6, 39, 46, 24,  8, 14, 31, 43, 49,  9, 18, 15, 18,\n",
       "       11, 17, 26, 28, 40, 39, 42,  5, 47, 47,  6, 22, 44, 18, 44, 46, 27,\n",
       "       16, 15, 16, 27, 33, 38, 47, 21,  9, 17, 40, 21, 14, 25, 18, 27, 25,\n",
       "        7, 47, 11,  9, 46, 42,  7, 45, 21, 20, 44, 35, 11, 48, 23, 18, 45,\n",
       "       26, 12,  5, 12, 47, 32, 33, 42, 43, 18,  5, 39, 36,  9, 21, 27, 13,\n",
       "       25,  6, 43, 37,  7, 42, 19, 40, 49, 17, 46, 24,  5, 11, 31, 10, 35,\n",
       "       17, 48, 12, 28,  8, 49, 31, 41,  5, 42, 12, 42, 17, 43, 47, 19, 38,\n",
       "       10, 30, 32, 25, 21,  6, 35, 12, 27, 17, 48, 27, 32, 40, 30, 39,  9,\n",
       "       45, 13, 17, 47, 29, 35, 14, 16,  9, 42, 32, 24, 33, 35, 13, 42, 37,\n",
       "       40,  7, 10, 20, 24, 14, 25, 27, 13, 17,  6, 26,  9,  8, 10, 11, 37,\n",
       "       32, 22, 14, 30, 25, 36, 21, 24, 47, 26, 33, 40, 31,  7, 27, 31, 45,\n",
       "       10, 19, 27, 19, 18, 11,  9, 35, 15, 16, 16, 33, 32, 19, 34, 20, 18,\n",
       "       40, 15, 27, 35, 45, 35, 14, 45, 44, 16, 21, 43,  7, 25, 35, 41, 43,\n",
       "       18, 41,  5, 37, 21,  8, 18, 33, 38,  6, 35, 35,  8,  5, 11, 41,  7,\n",
       "       26, 31, 43, 35, 31, 19, 16, 37, 38, 10, 45, 37, 45,  9, 24, 19, 27,\n",
       "       32, 19, 16, 26, 41, 42, 38,  9, 14, 32, 43, 39, 40, 26, 27, 34, 16,\n",
       "       21,  7, 41, 48, 42, 48, 25, 11, 41, 42, 35, 35,  5,  5, 27, 14, 22,\n",
       "       21, 15, 26, 39, 17, 34, 49, 42,  7, 38, 27, 14, 49, 39, 45, 26, 30,\n",
       "       21, 11, 17, 18, 10, 15, 27,  7, 43, 13, 29,  7, 31, 21, 14, 48, 15,\n",
       "       31, 43, 18,  5, 12, 37, 39, 22,  8, 42, 19, 45, 43, 42, 18, 18, 17,\n",
       "       28, 41, 26,  7, 41, 14, 20, 19, 38, 23, 34, 22,  6, 38, 47, 25,  6,\n",
       "       45, 48, 33, 22, 16, 25, 15, 14, 45, 12, 31,  9, 46, 39, 45, 49, 25,\n",
       "       26, 31, 15,  9, 49, 19, 33,  5, 27, 48, 23, 28, 34, 49, 20, 40, 32,\n",
       "       36, 21,  6, 13, 32, 30, 27, 20, 20, 26, 49,  8, 41, 33,  7, 21,  7,\n",
       "       25,  8, 36,  9, 35, 40, 46, 32, 41, 21, 18, 33, 30, 20, 10, 25, 12,\n",
       "       23, 47, 40, 32, 44, 27,  9])"
      ]
     },
     "execution_count": 105,
     "metadata": {},
     "output_type": "execute_result"
    }
   ],
   "source": [
    "array = np.random.randint(5, 50, 500)  # Array com 50 elementos\n",
    "array"
   ]
  },
  {
   "cell_type": "code",
   "execution_count": 100,
   "metadata": {},
   "outputs": [
    {
     "data": {
      "text/html": [
       "<div>\n",
       "<style scoped>\n",
       "    .dataframe tbody tr th:only-of-type {\n",
       "        vertical-align: middle;\n",
       "    }\n",
       "\n",
       "    .dataframe tbody tr th {\n",
       "        vertical-align: top;\n",
       "    }\n",
       "\n",
       "    .dataframe thead th {\n",
       "        text-align: right;\n",
       "    }\n",
       "</style>\n",
       "<table border=\"1\" class=\"dataframe\">\n",
       "  <thead>\n",
       "    <tr style=\"text-align: right;\">\n",
       "      <th></th>\n",
       "      <th>Numeros</th>\n",
       "    </tr>\n",
       "  </thead>\n",
       "  <tbody>\n",
       "    <tr>\n",
       "      <th>0</th>\n",
       "      <td>5</td>\n",
       "    </tr>\n",
       "    <tr>\n",
       "      <th>1</th>\n",
       "      <td>87</td>\n",
       "    </tr>\n",
       "    <tr>\n",
       "      <th>2</th>\n",
       "      <td>34</td>\n",
       "    </tr>\n",
       "    <tr>\n",
       "      <th>3</th>\n",
       "      <td>88</td>\n",
       "    </tr>\n",
       "    <tr>\n",
       "      <th>4</th>\n",
       "      <td>84</td>\n",
       "    </tr>\n",
       "  </tbody>\n",
       "</table>\n",
       "</div>"
      ],
      "text/plain": [
       "   Numeros\n",
       "0        5\n",
       "1       87\n",
       "2       34\n",
       "3       88\n",
       "4       84"
      ]
     },
     "execution_count": 100,
     "metadata": {},
     "output_type": "execute_result"
    }
   ],
   "source": [
    "\n",
    "# Criar um DataFrame a partir de um array NumPy\n",
    "df = pd.DataFrame(array_5, columns=['Numeros'])\n",
    "df"
   ]
  },
  {
   "cell_type": "code",
   "execution_count": 101,
   "metadata": {},
   "outputs": [
    {
     "data": {
      "text/html": [
       "<div>\n",
       "<style scoped>\n",
       "    .dataframe tbody tr th:only-of-type {\n",
       "        vertical-align: middle;\n",
       "    }\n",
       "\n",
       "    .dataframe tbody tr th {\n",
       "        vertical-align: top;\n",
       "    }\n",
       "\n",
       "    .dataframe thead th {\n",
       "        text-align: right;\n",
       "    }\n",
       "</style>\n",
       "<table border=\"1\" class=\"dataframe\">\n",
       "  <thead>\n",
       "    <tr style=\"text-align: right;\">\n",
       "      <th></th>\n",
       "      <th>Numeros</th>\n",
       "    </tr>\n",
       "  </thead>\n",
       "  <tbody>\n",
       "    <tr>\n",
       "      <th>0</th>\n",
       "      <td>1</td>\n",
       "    </tr>\n",
       "    <tr>\n",
       "      <th>1</th>\n",
       "      <td>81</td>\n",
       "    </tr>\n",
       "    <tr>\n",
       "      <th>2</th>\n",
       "      <td>88</td>\n",
       "    </tr>\n",
       "    <tr>\n",
       "      <th>3</th>\n",
       "      <td>54</td>\n",
       "    </tr>\n",
       "    <tr>\n",
       "      <th>4</th>\n",
       "      <td>34</td>\n",
       "    </tr>\n",
       "    <tr>\n",
       "      <th>5</th>\n",
       "      <td>27</td>\n",
       "    </tr>\n",
       "    <tr>\n",
       "      <th>6</th>\n",
       "      <td>9</td>\n",
       "    </tr>\n",
       "    <tr>\n",
       "      <th>7</th>\n",
       "      <td>70</td>\n",
       "    </tr>\n",
       "    <tr>\n",
       "      <th>8</th>\n",
       "      <td>88</td>\n",
       "    </tr>\n",
       "    <tr>\n",
       "      <th>9</th>\n",
       "      <td>20</td>\n",
       "    </tr>\n",
       "    <tr>\n",
       "      <th>10</th>\n",
       "      <td>19</td>\n",
       "    </tr>\n",
       "    <tr>\n",
       "      <th>11</th>\n",
       "      <td>53</td>\n",
       "    </tr>\n",
       "    <tr>\n",
       "      <th>12</th>\n",
       "      <td>71</td>\n",
       "    </tr>\n",
       "    <tr>\n",
       "      <th>13</th>\n",
       "      <td>72</td>\n",
       "    </tr>\n",
       "    <tr>\n",
       "      <th>14</th>\n",
       "      <td>6</td>\n",
       "    </tr>\n",
       "    <tr>\n",
       "      <th>15</th>\n",
       "      <td>35</td>\n",
       "    </tr>\n",
       "    <tr>\n",
       "      <th>16</th>\n",
       "      <td>40</td>\n",
       "    </tr>\n",
       "    <tr>\n",
       "      <th>17</th>\n",
       "      <td>46</td>\n",
       "    </tr>\n",
       "    <tr>\n",
       "      <th>18</th>\n",
       "      <td>19</td>\n",
       "    </tr>\n",
       "    <tr>\n",
       "      <th>19</th>\n",
       "      <td>2</td>\n",
       "    </tr>\n",
       "    <tr>\n",
       "      <th>20</th>\n",
       "      <td>45</td>\n",
       "    </tr>\n",
       "    <tr>\n",
       "      <th>21</th>\n",
       "      <td>65</td>\n",
       "    </tr>\n",
       "    <tr>\n",
       "      <th>22</th>\n",
       "      <td>36</td>\n",
       "    </tr>\n",
       "    <tr>\n",
       "      <th>23</th>\n",
       "      <td>77</td>\n",
       "    </tr>\n",
       "    <tr>\n",
       "      <th>24</th>\n",
       "      <td>35</td>\n",
       "    </tr>\n",
       "    <tr>\n",
       "      <th>25</th>\n",
       "      <td>10</td>\n",
       "    </tr>\n",
       "    <tr>\n",
       "      <th>26</th>\n",
       "      <td>88</td>\n",
       "    </tr>\n",
       "    <tr>\n",
       "      <th>27</th>\n",
       "      <td>94</td>\n",
       "    </tr>\n",
       "    <tr>\n",
       "      <th>28</th>\n",
       "      <td>69</td>\n",
       "    </tr>\n",
       "    <tr>\n",
       "      <th>29</th>\n",
       "      <td>46</td>\n",
       "    </tr>\n",
       "    <tr>\n",
       "      <th>30</th>\n",
       "      <td>56</td>\n",
       "    </tr>\n",
       "    <tr>\n",
       "      <th>31</th>\n",
       "      <td>89</td>\n",
       "    </tr>\n",
       "    <tr>\n",
       "      <th>32</th>\n",
       "      <td>79</td>\n",
       "    </tr>\n",
       "    <tr>\n",
       "      <th>33</th>\n",
       "      <td>96</td>\n",
       "    </tr>\n",
       "    <tr>\n",
       "      <th>34</th>\n",
       "      <td>81</td>\n",
       "    </tr>\n",
       "    <tr>\n",
       "      <th>35</th>\n",
       "      <td>74</td>\n",
       "    </tr>\n",
       "    <tr>\n",
       "      <th>36</th>\n",
       "      <td>67</td>\n",
       "    </tr>\n",
       "    <tr>\n",
       "      <th>37</th>\n",
       "      <td>91</td>\n",
       "    </tr>\n",
       "    <tr>\n",
       "      <th>38</th>\n",
       "      <td>43</td>\n",
       "    </tr>\n",
       "    <tr>\n",
       "      <th>39</th>\n",
       "      <td>86</td>\n",
       "    </tr>\n",
       "    <tr>\n",
       "      <th>40</th>\n",
       "      <td>83</td>\n",
       "    </tr>\n",
       "    <tr>\n",
       "      <th>41</th>\n",
       "      <td>39</td>\n",
       "    </tr>\n",
       "    <tr>\n",
       "      <th>42</th>\n",
       "      <td>15</td>\n",
       "    </tr>\n",
       "    <tr>\n",
       "      <th>43</th>\n",
       "      <td>41</td>\n",
       "    </tr>\n",
       "    <tr>\n",
       "      <th>44</th>\n",
       "      <td>43</td>\n",
       "    </tr>\n",
       "    <tr>\n",
       "      <th>45</th>\n",
       "      <td>38</td>\n",
       "    </tr>\n",
       "    <tr>\n",
       "      <th>46</th>\n",
       "      <td>26</td>\n",
       "    </tr>\n",
       "    <tr>\n",
       "      <th>47</th>\n",
       "      <td>2</td>\n",
       "    </tr>\n",
       "    <tr>\n",
       "      <th>48</th>\n",
       "      <td>95</td>\n",
       "    </tr>\n",
       "    <tr>\n",
       "      <th>49</th>\n",
       "      <td>98</td>\n",
       "    </tr>\n",
       "  </tbody>\n",
       "</table>\n",
       "</div>"
      ],
      "text/plain": [
       "    Numeros\n",
       "0         1\n",
       "1        81\n",
       "2        88\n",
       "3        54\n",
       "4        34\n",
       "5        27\n",
       "6         9\n",
       "7        70\n",
       "8        88\n",
       "9        20\n",
       "10       19\n",
       "11       53\n",
       "12       71\n",
       "13       72\n",
       "14        6\n",
       "15       35\n",
       "16       40\n",
       "17       46\n",
       "18       19\n",
       "19        2\n",
       "20       45\n",
       "21       65\n",
       "22       36\n",
       "23       77\n",
       "24       35\n",
       "25       10\n",
       "26       88\n",
       "27       94\n",
       "28       69\n",
       "29       46\n",
       "30       56\n",
       "31       89\n",
       "32       79\n",
       "33       96\n",
       "34       81\n",
       "35       74\n",
       "36       67\n",
       "37       91\n",
       "38       43\n",
       "39       86\n",
       "40       83\n",
       "41       39\n",
       "42       15\n",
       "43       41\n",
       "44       43\n",
       "45       38\n",
       "46       26\n",
       "47        2\n",
       "48       95\n",
       "49       98"
      ]
     },
     "execution_count": 101,
     "metadata": {},
     "output_type": "execute_result"
    }
   ],
   "source": [
    "# Criar um DataFrame a partir de um array NumPy\n",
    "df = pd.DataFrame(array_50, columns=['Numeros'])\n",
    "df"
   ]
  },
  {
   "cell_type": "code",
   "execution_count": 102,
   "metadata": {},
   "outputs": [
    {
     "data": {
      "text/plain": [
       "array([ 10, 174,  68, 176, 168])"
      ]
     },
     "execution_count": 102,
     "metadata": {},
     "output_type": "execute_result"
    }
   ],
   "source": [
    "# Dobrar os números na lista usando métodos do NumPy\n",
    "array_dobrado = np.multiply(array_5, 2)\n",
    "\n",
    "array_dobrado"
   ]
  },
  {
   "cell_type": "code",
   "execution_count": 103,
   "metadata": {},
   "outputs": [
    {
     "data": {
      "text/plain": [
       "0     10\n",
       "1    174\n",
       "2     68\n",
       "3    176\n",
       "4    168\n",
       "Name: Numeros_dobrados, dtype: int32"
      ]
     },
     "execution_count": 103,
     "metadata": {},
     "output_type": "execute_result"
    }
   ],
   "source": [
    "# Criar uma série do Pandas a partir do array dobrado\n",
    "serie_dobrada = pd.Series(array_dobrado, name='Numeros_dobrados')\n",
    "serie_dobrada"
   ]
  }
 ],
 "metadata": {
  "colab": {
   "provenance": []
  },
  "kernelspec": {
   "display_name": "Python 3 (ipykernel)",
   "language": "python",
   "name": "python3"
  },
  "language_info": {
   "codemirror_mode": {
    "name": "ipython",
    "version": 3
   },
   "file_extension": ".py",
   "mimetype": "text/x-python",
   "name": "python",
   "nbconvert_exporter": "python",
   "pygments_lexer": "ipython3",
   "version": "3.11.4"
  }
 },
 "nbformat": 4,
 "nbformat_minor": 4
}
